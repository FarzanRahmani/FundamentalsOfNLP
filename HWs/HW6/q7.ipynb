{
  "cells": [
    {
      "cell_type": "markdown",
      "metadata": {
        "id": "UUiB9GhqAcmE"
      },
      "source": [
        "# Homework: Implementing and Training a Masked Language Model (MLM)\n",
        "\n",
        "## Overview\n",
        "In this assignment, you will implement a basic Masked Language Model (MLM) from scratch using PyTorch. This exercise will help you understand the architecture and training process of MLMs, which are crucial for many NLP tasks. You will use the `bookcorpus` dataset from the Hugging Face `datasets` library for training.\n",
        "\n",
        "## Objectives\n",
        "- Implement a Transformer-based MLM.\n",
        "- Preprocess and prepare a dataset for MLM training.\n",
        "- Train your model on the `bookcorpus` dataset.\n",
        "- Evaluate the model on masked sentence predictions.\n",
        "\n",
        "## Getting Started\n",
        "First, let's import all necessary libraries and set up our environment.\n"
      ]
    },
    {
      "cell_type": "code",
      "execution_count": null,
      "metadata": {
        "colab": {
          "base_uri": "https://localhost:8080/"
        },
        "id": "uhTgyiHRMjKm",
        "outputId": "68a0d79f-3747-48c6-89f2-2ccb61358e6c"
      },
      "outputs": [
        {
          "name": "stdout",
          "output_type": "stream",
          "text": [
            "Collecting datasets\n",
            "  Downloading datasets-2.19.1-py3-none-any.whl (542 kB)\n",
            "\u001b[2K     \u001b[90m━━━━━━━━━━━━━━━━━━━━━━━━━━━━━━━━━━━━━━━━\u001b[0m \u001b[32m542.0/542.0 kB\u001b[0m \u001b[31m4.7 MB/s\u001b[0m eta \u001b[36m0:00:00\u001b[0m\n",
            "\u001b[?25hRequirement already satisfied: filelock in /usr/local/lib/python3.10/dist-packages (from datasets) (3.14.0)\n",
            "Requirement already satisfied: numpy>=1.17 in /usr/local/lib/python3.10/dist-packages (from datasets) (1.25.2)\n",
            "Requirement already satisfied: pyarrow>=12.0.0 in /usr/local/lib/python3.10/dist-packages (from datasets) (14.0.2)\n",
            "Requirement already satisfied: pyarrow-hotfix in /usr/local/lib/python3.10/dist-packages (from datasets) (0.6)\n",
            "Collecting dill<0.3.9,>=0.3.0 (from datasets)\n",
            "  Downloading dill-0.3.8-py3-none-any.whl (116 kB)\n",
            "\u001b[2K     \u001b[90m━━━━━━━━━━━━━━━━━━━━━━━━━━━━━━━━━━━━━━━━\u001b[0m \u001b[32m116.3/116.3 kB\u001b[0m \u001b[31m12.2 MB/s\u001b[0m eta \u001b[36m0:00:00\u001b[0m\n",
            "\u001b[?25hRequirement already satisfied: pandas in /usr/local/lib/python3.10/dist-packages (from datasets) (2.0.3)\n",
            "Requirement already satisfied: requests>=2.19.0 in /usr/local/lib/python3.10/dist-packages (from datasets) (2.31.0)\n",
            "Requirement already satisfied: tqdm>=4.62.1 in /usr/local/lib/python3.10/dist-packages (from datasets) (4.66.4)\n",
            "Collecting xxhash (from datasets)\n",
            "  Downloading xxhash-3.4.1-cp310-cp310-manylinux_2_17_x86_64.manylinux2014_x86_64.whl (194 kB)\n",
            "\u001b[2K     \u001b[90m━━━━━━━━━━━━━━━━━━━━━━━━━━━━━━━━━━━━━━━━\u001b[0m \u001b[32m194.1/194.1 kB\u001b[0m \u001b[31m15.6 MB/s\u001b[0m eta \u001b[36m0:00:00\u001b[0m\n",
            "\u001b[?25hCollecting multiprocess (from datasets)\n",
            "  Downloading multiprocess-0.70.16-py310-none-any.whl (134 kB)\n",
            "\u001b[2K     \u001b[90m━━━━━━━━━━━━━━━━━━━━━━━━━━━━━━━━━━━━━━━━\u001b[0m \u001b[32m134.8/134.8 kB\u001b[0m \u001b[31m15.1 MB/s\u001b[0m eta \u001b[36m0:00:00\u001b[0m\n",
            "\u001b[?25hRequirement already satisfied: fsspec[http]<=2024.3.1,>=2023.1.0 in /usr/local/lib/python3.10/dist-packages (from datasets) (2023.6.0)\n",
            "Requirement already satisfied: aiohttp in /usr/local/lib/python3.10/dist-packages (from datasets) (3.9.5)\n",
            "Requirement already satisfied: huggingface-hub>=0.21.2 in /usr/local/lib/python3.10/dist-packages (from datasets) (0.23.1)\n",
            "Requirement already satisfied: packaging in /usr/local/lib/python3.10/dist-packages (from datasets) (24.0)\n",
            "Requirement already satisfied: pyyaml>=5.1 in /usr/local/lib/python3.10/dist-packages (from datasets) (6.0.1)\n",
            "Requirement already satisfied: aiosignal>=1.1.2 in /usr/local/lib/python3.10/dist-packages (from aiohttp->datasets) (1.3.1)\n",
            "Requirement already satisfied: attrs>=17.3.0 in /usr/local/lib/python3.10/dist-packages (from aiohttp->datasets) (23.2.0)\n",
            "Requirement already satisfied: frozenlist>=1.1.1 in /usr/local/lib/python3.10/dist-packages (from aiohttp->datasets) (1.4.1)\n",
            "Requirement already satisfied: multidict<7.0,>=4.5 in /usr/local/lib/python3.10/dist-packages (from aiohttp->datasets) (6.0.5)\n",
            "Requirement already satisfied: yarl<2.0,>=1.0 in /usr/local/lib/python3.10/dist-packages (from aiohttp->datasets) (1.9.4)\n",
            "Requirement already satisfied: async-timeout<5.0,>=4.0 in /usr/local/lib/python3.10/dist-packages (from aiohttp->datasets) (4.0.3)\n",
            "Requirement already satisfied: typing-extensions>=3.7.4.3 in /usr/local/lib/python3.10/dist-packages (from huggingface-hub>=0.21.2->datasets) (4.11.0)\n",
            "Requirement already satisfied: charset-normalizer<4,>=2 in /usr/local/lib/python3.10/dist-packages (from requests>=2.19.0->datasets) (3.3.2)\n",
            "Requirement already satisfied: idna<4,>=2.5 in /usr/local/lib/python3.10/dist-packages (from requests>=2.19.0->datasets) (3.7)\n",
            "Requirement already satisfied: urllib3<3,>=1.21.1 in /usr/local/lib/python3.10/dist-packages (from requests>=2.19.0->datasets) (2.0.7)\n",
            "Requirement already satisfied: certifi>=2017.4.17 in /usr/local/lib/python3.10/dist-packages (from requests>=2.19.0->datasets) (2024.2.2)\n",
            "Requirement already satisfied: python-dateutil>=2.8.2 in /usr/local/lib/python3.10/dist-packages (from pandas->datasets) (2.8.2)\n",
            "Requirement already satisfied: pytz>=2020.1 in /usr/local/lib/python3.10/dist-packages (from pandas->datasets) (2023.4)\n",
            "Requirement already satisfied: tzdata>=2022.1 in /usr/local/lib/python3.10/dist-packages (from pandas->datasets) (2024.1)\n",
            "Requirement already satisfied: six>=1.5 in /usr/local/lib/python3.10/dist-packages (from python-dateutil>=2.8.2->pandas->datasets) (1.16.0)\n",
            "Installing collected packages: xxhash, dill, multiprocess, datasets\n",
            "Successfully installed datasets-2.19.1 dill-0.3.8 multiprocess-0.70.16 xxhash-3.4.1\n"
          ]
        }
      ],
      "source": [
        "!pip install datasets"
      ]
    },
    {
      "cell_type": "code",
      "execution_count": null,
      "metadata": {
        "colab": {
          "base_uri": "https://localhost:8080/"
        },
        "id": "l7Yd4SioAKnl",
        "outputId": "65de301f-59d9-464c-d36f-35463eec2542"
      },
      "outputs": [
        {
          "name": "stdout",
          "output_type": "stream",
          "text": [
            "Using device: cuda\n"
          ]
        },
        {
          "name": "stderr",
          "output_type": "stream",
          "text": [
            "[nltk_data] Downloading package stopwords to /root/nltk_data...\n",
            "[nltk_data]   Unzipping corpora/stopwords.zip.\n"
          ]
        }
      ],
      "source": [
        "# Import libraries\n",
        "import torch\n",
        "from torch import nn, optim\n",
        "from torch.utils.data import DataLoader, Dataset\n",
        "from transformers import BertTokenizer\n",
        "from datasets import load_dataset\n",
        "from tqdm import tqdm\n",
        "import re\n",
        "import nltk\n",
        "from nltk.corpus import stopwords\n",
        "\n",
        "nltk.download('stopwords')\n",
        "\n",
        "# Check device availability\n",
        "\n",
        "# TODO :\n",
        "# Check whether the cuda is available (if not assign cpu)\n",
        "# device = None\n",
        "device = torch.device(\"cuda\" if torch.cuda.is_available() else \"cpu\")\n",
        "\n",
        "print(f\"Using device: {device}\")"
      ]
    },
    {
      "cell_type": "markdown",
      "metadata": {
        "id": "BGRFSqBnBZwS"
      },
      "source": [
        "## Dataset Preparation\n",
        "For this assignment, we will use the `bookcorpus` dataset available through Hugging Face's datasets library. You need to load the dataset, preprocess it for MLM, and create a PyTorch dataset class.\n",
        "\n",
        "### Load the Dataset\n",
        "First, load the `bookcorpus` dataset.\n"
      ]
    },
    {
      "cell_type": "code",
      "execution_count": null,
      "metadata": {
        "colab": {
          "background_save": true,
          "base_uri": "https://localhost:8080/",
          "height": 405,
          "referenced_widgets": [
            "7e0f6627e9844cd0adc45f67fda45b68",
            "14a6510ce16b49f1b8ea8b832e183f8e",
            "5f215bb829f74c92ba44d4ae5b9ed296",
            "af685459aaa743a49f751d32364a1a1a",
            "54f2957b64df418d9899b13f34dc0649",
            "462eaf0e4bbc414e9e1ee5989f0eaa26",
            "5f680238892e4bbfbbd518e938f6ee0c",
            "29c99dccc855446d8f1f140cd35196e4",
            "89c5107bbc7944cfb81667fda8dd16e9",
            "028f01bb39d2481c8095a5a62953af2e",
            "ec95553622114a40920d331da2183a5b",
            "55b95cec242e467db69944a66f10d1b4",
            "cfd4f00001884542af04346bd5a3ad00",
            "d24ff1e39c1948399ae970e7bc1fed88",
            "bda97e767ebe4c6789e78ff4cc767c58",
            "ecff5b78d62d4afe862de9f1d30b353c",
            "e6bf18b96b6f4d518c5b349c776bd44c",
            "718fa1db4d2f4e76ab3bd07247dc5877",
            "fdea36d7f55540f2a5fb4ceaf83542a0",
            "5443ba92f0644a27b8b65664d2a7b7ee",
            "7871f78b80694d9ba8f843376e2a02f3",
            "a6c5637059ba4656b2f02d71955ad756",
            "5940584e1de8420bbc13884386aaa1b4",
            "fdd8806ac4b44801a0b6de04712212c1",
            "96085b9de6b94622bfce6127c742f434",
            "dcf64dcba48444bfbf87277fbf5a6f90",
            "b4b5d0cbfdcc4595aeb1ef15476ba6c3",
            "3e42411fae324eb7b57050b48d9bc3b2",
            "ebe2d21411c0498cb3712b48f3d1ce40",
            "d879c34ffb294749a7e4fbbb0e8dc663",
            "e7fbe3b3b6e8423da0e33b4e58c21ab6",
            "ba23d2be36b54207b84d4da6a9021780",
            "6f5eeeea8ed14b0cb590540616c291f6",
            "8b5f09347d154fbb9eb24c8a6657403a",
            "e8e2c2fbde164b88a54cc561c370e1a0",
            "fc588a41e8a94b30a8d45b86185c2388",
            "0ed5e3d97c7948cc99e2c243d1e7a4cd",
            "402127c3ee9548e1a0fcb606fc89e286",
            "e18ebeecd6214752a96a9bdb1d016b07",
            "109ee6747eff4d68a5812f21ca393e40",
            "d6a7394435634652a408d0211134f0b9",
            "b6b5abe4392743eb815ca58be6ed4cea",
            "7cf2654d5e1c4898857cc09df6ef6f68",
            "7e5919bc08be45b497425a29369eff40",
            "affad65f657d492193bc2f9fe1518383",
            "5937fcae03d94aec835039ebd2cb4e91",
            "1671d507a3d84326a53089f7e802de31",
            "fc35c3fef5104cb9a39e6df7b1b10177",
            "8220dfcf85a64cf282287b072880bf5b",
            "cbb0e2b4d99b413a969c30f77eddb88f",
            "f3048de8f5a04bb9afb6327a5ea37f91",
            "0bdee96704ed4f3f8655f7a7658aeef7",
            "63e0a329c53a47bf9224df64c1ba9714",
            "1633969234a149fd909f8b2afe88e8ac",
            "9d18763688334fbe90b88579e3ac24e6",
            "9e761cbe75214d39bf329a6755054080",
            "753c36685a1e48a88c9e8fa19d1891e3",
            "52cbaa4b8e45406f9e32fd1a48903a87",
            "22e074ebb87e452998cdfbd1a1062239",
            "adbb9bd758e942fba8a3f5621307be07",
            "bfd7873654f44eb49837a1e56481736c"
          ]
        },
        "id": "r72aUoBtBaoD",
        "outputId": "6b3dd080-bfe3-44f3-dc87-b91c04778353"
      },
      "outputs": [
        {
          "name": "stderr",
          "output_type": "stream",
          "text": [
            "/usr/local/lib/python3.10/dist-packages/huggingface_hub/utils/_token.py:89: UserWarning: \n",
            "The secret `HF_TOKEN` does not exist in your Colab secrets.\n",
            "To authenticate with the Hugging Face Hub, create a token in your settings tab (https://huggingface.co/settings/tokens), set it as secret in your Google Colab and restart your session.\n",
            "You will be able to reuse this secret in all of your notebooks.\n",
            "Please note that authentication is recommended but still optional to access public models or datasets.\n",
            "  warnings.warn(\n"
          ]
        },
        {
          "data": {
            "application/vnd.jupyter.widget-view+json": {
              "model_id": "7e0f6627e9844cd0adc45f67fda45b68",
              "version_major": 2,
              "version_minor": 0
            },
            "text/plain": [
              "Downloading data:   0%|          | 0.00/312M [00:00<?, ?B/s]"
            ]
          },
          "metadata": {},
          "output_type": "display_data"
        },
        {
          "data": {
            "application/vnd.jupyter.widget-view+json": {
              "model_id": "55b95cec242e467db69944a66f10d1b4",
              "version_major": 2,
              "version_minor": 0
            },
            "text/plain": [
              "Downloading data:   0%|          | 0.00/312M [00:00<?, ?B/s]"
            ]
          },
          "metadata": {},
          "output_type": "display_data"
        },
        {
          "data": {
            "application/vnd.jupyter.widget-view+json": {
              "model_id": "cfd4f00001884542af04346bd5a3ad00",
              "version_major": 2,
              "version_minor": 0
            },
            "text/plain": [
              "Downloading data:   0%|          | 0.00/313M [00:00<?, ?B/s]"
            ]
          },
          "metadata": {},
          "output_type": "display_data"
        },
        {
          "data": {
            "application/vnd.jupyter.widget-view+json": {
              "model_id": "d24ff1e39c1948399ae970e7bc1fed88",
              "version_major": 2,
              "version_minor": 0
            },
            "text/plain": [
              "Downloading data:   0%|          | 0.00/313M [00:00<?, ?B/s]"
            ]
          },
          "metadata": {},
          "output_type": "display_data"
        },
        {
          "data": {
            "application/vnd.jupyter.widget-view+json": {
              "model_id": "bda97e767ebe4c6789e78ff4cc767c58",
              "version_major": 2,
              "version_minor": 0
            },
            "text/plain": [
              "Downloading data:   0%|          | 0.00/311M [00:00<?, ?B/s]"
            ]
          },
          "metadata": {},
          "output_type": "display_data"
        },
        {
          "data": {
            "application/vnd.jupyter.widget-view+json": {
              "model_id": "ecff5b78d62d4afe862de9f1d30b353c",
              "version_major": 2,
              "version_minor": 0
            },
            "text/plain": [
              "Downloading data:   0%|          | 0.00/312M [00:00<?, ?B/s]"
            ]
          },
          "metadata": {},
          "output_type": "display_data"
        },
        {
          "data": {
            "application/vnd.jupyter.widget-view+json": {
              "model_id": "e6bf18b96b6f4d518c5b349c776bd44c",
              "version_major": 2,
              "version_minor": 0
            },
            "text/plain": [
              "Downloading data:   0%|          | 0.00/313M [00:00<?, ?B/s]"
            ]
          },
          "metadata": {},
          "output_type": "display_data"
        },
        {
          "data": {
            "application/vnd.jupyter.widget-view+json": {
              "model_id": "718fa1db4d2f4e76ab3bd07247dc5877",
              "version_major": 2,
              "version_minor": 0
            },
            "text/plain": [
              "Downloading data:   0%|          | 0.00/313M [00:00<?, ?B/s]"
            ]
          },
          "metadata": {},
          "output_type": "display_data"
        },
        {
          "data": {
            "application/vnd.jupyter.widget-view+json": {
              "model_id": "ebe2d21411c0498cb3712b48f3d1ce40",
              "version_major": 2,
              "version_minor": 0
            },
            "text/plain": [
              "Downloading data:   0%|          | 0.00/312M [00:00<?, ?B/s]"
            ]
          },
          "metadata": {},
          "output_type": "display_data"
        },
        {
          "data": {
            "application/vnd.jupyter.widget-view+json": {
              "model_id": "109ee6747eff4d68a5812f21ca393e40",
              "version_major": 2,
              "version_minor": 0
            },
            "text/plain": [
              "Downloading data:   0%|          | 0.00/209M [00:00<?, ?B/s]"
            ]
          },
          "metadata": {},
          "output_type": "display_data"
        },
        {
          "data": {
            "application/vnd.jupyter.widget-view+json": {
              "model_id": "f3048de8f5a04bb9afb6327a5ea37f91",
              "version_major": 2,
              "version_minor": 0
            },
            "text/plain": [
              "Generating train split:   0%|          | 0/74004228 [00:00<?, ? examples/s]"
            ]
          },
          "metadata": {},
          "output_type": "display_data"
        },
        {
          "name": "stdout",
          "output_type": "stream",
          "text": [
            "Dataset loaded successfully.\n"
          ]
        }
      ],
      "source": [
        "# TO DO:\n",
        "# load bookcorpus dataset\n",
        "# we just need train split of it.\n",
        "# dataset = None\n",
        "dataset = load_dataset(\"bookcorpus\", split=\"train\")\n",
        "# dataset = load_dataset(\"bookcorpus\", split=\"train[:100000]\")\n",
        "print(\"Dataset loaded successfully.\")"
      ]
    },
    {
      "cell_type": "code",
      "execution_count": null,
      "metadata": {
        "id": "4rJvUO9UB3on"
      },
      "outputs": [],
      "source": [
        "# Shuffle the dataset and reduce its size\n",
        "dataset = dataset.shuffle(seed=42).select(range(100000))\n",
        "print(\"Reduced dataset loaded successfully. Total samples:\", len(dataset))"
      ]
    },
    {
      "cell_type": "markdown",
      "metadata": {
        "id": "zIugmLM3B69y"
      },
      "source": [
        "### Preprocess the Data\n",
        "To train our MLM, we need to preprocess our textual data appropriately. This preprocessing involves tokenizing our text into tokens that the MLM can understand and randomly masking some of these tokens to create input-output pairs for our model to learn from."
      ]
    },
    {
      "cell_type": "code",
      "execution_count": null,
      "metadata": {
        "colab": {
          "background_save": true
        },
        "id": "YGBnh3WpB7jQ"
      },
      "outputs": [],
      "source": [
        "def preprocess_text(text):\n",
        "    # Convert text to lowercase\n",
        "    text = text.lower()\n",
        "\n",
        "    # Remove special characters and punctuation\n",
        "    text = re.sub(r'[^a-zA-Z\\s]', '', text)\n",
        "\n",
        "    # Remove extra spaces\n",
        "    text = re.sub(r'\\s+', ' ', text).strip()\n",
        "\n",
        "    # Remove stopwords # some example of stopwords: a, an, the, and, but, if, ...\n",
        "    stop_words = set(stopwords.words('english'))\n",
        "    text = ' '.join(word for word in text.split() if word not in stop_words)\n",
        "\n",
        "    return text\n"
      ]
    },
    {
      "cell_type": "markdown",
      "metadata": {
        "id": "AvM-rhA7CEbw"
      },
      "source": [
        "### TextDataset Class\n",
        "Below is the `TextDataset` class where you will implement the tokenization, and specifically, the logic to create the masking array. The class should take a list of texts and a tokenizer as input. It should tokenize the texts, apply the masking randomly to 15% of the tokens, and prepare the input and label pairs for the MLM.\n"
      ]
    },
    {
      "cell_type": "code",
      "execution_count": null,
      "metadata": {
        "id": "G85WMXLpCGic"
      },
      "outputs": [],
      "source": [
        "# TextDataset Class\n",
        "class TextDataset(Dataset):\n",
        "    def __init__(self, dataset, tokenizer, max_len):\n",
        "        self.tokenizer = tokenizer\n",
        "        self.dataset = dataset\n",
        "        self.max_len = max_len\n",
        "        self.inputs = []\n",
        "\n",
        "        for index, text in tqdm(enumerate(self.dataset['text']), total = len(self.dataset['text'])):\n",
        "            # clean the text\n",
        "            text = preprocess_text(text)\n",
        "\n",
        "            # Tokenize the text\n",
        "            tokenized_text = self.tokenizer.encode_plus(\n",
        "                text,\n",
        "                max_length=self.max_len,\n",
        "                padding='max_length',\n",
        "                truncation=True,\n",
        "                return_tensors='pt'\n",
        "            )\n",
        "            input_ids = tokenized_text['input_ids'].squeeze(0) # batched: [1, ...] --> [...] \n",
        "            labels = input_ids.clone()\n",
        "\n",
        "            # Create random array to determine which tokens to mask\n",
        "            rand = torch.rand(input_ids.shape)\n",
        "\n",
        "            # To Do: Implement the masking logic here\n",
        "            # Create a mask array - mask 15% of tokens that are not special tokens\n",
        "            # special tokens are: PAD Token, CLS Token, SEP Token\n",
        "            # Your code here: mask_arr = ...\n",
        "            # special_tokens = [self.tokenizer.pad_token_id, self.tokenizer.cls_token_id, self.tokenizer.sep_token_id]\n",
        "            # mask_arr = (rand < 0.15) & (input_ids != special_tokens)\n",
        "            mask_arr = (rand < 0.15) * (input_ids != self.tokenizer.pad_token_id) * (input_ids != self.tokenizer.cls_token_id) * (input_ids != self.tokenizer.sep_token_id)\n",
        "\n",
        "            labels[~mask_arr] = -100  # We only compute loss on masked tokens # The ~ operator in Python is the bitwise negation operator. In this case, it is used to invert the boolean values in the mask_arr\n",
        "            ### loss_function = nn.CrossEntropyLoss(ignore_index=-100)\n",
        "\n",
        "            # 80% of the time, we replace masked input tokens with the mask token\n",
        "            indices_replaced = torch.bernoulli(torch.full(labels.shape, 0.8)).bool() & mask_arr # Draws binary random numbers (0 or 1) from a Bernoulli distribution.\n",
        "            input_ids[indices_replaced] = self.tokenizer.mask_token_id\n",
        "\n",
        "            # 10% of the time, replace masked input tokens with random words\n",
        "            indices_random = torch.bernoulli(torch.full(labels.shape, 0.1)).bool() & mask_arr & ~indices_replaced\n",
        "            random_words = torch.randint(len(self.tokenizer), labels.shape, dtype=torch.long)\n",
        "            input_ids[indices_random] = random_words[indices_random]\n",
        "\n",
        "            # 10% of the time, left unchanged\n",
        "            #### DO NOTHING\n",
        "\n",
        "            # Add the prepared inputs and labels to the list\n",
        "            self.inputs.append({\"input_ids\": input_ids, \"labels\": labels})\n",
        "            # self.inputs.append({\"input_ids\": input_ids, \"attention_mask\": tokenized_text['attention_mask'].squeeze(0), \"labels\": labels})\n",
        "\n",
        "    def __len__(self):\n",
        "        return len(self.inputs)\n",
        "\n",
        "    def __getitem__(self, idx):\n",
        "        return self.inputs[idx]\n"
      ]
    },
    {
      "cell_type": "markdown",
      "metadata": {
        "id": "5LNQPANEEC6K"
      },
      "source": [
        "## Understanding the Masking Strategy in Masked Language Models\n",
        "\n",
        "### Question Overview\n",
        "\n",
        "In the training process of Masked Language Models (MLMs) such as BERT, a specific strategy for masking tokens is commonly employed:\n",
        "- **80%** of the masked tokens are replaced with the `[MASK]` token.\n",
        "- **10%** are replaced with random words.\n",
        "- **10%** are left unchanged.\n",
        "\n",
        "This methodical approach to token masking plays a crucial role in how the model learns during the pre-training phase.\n",
        "\n",
        "### Detailed Questions\n",
        "\n",
        "Please provide a comprehensive explanation addressing the rationale behind this masking strategy. Your response should cover the following aspects:\n",
        "\n",
        "1. **80% Masked with `[MASK]` Token:**\n",
        "   - **Why are 80% of the masked tokens replaced with the `[MASK]` token?**\n",
        "   - Discuss how this percentage influences the model's focus during training and its ability to learn contextual information from surrounding tokens.\n",
        "\n",
        "2. **10% Replaced with Random Words:**\n",
        "   - **Why are 10% of the masked tokens randomly replaced with other words from the vocabulary?**\n",
        "   - Analyze the impact of this strategy on the model's robustness and its handling of unexpected or novel input during real-world applications.\n",
        "\n",
        "3. **10% Left Unchanged:**\n",
        "   - **Why are the remaining 10% of the masked tokens left as is, unchanged?**\n",
        "   - Consider how leaving some masked tokens unchanged might help the model generalize better and avoid overfitting to the `[MASK]` token specifically.\n",
        "\n",
        "\n"
      ]
    },
    {
      "cell_type": "markdown",
      "metadata": {
        "id": "EZdnzQ3pTYGH"
      },
      "source": [
        "### Answers\n",
        "\n",
        "Explanation for the masking strategy in MLMs:\n",
        "\n",
        "1. 80% Masked with `[MASK]` Token: This helps the model learn to predict the missing words based on context.\n",
        "\n",
        "    - Replacing 80% of the masked tokens with the `[MASK]` token allows the model to focus on learning the contextual information from the surrounding words. By masking a significant portion of the input, the model is forced to rely heavily on the context to predict the masked tokens accurately.\n",
        "\n",
        "    - This percentage strikes a balance between providing enough masked tokens for the model to learn and leaving enough unmasked tokens to provide the necessary context.\n",
        "\n",
        "\n",
        "2. 10% Replaced with Random Words: Introduces noise, making the model robust and improving its ability to handle varied inputs.\n",
        "\n",
        "    - Replacing 10% of the masked tokens with random words from the vocabulary introduces noise and diversity in the input, which helps the model become more robust and better equipped to handle unexpected or novel inputs during real-world applications.\n",
        "    \n",
        "    - This strategy exposes the model to a wider range of scenarios, preventing it from overly relying on specific patterns or biases present in the training data.\n",
        "\n",
        "\n",
        "3. 10% Left Unchanged: Prevents the model from overfitting to the `[MASK]` token and encourages understanding of the context even when tokens are not masked.\n",
        "\n",
        "    - Leaving 10% of the masked tokens unchanged serves two purposes:\n",
        "\n",
        "        - It provides a baseline for the model to learn when no masking is required, helping it avoid over-reliance on the `[MASK]` token.\n",
        "\n",
        "        - It allows the model to generalize better by learning to handle both masked and unmasked tokens, preventing overfitting to the `[MASK]` token specifically.\n"
      ]
    },
    {
      "cell_type": "markdown",
      "metadata": {
        "id": "80mYw2VKEqNb"
      },
      "source": [
        "## Transformer Model Components Explanation\n",
        "\n",
        "In this section of the assignment, you will implement the core components of a Transformer model tailored for Masked Language Modeling (MLM). Understanding the functionality of each component is crucial for your implementation. Below, we detail the roles and responsibilities of each component within the Transformer architecture.\n",
        "\n",
        "### Transformer Block\n",
        "\n",
        "The Transformer Block is the fundamental building unit of a Transformer model. Each block consists of two main parts: a multi-head self-attention mechanism and a position-wise feed-forward network.\n",
        "\n",
        "- **Multi-Head Self-Attention:** This component allows the model to dynamically focus on different parts of the input sequence, learning nuanced dependencies between words regardless of their positional distance from each other. It helps the model understand the context and relationships within the text.\n",
        "- **Feed-Forward Network:** Following the attention mechanism, each position is passed through the same feed-forward network independently. This network transforms the attended features to help in predicting the correct output tokens.\n",
        "- **Normalization and Dropout:** Each sub-layer (attention and feed-forward) in the block includes a residual connection followed by layer normalization. Dropout is applied for regularization to prevent overfitting.\n",
        "\n",
        "### Encoder\n",
        "\n",
        "The Encoder aggregates multiple Transformer Blocks to process the input tokens. Its main responsibilities include:\n",
        "\n",
        "- **Embedding Inputs:** Initially, input tokens are converted into embeddings that represent them in a continuous vector space. Positional embeddings are added to these token embeddings to retain positional information.\n",
        "- **Processing through Transformer Blocks:** The embedded input tokens are then sequentially passed through multiple Transformer Blocks. Each block processes the input and passes its output to the next block, iteratively refining the representations.\n",
        "- **Output:** The final output of the Encoder is a sequence of vectors, where each vector is a rich representation of the corresponding input token, considering the entire input sequence context.\n",
        "\n",
        "### MLM Model\n",
        "\n",
        "The MLM Model is the overarching architecture that utilizes the Encoder for the MLM task. It is specifically designed for predicting masked tokens, replicating the pre-training objective of models like BERT.\n",
        "\n",
        "- **Encoder Utilization:** The MLM Model embeds the input tokens and passes them through the Encoder to obtain contextualized token representations.\n",
        "- **Prediction Layer:** On top of the Encoder's output, a linear layer is used to map the high-dimensional token representations back to the vocabulary space. This setup predicts the original token from its masked version or context.\n",
        "- **Training Objective:** The primary goal during training is to minimize the prediction error of the masked tokens, encouraging the model to understand and generate language effectively.\n",
        "\n",
        "### Implementation Notes\n",
        "\n",
        "As you implement these components:\n",
        "- Focus on how each part contributes to handling and transforming the input data into useful representations.\n",
        "- Consider the flow of data through the model and how each component’s output serves as input to the next.\n",
        "- Ensure your implementation supports backpropagation, as this will be crucial for training the model.\n",
        "\n",
        "In the upcoming coding tasks, you will implement these components based on the provided templates and hints. This hands-on experience will deepen your understanding of how modern NLP models leverage Transformer architectures for complex language understanding tasks.\n"
      ]
    },
    {
      "cell_type": "code",
      "execution_count": null,
      "metadata": {
        "id": "-qrEku6mEEKg"
      },
      "outputs": [],
      "source": [
        "# Transformer Block\n",
        "class TransformerBlock(nn.Module):\n",
        "    def __init__(self, embed_size, heads, dropout, forward_expansion):\n",
        "        super(TransformerBlock, self).__init__()\n",
        "        self.attention = nn.MultiheadAttention(embed_dim=embed_size, num_heads=heads) # Multi-Head attention\n",
        "        self.norm1 = nn.LayerNorm(embed_size)\n",
        "        self.norm2 = nn.LayerNorm(embed_size)\n",
        "\n",
        "        # Feed-forward layer\n",
        "        self.feed_forward = nn.Sequential(\n",
        "            nn.Linear(embed_size, forward_expansion * embed_size),\n",
        "            nn.ReLU(),\n",
        "            # To Do: Add the final linear layer (hint: the output size should be the same as embed_size)\n",
        "            nn.Linear(forward_expansion * embed_size, embed_size)\n",
        "        )\n",
        "        self.dropout = nn.Dropout(dropout)\n",
        "\n",
        "    def forward(self, value, key, query, mask):\n",
        "        attention = self.attention(query, key, value, attn_mask=mask)[0] # Tuple[Tensor, Optional[Tensor]]\n",
        "        x = self.dropout(self.norm1(attention + query)) # add (+ query) & norm\n",
        "        forward = self.feed_forward(x)\n",
        "        out = self.dropout(self.norm2(forward + x)) # add & norm\n",
        "        return out\n",
        "\n",
        "# Encoder\n",
        "class Encoder(nn.Module):\n",
        "    def __init__(self, vocab_size, embed_size, num_layers, heads, device, forward_expansion, dropout, max_length):\n",
        "        super(Encoder, self).__init__()\n",
        "        self.embed_size = embed_size\n",
        "        self.device = device\n",
        "        self.word_embedding = nn.Embedding(vocab_size, embed_size) # input embedding\n",
        "        self.position_embedding = nn.Embedding(max_length, embed_size) # positional encoding\n",
        "\n",
        "        self.layers = nn.ModuleList(\n",
        "            [TransformerBlock(embed_size, heads, dropout, forward_expansion) for _ in range(num_layers)]\n",
        "        )\n",
        "        self.dropout = nn.Dropout(dropout) # initial dropout\n",
        "\n",
        "    def forward(self, x, mask):\n",
        "        N, seq_length = x.shape\n",
        "        positions = torch.arange(0, seq_length).unsqueeze(0).repeat(N, 1).to(self.device)\n",
        "        out = self.dropout(self.word_embedding(x) + self.position_embedding(positions))\n",
        "\n",
        "        for layer in self.layers: # attention layers\n",
        "            out = layer(out, out, out, mask) # query=key=value --> self-attention\n",
        "\n",
        "        return out\n",
        "\n",
        "# MLM Model\n",
        "class MLM(nn.Module):\n",
        "    def __init__(self, vocab_size, embed_size, num_layers, heads, forward_expansion, dropout, device, max_length):\n",
        "        super(MLM, self).__init__()\n",
        "        self.encoder = Encoder(vocab_size, embed_size, num_layers, heads, device, forward_expansion, dropout, max_length)\n",
        "        # To Do: Initialize an output layer for predicting masked tokens (hint: use a linear layer)\n",
        "        # self.fc_out = None\n",
        "        self.fc_out = nn.Linear(embed_size, vocab_size) # multi-class classification on Vocab\n",
        "        self.device = device\n",
        "\n",
        "    def forward(self, x, mask):\n",
        "        out = self.encoder(x, mask)\n",
        "        # To Do: Apply the output layer to 'out' (hint: remember to reshape if needed before applying it)\n",
        "        # out = None\n",
        "        # out = out.view(out.size(0), -1)  # Reshaping for the output layer\n",
        "        out = self.fc_out(out)\n",
        "        return out\n"
      ]
    },
    {
      "cell_type": "markdown",
      "metadata": {
        "id": "kD5xIba-JgYL"
      },
      "source": [
        "## Training the Model\n",
        "\n",
        "Training the MLM is a crucial step where the model learns to predict the masked tokens based on the context provided by the surrounding words. This process involves passing batches of preprocessed data through the model, calculating the loss, and updating the model parameters to minimize this loss.\n",
        "\n",
        "### Setting Up the Training Loop\n",
        "\n",
        "The objective of the training loop is to iteratively improve the model's predictions. During each epoch, the model will process all batches of data, calculate the loss for each batch, and update its weights. You will complete parts of the training function to ensure proper loss calculation and parameter optimization.\n",
        "\n",
        "**To Do:**\n",
        "- Complete the loss calculation using the appropriate loss function.\n",
        "- Implement the steps for backpropagation and updating model parameters.\n",
        "- Monitor and print the average loss after each epoch to track the training progress.\n",
        "\n",
        "In the next section, you will find a partially completed training function. Fill in the missing parts as instructed to complete the training loop.\n"
      ]
    },
    {
      "cell_type": "code",
      "execution_count": null,
      "metadata": {
        "id": "LBJd4nRPIXwC"
      },
      "outputs": [],
      "source": [
        "def train(model, data_loader, optimizer, device, epochs=10):\n",
        "    model = model.to(device)\n",
        "    model.train()  # Set the model to training mode\n",
        "    total_loss = 0\n",
        "\n",
        "    # To Do : Initialize the loss function with ignore_index set to -100\n",
        "    # Hint: CrossEntropyLoss might be appropriate here. (because it is multi class classifcation)\n",
        "    # loss_function = None\n",
        "    loss_function = nn.CrossEntropyLoss(ignore_index=-100)\n",
        "\n",
        "    for epoch in range(epochs):\n",
        "        progress_bar = tqdm(enumerate(data_loader), total=len(data_loader), desc=f\"Epoch {epoch + 1}/{epochs}\")\n",
        "        for i, batch in progress_bar:\n",
        "            input_ids, labels = batch['input_ids'].to(device), batch['labels'].to(device)\n",
        "\n",
        "            # Forward pass\n",
        "            outputs = model(input_ids, None)  # Assuming mask=None for simplicity\n",
        "\n",
        "            # To Do: Calculate loss. Attention to shapes of the outputs and labels\n",
        "            # loss = None\n",
        "            loss = loss_function(outputs.view(-1, outputs.size(-1)), labels.view(-1))\n",
        "\n",
        "            # Backpropagation\n",
        "            optimizer.zero_grad()  # Clear existing gradients\n",
        "            loss.backward()  # Compute gradient of loss with respect to model parameters\n",
        "            optimizer.step()  # Update model parameters\n",
        "\n",
        "            total_loss += loss.item()\n",
        "\n",
        "        average_loss = total_loss / len(data_loader)\n",
        "        print(f\"Epoch {epoch + 1}/{epochs}, Average Loss: {average_loss}\")\n",
        "        total_loss = 0  # Reset total loss for the next epoch\n"
      ]
    },
    {
      "cell_type": "markdown",
      "metadata": {
        "id": "MfcZA_JAKBD1"
      },
      "source": [
        "## Model Evaluation\n",
        "\n",
        "Evaluating the performance of your Masked Language Model (MLM) is essential to understand how well it has learned to predict masked tokens. This evaluation typically involves using the model to predict tokens in place of `[MASK]` and comparing these predictions to the actual tokens. This step is crucial for assessing the model's ability to generalize to unseen data and for verifying its learning efficacy.\n",
        "\n",
        "### Setting Up the Evaluation Function\n",
        "\n",
        "The evaluation function will test the model's ability to fill in masked tokens correctly within given text examples. You will complete parts of this function to ensure the model can perform forward passes on input data and process the output to generate human-readable predictions.\n",
        "\n",
        "**To Do:**\n",
        "- Implement the logic to convert model predictions to token IDs.\n",
        "- Translate these token IDs back to words using the tokenizer.\n",
        "\n",
        "\n"
      ]
    },
    {
      "cell_type": "code",
      "execution_count": null,
      "metadata": {
        "id": "ixGnC8fRKCwb"
      },
      "outputs": [],
      "source": [
        "def evaluate(model, text, tokenizer, device):\n",
        "    model.eval()  # Set the model to evaluation mode\n",
        "\n",
        "    # Tokenize the input text where `[MASK]` is the token to predict\n",
        "    tokenized_input = tokenizer.encode_plus(text, return_tensors='pt', max_length=512, truncation=True, padding='max_length')\n",
        "    input_ids = tokenized_input['input_ids'].to(device)\n",
        "\n",
        "    # Identify the position of the `[MASK]` token\n",
        "    mask_token_index = torch.where(input_ids == tokenizer.mask_token_id)[1]\n",
        "\n",
        "    with torch.no_grad():  # No need to calculate gradients for evaluation\n",
        "        # Forward pass\n",
        "        outputs = model(input_ids, None)\n",
        "\n",
        "        # Get the logits and find the 10 tokens with the highest probability at the mask position\n",
        "        # To Do: Implement the logic to extract the 10 token IDs with the highest probability for the mask position\n",
        "        # use torch.topk function for mask token logits\n",
        "        # mask_token_logits = None\n",
        "        # top_k_probabilities, top_k_indices = None\n",
        "        mask_token_logits = outputs[0, mask_token_index] # 0 --> batch\n",
        "        top_k_probabilities, top_k_indices = torch.topk(mask_token_logits, 10)\n",
        "\n",
        "        # Convert the predicted token IDs to words using the tokenizer\n",
        "        top_k_tokens = [tokenizer.convert_ids_to_tokens(indices.cpu().numpy()) for indices in top_k_indices]\n",
        "\n",
        "    return top_k_tokens\n",
        "\n"
      ]
    },
    {
      "cell_type": "markdown",
      "metadata": {
        "id": "y3cCR132LOXo"
      },
      "source": [
        "## Starting the MLM Training and Evaluation with bookcorpus Dataset"
      ]
    },
    {
      "cell_type": "code",
      "execution_count": 10,
      "metadata": {
        "colab": {
          "base_uri": "https://localhost:8080/",
          "height": 158,
          "referenced_widgets": [
            "45bb194a840246e982819a6bf129df2f",
            "6a23a67b6a7b4d249e581857f8b421f1",
            "345fccb46579433da66e75c6d976eeba",
            "29c20dbf121e4df78a36a3e84698dab9"
          ]
        },
        "id": "F0lPeJamMJXR",
        "outputId": "b75f725b-eef2-479b-97bd-1234c9fbd2c6"
      },
      "outputs": [
        {
          "data": {
            "application/vnd.jupyter.widget-view+json": {
              "model_id": "45bb194a840246e982819a6bf129df2f",
              "version_major": 2,
              "version_minor": 0
            },
            "text/plain": [
              "tokenizer_config.json:   0%|          | 0.00/48.0 [00:00<?, ?B/s]"
            ]
          },
          "metadata": {},
          "output_type": "display_data"
        },
        {
          "data": {
            "application/vnd.jupyter.widget-view+json": {
              "model_id": "6a23a67b6a7b4d249e581857f8b421f1",
              "version_major": 2,
              "version_minor": 0
            },
            "text/plain": [
              "vocab.txt:   0%|          | 0.00/232k [00:00<?, ?B/s]"
            ]
          },
          "metadata": {},
          "output_type": "display_data"
        },
        {
          "data": {
            "application/vnd.jupyter.widget-view+json": {
              "model_id": "345fccb46579433da66e75c6d976eeba",
              "version_major": 2,
              "version_minor": 0
            },
            "text/plain": [
              "tokenizer.json:   0%|          | 0.00/466k [00:00<?, ?B/s]"
            ]
          },
          "metadata": {},
          "output_type": "display_data"
        },
        {
          "name": "stderr",
          "output_type": "stream",
          "text": [
            "/usr/local/lib/python3.10/dist-packages/huggingface_hub/file_download.py:1132: FutureWarning: `resume_download` is deprecated and will be removed in version 1.0.0. Downloads always resume when possible. If you want to force a new download, use `force_download=True`.\n",
            "  warnings.warn(\n"
          ]
        },
        {
          "data": {
            "application/vnd.jupyter.widget-view+json": {
              "model_id": "29c20dbf121e4df78a36a3e84698dab9",
              "version_major": 2,
              "version_minor": 0
            },
            "text/plain": [
              "config.json:   0%|          | 0.00/570 [00:00<?, ?B/s]"
            ]
          },
          "metadata": {},
          "output_type": "display_data"
        },
        {
          "name": "stderr",
          "output_type": "stream",
          "text": [
            "100%|██████████| 100000/100000 [12:34<00:00, 132.50it/s]\n"
          ]
        }
      ],
      "source": [
        "# To Do:  Load the BERT tokenizer (bert base uncased)\n",
        "# tokenizer = None\n",
        "tokenizer = BertTokenizer.from_pretrained('bert-base-uncased')\n",
        "\n",
        "text_dataset = TextDataset(dataset, tokenizer, max_len=512)"
      ]
    },
    {
      "cell_type": "code",
      "execution_count": 11,
      "metadata": {
        "id": "z28CGMnrDKX4"
      },
      "outputs": [],
      "source": [
        "data_loader = DataLoader(text_dataset, batch_size=32, shuffle=True)"
      ]
    },
    {
      "cell_type": "code",
      "execution_count": 12,
      "metadata": {
        "id": "SPVK3puuDM5m"
      },
      "outputs": [],
      "source": [
        "# To Do: Initialize the MLM model with the following hyper-paramaters\n",
        "# vocab size = (comes from tokenizer)\n",
        "# embed size = 256\n",
        "# num of layers = 2\n",
        "# heads = 8\n",
        "# forward expansion = 4\n",
        "# dropout = 0.1\n",
        "# max_length = 512\n",
        "\n",
        "# model = None\n",
        "# model = MLM(vocab_size=len(tokenizer), embed_size=256, num_layers=2, heads=8, forward_expansion=4, dropout=0.1, device=device, max_length=512)\n",
        "model = MLM(vocab_size=tokenizer.vocab_size, embed_size=256, num_layers=2, heads=8, forward_expansion=4, dropout=0.1, device=device, max_length=512)\n",
        "\n",
        "optimizer = torch.optim.Adam(model.parameters(), lr=0.0001)"
      ]
    },
    {
      "cell_type": "code",
      "execution_count": 13,
      "metadata": {
        "colab": {
          "base_uri": "https://localhost:8080/"
        },
        "id": "mVF4hcpjDinZ",
        "outputId": "e321be04-6721-4c10-d401-8fdbc714138b"
      },
      "outputs": [
        {
          "name": "stderr",
          "output_type": "stream",
          "text": [
            "Epoch 1/3: 100%|██████████| 3125/3125 [16:24<00:00,  3.17it/s]\n"
          ]
        },
        {
          "name": "stdout",
          "output_type": "stream",
          "text": [
            "Epoch 1/3, Average Loss: 8.733786827392578\n"
          ]
        },
        {
          "name": "stderr",
          "output_type": "stream",
          "text": [
            "Epoch 2/3: 100%|██████████| 3125/3125 [16:28<00:00,  3.16it/s]\n"
          ]
        },
        {
          "name": "stdout",
          "output_type": "stream",
          "text": [
            "Epoch 2/3, Average Loss: 8.106430557403565\n"
          ]
        },
        {
          "name": "stderr",
          "output_type": "stream",
          "text": [
            "Epoch 3/3: 100%|██████████| 3125/3125 [16:29<00:00,  3.16it/s]"
          ]
        },
        {
          "name": "stdout",
          "output_type": "stream",
          "text": [
            "Epoch 3/3, Average Loss: 7.824008791351319\n"
          ]
        },
        {
          "name": "stderr",
          "output_type": "stream",
          "text": [
            "\n"
          ]
        }
      ],
      "source": [
        "# Training the model\n",
        "train(model, data_loader, optimizer, device, epochs=3)"
      ]
    },
    {
      "cell_type": "code",
      "execution_count": 14,
      "metadata": {
        "colab": {
          "base_uri": "https://localhost:8080/"
        },
        "id": "Nb2KAgZHDkxr",
        "outputId": "a1338e71-3c91-4293-9657-e7152f73aac4"
      },
      "outputs": [
        {
          "name": "stdout",
          "output_type": "stream",
          "text": [
            "Original: Hello, my name is [MASK].\n",
            "10 most probable words for Mask token:  [['nt', 'like', '##s', 'eyes', 'know', 'would', 'said', 'time', 'could', 'want']]\n",
            "---------------------------------------------------------\n",
            "Original: The capital of France is [MASK].\n",
            "10 most probable words for Mask token:  [['nt', 'like', '##s', 'eyes', 'know', 'would', 'said', 'time', 'could', 'want']]\n",
            "---------------------------------------------------------\n",
            "Original: I love to [MASK] a song.\n",
            "10 most probable words for Mask token:  [['nt', 'like', '##s', '##t', 'could', 'would', 'said', 'eyes', 'know', 'back']]\n",
            "---------------------------------------------------------\n",
            "Original: [MASK]\n",
            "10 most probable words for Mask token:  [['nt', 'could', 'one', 'would', 'think', 'looked', 'well', 'like', 'asked', 'know']]\n",
            "---------------------------------------------------------\n"
          ]
        }
      ],
      "source": [
        "# Evaluate the model\n",
        "test_sentences = [\"Hello, my name is [MASK].\", \"The capital of France is [MASK].\", \"I love to [MASK] a song.\", '[MASK]']\n",
        "for sentence in test_sentences:\n",
        "    predicted_masks = evaluate(model, sentence, tokenizer, device)\n",
        "    print(f\"Original: {sentence}\")\n",
        "    print(\"10 most probable words for Mask token: \", predicted_masks)\n",
        "    print(\"---------------------------------------------------------\")"
      ]
    },
    {
      "cell_type": "markdown",
      "metadata": {
        "id": "YvEww2VEDlf_"
      },
      "source": [
        "## Improving Model Performance\n",
        "\n",
        "### Evaluation Results\n",
        "As you can see, the output of the evaluation is quite poor. Why? Because we started training the MLM from scratch. If we want to achieve an acceptable performance similar to a pretrained BERT model, we need to perform several steps.\n",
        "### Question\n",
        "**What steps can you take to improve the performance of your Masked Language Model (MLM)?**\n"
      ]
    },
    {
      "cell_type": "markdown",
      "metadata": {
        "id": "FORFml6ffE2Y"
      },
      "source": [
        "### Answer\n",
        "\n",
        "To improve the performance of the Masked Language Model (MLM), we can take the following steps:\n",
        "\n",
        "1. Pretraining on a Larger Corpus: The model's performance can be significantly enhanced by pretraining on a much larger and diverse text corpus. This helps the model learn richer representations and better capture the nuances of language.\n",
        "2. Transfer Learning: Instead of training the MLM from scratch, you can leverage transfer learning by starting with weights from a pretrained model like BERT or RoBERTa. These models have already learned valuable representations from large datasets, which can be fine-tuned on your specific task or domain.\n",
        "3. Increase Model Size: Increasing the model size by adding more layers, attention heads, or increasing the embedding size can lead to improved performance, as larger models have higher representational capacities. However, this comes at the cost of increased computational requirements and memory usage.\n",
        "4. Hyperparameter Tuning: Carefully tuning hyperparameters such as learning rate, batch size, dropout rate, and others can significantly impact the model's performance. Techniques like grid search or automated hyperparameter tuning can be employed to find the optimal hyperparameter values.\n",
        "5. Data Augmentation: Augmenting the training data through techniques like back-translation, synonym replacement, or text generation can introduce diversity and help the model generalize better to unseen data.\n",
        "6. Task-specific Fine-tuning: After pretraining the MLM on a large corpus, you can fine-tune the model on a specific downstream task or domain by further training on task-specific data. This helps the model adapt its representations to the target task or domain.\n",
        "7. Ensemble Methods: Combining the predictions of multiple independently trained MLMs through techniques like model ensembling or knowledge distillation can often lead to improved performance by leveraging the strengths of each individual model.\n",
        "\n",
        "It's important to note that improving model performance is an iterative process, and a combination of these strategies may be required to achieve the desired results. Additionally, factors such as computational resources, dataset availability, and the specific requirements of the task should be considered when deciding on the appropriate techniques to employ."
      ]
    }
  ],
  "metadata": {
    "accelerator": "GPU",
    "colab": {
      "gpuType": "T4",
      "provenance": []
    },
    "kernelspec": {
      "display_name": "Python 3",
      "name": "python3"
    },
    "language_info": {
      "name": "python"
    },
    "widgets": {
      "application/vnd.jupyter.widget-state+json": {
        "028f01bb39d2481c8095a5a62953af2e": {
          "model_module": "@jupyter-widgets/base",
          "model_module_version": "1.2.0",
          "model_name": "LayoutModel",
          "state": {
            "_model_module": "@jupyter-widgets/base",
            "_model_module_version": "1.2.0",
            "_model_name": "LayoutModel",
            "_view_count": null,
            "_view_module": "@jupyter-widgets/base",
            "_view_module_version": "1.2.0",
            "_view_name": "LayoutView",
            "align_content": null,
            "align_items": null,
            "align_self": null,
            "border": null,
            "bottom": null,
            "display": null,
            "flex": null,
            "flex_flow": null,
            "grid_area": null,
            "grid_auto_columns": null,
            "grid_auto_flow": null,
            "grid_auto_rows": null,
            "grid_column": null,
            "grid_gap": null,
            "grid_row": null,
            "grid_template_areas": null,
            "grid_template_columns": null,
            "grid_template_rows": null,
            "height": null,
            "justify_content": null,
            "justify_items": null,
            "left": null,
            "margin": null,
            "max_height": null,
            "max_width": null,
            "min_height": null,
            "min_width": null,
            "object_fit": null,
            "object_position": null,
            "order": null,
            "overflow": null,
            "overflow_x": null,
            "overflow_y": null,
            "padding": null,
            "right": null,
            "top": null,
            "visibility": null,
            "width": null
          }
        },
        "0bdee96704ed4f3f8655f7a7658aeef7": {
          "model_module": "@jupyter-widgets/controls",
          "model_module_version": "1.5.0",
          "model_name": "HTMLModel",
          "state": {
            "_dom_classes": [],
            "_model_module": "@jupyter-widgets/controls",
            "_model_module_version": "1.5.0",
            "_model_name": "HTMLModel",
            "_view_count": null,
            "_view_module": "@jupyter-widgets/controls",
            "_view_module_version": "1.5.0",
            "_view_name": "HTMLView",
            "description": "",
            "description_tooltip": null,
            "layout": "IPY_MODEL_9e761cbe75214d39bf329a6755054080",
            "placeholder": "​",
            "style": "IPY_MODEL_753c36685a1e48a88c9e8fa19d1891e3",
            "value": "Generating train split:  69%"
          }
        },
        "0ed5e3d97c7948cc99e2c243d1e7a4cd": {
          "model_module": "@jupyter-widgets/controls",
          "model_module_version": "1.5.0",
          "model_name": "ProgressStyleModel",
          "state": {
            "_model_module": "@jupyter-widgets/controls",
            "_model_module_version": "1.5.0",
            "_model_name": "ProgressStyleModel",
            "_view_count": null,
            "_view_module": "@jupyter-widgets/base",
            "_view_module_version": "1.2.0",
            "_view_name": "StyleView",
            "bar_color": null,
            "description_width": ""
          }
        },
        "109ee6747eff4d68a5812f21ca393e40": {
          "model_module": "@jupyter-widgets/controls",
          "model_module_version": "1.5.0",
          "model_name": "HBoxModel",
          "state": {
            "_dom_classes": [],
            "_model_module": "@jupyter-widgets/controls",
            "_model_module_version": "1.5.0",
            "_model_name": "HBoxModel",
            "_view_count": null,
            "_view_module": "@jupyter-widgets/controls",
            "_view_module_version": "1.5.0",
            "_view_name": "HBoxView",
            "box_style": "",
            "children": [
              "IPY_MODEL_d6a7394435634652a408d0211134f0b9",
              "IPY_MODEL_b6b5abe4392743eb815ca58be6ed4cea",
              "IPY_MODEL_7cf2654d5e1c4898857cc09df6ef6f68"
            ],
            "layout": "IPY_MODEL_7e5919bc08be45b497425a29369eff40"
          }
        },
        "14a6510ce16b49f1b8ea8b832e183f8e": {
          "model_module": "@jupyter-widgets/controls",
          "model_module_version": "1.5.0",
          "model_name": "HTMLModel",
          "state": {
            "_dom_classes": [],
            "_model_module": "@jupyter-widgets/controls",
            "_model_module_version": "1.5.0",
            "_model_name": "HTMLModel",
            "_view_count": null,
            "_view_module": "@jupyter-widgets/controls",
            "_view_module_version": "1.5.0",
            "_view_name": "HTMLView",
            "description": "",
            "description_tooltip": null,
            "layout": "IPY_MODEL_462eaf0e4bbc414e9e1ee5989f0eaa26",
            "placeholder": "​",
            "style": "IPY_MODEL_5f680238892e4bbfbbd518e938f6ee0c",
            "value": "Downloading data:  30%"
          }
        },
        "1633969234a149fd909f8b2afe88e8ac": {
          "model_module": "@jupyter-widgets/controls",
          "model_module_version": "1.5.0",
          "model_name": "HTMLModel",
          "state": {
            "_dom_classes": [],
            "_model_module": "@jupyter-widgets/controls",
            "_model_module_version": "1.5.0",
            "_model_name": "HTMLModel",
            "_view_count": null,
            "_view_module": "@jupyter-widgets/controls",
            "_view_module_version": "1.5.0",
            "_view_name": "HTMLView",
            "description": "",
            "description_tooltip": null,
            "layout": "IPY_MODEL_adbb9bd758e942fba8a3f5621307be07",
            "placeholder": "​",
            "style": "IPY_MODEL_bfd7873654f44eb49837a1e56481736c",
            "value": " 50552000/74004228 [00:38&lt;00:16, 1393211.70 examples/s]"
          }
        },
        "1671d507a3d84326a53089f7e802de31": {
          "model_module": "@jupyter-widgets/base",
          "model_module_version": "1.2.0",
          "model_name": "LayoutModel",
          "state": {
            "_model_module": "@jupyter-widgets/base",
            "_model_module_version": "1.2.0",
            "_model_name": "LayoutModel",
            "_view_count": null,
            "_view_module": "@jupyter-widgets/base",
            "_view_module_version": "1.2.0",
            "_view_name": "LayoutView",
            "align_content": null,
            "align_items": null,
            "align_self": null,
            "border": null,
            "bottom": null,
            "display": null,
            "flex": null,
            "flex_flow": null,
            "grid_area": null,
            "grid_auto_columns": null,
            "grid_auto_flow": null,
            "grid_auto_rows": null,
            "grid_column": null,
            "grid_gap": null,
            "grid_row": null,
            "grid_template_areas": null,
            "grid_template_columns": null,
            "grid_template_rows": null,
            "height": null,
            "justify_content": null,
            "justify_items": null,
            "left": null,
            "margin": null,
            "max_height": null,
            "max_width": null,
            "min_height": null,
            "min_width": null,
            "object_fit": null,
            "object_position": null,
            "order": null,
            "overflow": null,
            "overflow_x": null,
            "overflow_y": null,
            "padding": null,
            "right": null,
            "top": null,
            "visibility": null,
            "width": null
          }
        },
        "22e074ebb87e452998cdfbd1a1062239": {
          "model_module": "@jupyter-widgets/controls",
          "model_module_version": "1.5.0",
          "model_name": "ProgressStyleModel",
          "state": {
            "_model_module": "@jupyter-widgets/controls",
            "_model_module_version": "1.5.0",
            "_model_name": "ProgressStyleModel",
            "_view_count": null,
            "_view_module": "@jupyter-widgets/base",
            "_view_module_version": "1.2.0",
            "_view_name": "StyleView",
            "bar_color": null,
            "description_width": ""
          }
        },
        "29c99dccc855446d8f1f140cd35196e4": {
          "model_module": "@jupyter-widgets/base",
          "model_module_version": "1.2.0",
          "model_name": "LayoutModel",
          "state": {
            "_model_module": "@jupyter-widgets/base",
            "_model_module_version": "1.2.0",
            "_model_name": "LayoutModel",
            "_view_count": null,
            "_view_module": "@jupyter-widgets/base",
            "_view_module_version": "1.2.0",
            "_view_name": "LayoutView",
            "align_content": null,
            "align_items": null,
            "align_self": null,
            "border": null,
            "bottom": null,
            "display": null,
            "flex": null,
            "flex_flow": null,
            "grid_area": null,
            "grid_auto_columns": null,
            "grid_auto_flow": null,
            "grid_auto_rows": null,
            "grid_column": null,
            "grid_gap": null,
            "grid_row": null,
            "grid_template_areas": null,
            "grid_template_columns": null,
            "grid_template_rows": null,
            "height": null,
            "justify_content": null,
            "justify_items": null,
            "left": null,
            "margin": null,
            "max_height": null,
            "max_width": null,
            "min_height": null,
            "min_width": null,
            "object_fit": null,
            "object_position": null,
            "order": null,
            "overflow": null,
            "overflow_x": null,
            "overflow_y": null,
            "padding": null,
            "right": null,
            "top": null,
            "visibility": null,
            "width": null
          }
        },
        "3e42411fae324eb7b57050b48d9bc3b2": {
          "model_module": "@jupyter-widgets/controls",
          "model_module_version": "1.5.0",
          "model_name": "DescriptionStyleModel",
          "state": {
            "_model_module": "@jupyter-widgets/controls",
            "_model_module_version": "1.5.0",
            "_model_name": "DescriptionStyleModel",
            "_view_count": null,
            "_view_module": "@jupyter-widgets/base",
            "_view_module_version": "1.2.0",
            "_view_name": "StyleView",
            "description_width": ""
          }
        },
        "402127c3ee9548e1a0fcb606fc89e286": {
          "model_module": "@jupyter-widgets/base",
          "model_module_version": "1.2.0",
          "model_name": "LayoutModel",
          "state": {
            "_model_module": "@jupyter-widgets/base",
            "_model_module_version": "1.2.0",
            "_model_name": "LayoutModel",
            "_view_count": null,
            "_view_module": "@jupyter-widgets/base",
            "_view_module_version": "1.2.0",
            "_view_name": "LayoutView",
            "align_content": null,
            "align_items": null,
            "align_self": null,
            "border": null,
            "bottom": null,
            "display": null,
            "flex": null,
            "flex_flow": null,
            "grid_area": null,
            "grid_auto_columns": null,
            "grid_auto_flow": null,
            "grid_auto_rows": null,
            "grid_column": null,
            "grid_gap": null,
            "grid_row": null,
            "grid_template_areas": null,
            "grid_template_columns": null,
            "grid_template_rows": null,
            "height": null,
            "justify_content": null,
            "justify_items": null,
            "left": null,
            "margin": null,
            "max_height": null,
            "max_width": null,
            "min_height": null,
            "min_width": null,
            "object_fit": null,
            "object_position": null,
            "order": null,
            "overflow": null,
            "overflow_x": null,
            "overflow_y": null,
            "padding": null,
            "right": null,
            "top": null,
            "visibility": null,
            "width": null
          }
        },
        "462eaf0e4bbc414e9e1ee5989f0eaa26": {
          "model_module": "@jupyter-widgets/base",
          "model_module_version": "1.2.0",
          "model_name": "LayoutModel",
          "state": {
            "_model_module": "@jupyter-widgets/base",
            "_model_module_version": "1.2.0",
            "_model_name": "LayoutModel",
            "_view_count": null,
            "_view_module": "@jupyter-widgets/base",
            "_view_module_version": "1.2.0",
            "_view_name": "LayoutView",
            "align_content": null,
            "align_items": null,
            "align_self": null,
            "border": null,
            "bottom": null,
            "display": null,
            "flex": null,
            "flex_flow": null,
            "grid_area": null,
            "grid_auto_columns": null,
            "grid_auto_flow": null,
            "grid_auto_rows": null,
            "grid_column": null,
            "grid_gap": null,
            "grid_row": null,
            "grid_template_areas": null,
            "grid_template_columns": null,
            "grid_template_rows": null,
            "height": null,
            "justify_content": null,
            "justify_items": null,
            "left": null,
            "margin": null,
            "max_height": null,
            "max_width": null,
            "min_height": null,
            "min_width": null,
            "object_fit": null,
            "object_position": null,
            "order": null,
            "overflow": null,
            "overflow_x": null,
            "overflow_y": null,
            "padding": null,
            "right": null,
            "top": null,
            "visibility": null,
            "width": null
          }
        },
        "52cbaa4b8e45406f9e32fd1a48903a87": {
          "model_module": "@jupyter-widgets/base",
          "model_module_version": "1.2.0",
          "model_name": "LayoutModel",
          "state": {
            "_model_module": "@jupyter-widgets/base",
            "_model_module_version": "1.2.0",
            "_model_name": "LayoutModel",
            "_view_count": null,
            "_view_module": "@jupyter-widgets/base",
            "_view_module_version": "1.2.0",
            "_view_name": "LayoutView",
            "align_content": null,
            "align_items": null,
            "align_self": null,
            "border": null,
            "bottom": null,
            "display": null,
            "flex": null,
            "flex_flow": null,
            "grid_area": null,
            "grid_auto_columns": null,
            "grid_auto_flow": null,
            "grid_auto_rows": null,
            "grid_column": null,
            "grid_gap": null,
            "grid_row": null,
            "grid_template_areas": null,
            "grid_template_columns": null,
            "grid_template_rows": null,
            "height": null,
            "justify_content": null,
            "justify_items": null,
            "left": null,
            "margin": null,
            "max_height": null,
            "max_width": null,
            "min_height": null,
            "min_width": null,
            "object_fit": null,
            "object_position": null,
            "order": null,
            "overflow": null,
            "overflow_x": null,
            "overflow_y": null,
            "padding": null,
            "right": null,
            "top": null,
            "visibility": null,
            "width": null
          }
        },
        "5443ba92f0644a27b8b65664d2a7b7ee": {
          "model_module": "@jupyter-widgets/controls",
          "model_module_version": "1.5.0",
          "model_name": "FloatProgressModel",
          "state": {
            "_dom_classes": [],
            "_model_module": "@jupyter-widgets/controls",
            "_model_module_version": "1.5.0",
            "_model_name": "FloatProgressModel",
            "_view_count": null,
            "_view_module": "@jupyter-widgets/controls",
            "_view_module_version": "1.5.0",
            "_view_name": "ProgressView",
            "bar_style": "success",
            "description": "",
            "description_tooltip": null,
            "layout": "IPY_MODEL_96085b9de6b94622bfce6127c742f434",
            "max": 312718713,
            "min": 0,
            "orientation": "horizontal",
            "style": "IPY_MODEL_dcf64dcba48444bfbf87277fbf5a6f90",
            "value": 312718713
          }
        },
        "54f2957b64df418d9899b13f34dc0649": {
          "model_module": "@jupyter-widgets/base",
          "model_module_version": "1.2.0",
          "model_name": "LayoutModel",
          "state": {
            "_model_module": "@jupyter-widgets/base",
            "_model_module_version": "1.2.0",
            "_model_name": "LayoutModel",
            "_view_count": null,
            "_view_module": "@jupyter-widgets/base",
            "_view_module_version": "1.2.0",
            "_view_name": "LayoutView",
            "align_content": null,
            "align_items": null,
            "align_self": null,
            "border": null,
            "bottom": null,
            "display": null,
            "flex": null,
            "flex_flow": null,
            "grid_area": null,
            "grid_auto_columns": null,
            "grid_auto_flow": null,
            "grid_auto_rows": null,
            "grid_column": null,
            "grid_gap": null,
            "grid_row": null,
            "grid_template_areas": null,
            "grid_template_columns": null,
            "grid_template_rows": null,
            "height": null,
            "justify_content": null,
            "justify_items": null,
            "left": null,
            "margin": null,
            "max_height": null,
            "max_width": null,
            "min_height": null,
            "min_width": null,
            "object_fit": null,
            "object_position": null,
            "order": null,
            "overflow": null,
            "overflow_x": null,
            "overflow_y": null,
            "padding": null,
            "right": null,
            "top": null,
            "visibility": null,
            "width": null
          }
        },
        "5937fcae03d94aec835039ebd2cb4e91": {
          "model_module": "@jupyter-widgets/controls",
          "model_module_version": "1.5.0",
          "model_name": "DescriptionStyleModel",
          "state": {
            "_model_module": "@jupyter-widgets/controls",
            "_model_module_version": "1.5.0",
            "_model_name": "DescriptionStyleModel",
            "_view_count": null,
            "_view_module": "@jupyter-widgets/base",
            "_view_module_version": "1.2.0",
            "_view_name": "StyleView",
            "description_width": ""
          }
        },
        "5940584e1de8420bbc13884386aaa1b4": {
          "model_module": "@jupyter-widgets/base",
          "model_module_version": "1.2.0",
          "model_name": "LayoutModel",
          "state": {
            "_model_module": "@jupyter-widgets/base",
            "_model_module_version": "1.2.0",
            "_model_name": "LayoutModel",
            "_view_count": null,
            "_view_module": "@jupyter-widgets/base",
            "_view_module_version": "1.2.0",
            "_view_name": "LayoutView",
            "align_content": null,
            "align_items": null,
            "align_self": null,
            "border": null,
            "bottom": null,
            "display": null,
            "flex": null,
            "flex_flow": null,
            "grid_area": null,
            "grid_auto_columns": null,
            "grid_auto_flow": null,
            "grid_auto_rows": null,
            "grid_column": null,
            "grid_gap": null,
            "grid_row": null,
            "grid_template_areas": null,
            "grid_template_columns": null,
            "grid_template_rows": null,
            "height": null,
            "justify_content": null,
            "justify_items": null,
            "left": null,
            "margin": null,
            "max_height": null,
            "max_width": null,
            "min_height": null,
            "min_width": null,
            "object_fit": null,
            "object_position": null,
            "order": null,
            "overflow": null,
            "overflow_x": null,
            "overflow_y": null,
            "padding": null,
            "right": null,
            "top": null,
            "visibility": null,
            "width": null
          }
        },
        "5f215bb829f74c92ba44d4ae5b9ed296": {
          "model_module": "@jupyter-widgets/controls",
          "model_module_version": "1.5.0",
          "model_name": "FloatProgressModel",
          "state": {
            "_dom_classes": [],
            "_model_module": "@jupyter-widgets/controls",
            "_model_module_version": "1.5.0",
            "_model_name": "FloatProgressModel",
            "_view_count": null,
            "_view_module": "@jupyter-widgets/controls",
            "_view_module_version": "1.5.0",
            "_view_name": "ProgressView",
            "bar_style": "",
            "description": "",
            "description_tooltip": null,
            "layout": "IPY_MODEL_29c99dccc855446d8f1f140cd35196e4",
            "max": 311653241,
            "min": 0,
            "orientation": "horizontal",
            "style": "IPY_MODEL_89c5107bbc7944cfb81667fda8dd16e9",
            "value": 94371840
          }
        },
        "5f680238892e4bbfbbd518e938f6ee0c": {
          "model_module": "@jupyter-widgets/controls",
          "model_module_version": "1.5.0",
          "model_name": "DescriptionStyleModel",
          "state": {
            "_model_module": "@jupyter-widgets/controls",
            "_model_module_version": "1.5.0",
            "_model_name": "DescriptionStyleModel",
            "_view_count": null,
            "_view_module": "@jupyter-widgets/base",
            "_view_module_version": "1.2.0",
            "_view_name": "StyleView",
            "description_width": ""
          }
        },
        "63e0a329c53a47bf9224df64c1ba9714": {
          "model_module": "@jupyter-widgets/controls",
          "model_module_version": "1.5.0",
          "model_name": "FloatProgressModel",
          "state": {
            "_dom_classes": [],
            "_model_module": "@jupyter-widgets/controls",
            "_model_module_version": "1.5.0",
            "_model_name": "FloatProgressModel",
            "_view_count": null,
            "_view_module": "@jupyter-widgets/controls",
            "_view_module_version": "1.5.0",
            "_view_name": "ProgressView",
            "bar_style": "",
            "description": "",
            "description_tooltip": null,
            "layout": "IPY_MODEL_52cbaa4b8e45406f9e32fd1a48903a87",
            "max": 74004228,
            "min": 0,
            "orientation": "horizontal",
            "style": "IPY_MODEL_22e074ebb87e452998cdfbd1a1062239",
            "value": 50772000
          }
        },
        "6f5eeeea8ed14b0cb590540616c291f6": {
          "model_module": "@jupyter-widgets/base",
          "model_module_version": "1.2.0",
          "model_name": "LayoutModel",
          "state": {
            "_model_module": "@jupyter-widgets/base",
            "_model_module_version": "1.2.0",
            "_model_name": "LayoutModel",
            "_view_count": null,
            "_view_module": "@jupyter-widgets/base",
            "_view_module_version": "1.2.0",
            "_view_name": "LayoutView",
            "align_content": null,
            "align_items": null,
            "align_self": null,
            "border": null,
            "bottom": null,
            "display": null,
            "flex": null,
            "flex_flow": null,
            "grid_area": null,
            "grid_auto_columns": null,
            "grid_auto_flow": null,
            "grid_auto_rows": null,
            "grid_column": null,
            "grid_gap": null,
            "grid_row": null,
            "grid_template_areas": null,
            "grid_template_columns": null,
            "grid_template_rows": null,
            "height": null,
            "justify_content": null,
            "justify_items": null,
            "left": null,
            "margin": null,
            "max_height": null,
            "max_width": null,
            "min_height": null,
            "min_width": null,
            "object_fit": null,
            "object_position": null,
            "order": null,
            "overflow": null,
            "overflow_x": null,
            "overflow_y": null,
            "padding": null,
            "right": null,
            "top": null,
            "visibility": null,
            "width": null
          }
        },
        "718fa1db4d2f4e76ab3bd07247dc5877": {
          "model_module": "@jupyter-widgets/controls",
          "model_module_version": "1.5.0",
          "model_name": "HBoxModel",
          "state": {
            "_dom_classes": [],
            "_model_module": "@jupyter-widgets/controls",
            "_model_module_version": "1.5.0",
            "_model_name": "HBoxModel",
            "_view_count": null,
            "_view_module": "@jupyter-widgets/controls",
            "_view_module_version": "1.5.0",
            "_view_name": "HBoxView",
            "box_style": "",
            "children": [
              "IPY_MODEL_fdea36d7f55540f2a5fb4ceaf83542a0",
              "IPY_MODEL_5443ba92f0644a27b8b65664d2a7b7ee",
              "IPY_MODEL_7871f78b80694d9ba8f843376e2a02f3"
            ],
            "layout": "IPY_MODEL_a6c5637059ba4656b2f02d71955ad756"
          }
        },
        "753c36685a1e48a88c9e8fa19d1891e3": {
          "model_module": "@jupyter-widgets/controls",
          "model_module_version": "1.5.0",
          "model_name": "DescriptionStyleModel",
          "state": {
            "_model_module": "@jupyter-widgets/controls",
            "_model_module_version": "1.5.0",
            "_model_name": "DescriptionStyleModel",
            "_view_count": null,
            "_view_module": "@jupyter-widgets/base",
            "_view_module_version": "1.2.0",
            "_view_name": "StyleView",
            "description_width": ""
          }
        },
        "7871f78b80694d9ba8f843376e2a02f3": {
          "model_module": "@jupyter-widgets/controls",
          "model_module_version": "1.5.0",
          "model_name": "HTMLModel",
          "state": {
            "_dom_classes": [],
            "_model_module": "@jupyter-widgets/controls",
            "_model_module_version": "1.5.0",
            "_model_name": "HTMLModel",
            "_view_count": null,
            "_view_module": "@jupyter-widgets/controls",
            "_view_module_version": "1.5.0",
            "_view_name": "HTMLView",
            "description": "",
            "description_tooltip": null,
            "layout": "IPY_MODEL_b4b5d0cbfdcc4595aeb1ef15476ba6c3",
            "placeholder": "​",
            "style": "IPY_MODEL_3e42411fae324eb7b57050b48d9bc3b2",
            "value": " 313M/313M [00:01&lt;00:00, 290MB/s]"
          }
        },
        "7cf2654d5e1c4898857cc09df6ef6f68": {
          "model_module": "@jupyter-widgets/controls",
          "model_module_version": "1.5.0",
          "model_name": "HTMLModel",
          "state": {
            "_dom_classes": [],
            "_model_module": "@jupyter-widgets/controls",
            "_model_module_version": "1.5.0",
            "_model_name": "HTMLModel",
            "_view_count": null,
            "_view_module": "@jupyter-widgets/controls",
            "_view_module_version": "1.5.0",
            "_view_name": "HTMLView",
            "description": "",
            "description_tooltip": null,
            "layout": "IPY_MODEL_8220dfcf85a64cf282287b072880bf5b",
            "placeholder": "​",
            "style": "IPY_MODEL_cbb0e2b4d99b413a969c30f77eddb88f",
            "value": " 209M/209M [00:01&lt;00:00, 243MB/s]"
          }
        },
        "7e0f6627e9844cd0adc45f67fda45b68": {
          "model_module": "@jupyter-widgets/controls",
          "model_module_version": "1.5.0",
          "model_name": "HBoxModel",
          "state": {
            "_dom_classes": [],
            "_model_module": "@jupyter-widgets/controls",
            "_model_module_version": "1.5.0",
            "_model_name": "HBoxModel",
            "_view_count": null,
            "_view_module": "@jupyter-widgets/controls",
            "_view_module_version": "1.5.0",
            "_view_name": "HBoxView",
            "box_style": "",
            "children": [
              "IPY_MODEL_14a6510ce16b49f1b8ea8b832e183f8e",
              "IPY_MODEL_5f215bb829f74c92ba44d4ae5b9ed296",
              "IPY_MODEL_af685459aaa743a49f751d32364a1a1a"
            ],
            "layout": "IPY_MODEL_54f2957b64df418d9899b13f34dc0649"
          }
        },
        "7e5919bc08be45b497425a29369eff40": {
          "model_module": "@jupyter-widgets/base",
          "model_module_version": "1.2.0",
          "model_name": "LayoutModel",
          "state": {
            "_model_module": "@jupyter-widgets/base",
            "_model_module_version": "1.2.0",
            "_model_name": "LayoutModel",
            "_view_count": null,
            "_view_module": "@jupyter-widgets/base",
            "_view_module_version": "1.2.0",
            "_view_name": "LayoutView",
            "align_content": null,
            "align_items": null,
            "align_self": null,
            "border": null,
            "bottom": null,
            "display": null,
            "flex": null,
            "flex_flow": null,
            "grid_area": null,
            "grid_auto_columns": null,
            "grid_auto_flow": null,
            "grid_auto_rows": null,
            "grid_column": null,
            "grid_gap": null,
            "grid_row": null,
            "grid_template_areas": null,
            "grid_template_columns": null,
            "grid_template_rows": null,
            "height": null,
            "justify_content": null,
            "justify_items": null,
            "left": null,
            "margin": null,
            "max_height": null,
            "max_width": null,
            "min_height": null,
            "min_width": null,
            "object_fit": null,
            "object_position": null,
            "order": null,
            "overflow": null,
            "overflow_x": null,
            "overflow_y": null,
            "padding": null,
            "right": null,
            "top": null,
            "visibility": null,
            "width": null
          }
        },
        "8220dfcf85a64cf282287b072880bf5b": {
          "model_module": "@jupyter-widgets/base",
          "model_module_version": "1.2.0",
          "model_name": "LayoutModel",
          "state": {
            "_model_module": "@jupyter-widgets/base",
            "_model_module_version": "1.2.0",
            "_model_name": "LayoutModel",
            "_view_count": null,
            "_view_module": "@jupyter-widgets/base",
            "_view_module_version": "1.2.0",
            "_view_name": "LayoutView",
            "align_content": null,
            "align_items": null,
            "align_self": null,
            "border": null,
            "bottom": null,
            "display": null,
            "flex": null,
            "flex_flow": null,
            "grid_area": null,
            "grid_auto_columns": null,
            "grid_auto_flow": null,
            "grid_auto_rows": null,
            "grid_column": null,
            "grid_gap": null,
            "grid_row": null,
            "grid_template_areas": null,
            "grid_template_columns": null,
            "grid_template_rows": null,
            "height": null,
            "justify_content": null,
            "justify_items": null,
            "left": null,
            "margin": null,
            "max_height": null,
            "max_width": null,
            "min_height": null,
            "min_width": null,
            "object_fit": null,
            "object_position": null,
            "order": null,
            "overflow": null,
            "overflow_x": null,
            "overflow_y": null,
            "padding": null,
            "right": null,
            "top": null,
            "visibility": null,
            "width": null
          }
        },
        "89c5107bbc7944cfb81667fda8dd16e9": {
          "model_module": "@jupyter-widgets/controls",
          "model_module_version": "1.5.0",
          "model_name": "ProgressStyleModel",
          "state": {
            "_model_module": "@jupyter-widgets/controls",
            "_model_module_version": "1.5.0",
            "_model_name": "ProgressStyleModel",
            "_view_count": null,
            "_view_module": "@jupyter-widgets/base",
            "_view_module_version": "1.2.0",
            "_view_name": "StyleView",
            "bar_color": null,
            "description_width": ""
          }
        },
        "8b5f09347d154fbb9eb24c8a6657403a": {
          "model_module": "@jupyter-widgets/base",
          "model_module_version": "1.2.0",
          "model_name": "LayoutModel",
          "state": {
            "_model_module": "@jupyter-widgets/base",
            "_model_module_version": "1.2.0",
            "_model_name": "LayoutModel",
            "_view_count": null,
            "_view_module": "@jupyter-widgets/base",
            "_view_module_version": "1.2.0",
            "_view_name": "LayoutView",
            "align_content": null,
            "align_items": null,
            "align_self": null,
            "border": null,
            "bottom": null,
            "display": null,
            "flex": null,
            "flex_flow": null,
            "grid_area": null,
            "grid_auto_columns": null,
            "grid_auto_flow": null,
            "grid_auto_rows": null,
            "grid_column": null,
            "grid_gap": null,
            "grid_row": null,
            "grid_template_areas": null,
            "grid_template_columns": null,
            "grid_template_rows": null,
            "height": null,
            "justify_content": null,
            "justify_items": null,
            "left": null,
            "margin": null,
            "max_height": null,
            "max_width": null,
            "min_height": null,
            "min_width": null,
            "object_fit": null,
            "object_position": null,
            "order": null,
            "overflow": null,
            "overflow_x": null,
            "overflow_y": null,
            "padding": null,
            "right": null,
            "top": null,
            "visibility": null,
            "width": null
          }
        },
        "96085b9de6b94622bfce6127c742f434": {
          "model_module": "@jupyter-widgets/base",
          "model_module_version": "1.2.0",
          "model_name": "LayoutModel",
          "state": {
            "_model_module": "@jupyter-widgets/base",
            "_model_module_version": "1.2.0",
            "_model_name": "LayoutModel",
            "_view_count": null,
            "_view_module": "@jupyter-widgets/base",
            "_view_module_version": "1.2.0",
            "_view_name": "LayoutView",
            "align_content": null,
            "align_items": null,
            "align_self": null,
            "border": null,
            "bottom": null,
            "display": null,
            "flex": null,
            "flex_flow": null,
            "grid_area": null,
            "grid_auto_columns": null,
            "grid_auto_flow": null,
            "grid_auto_rows": null,
            "grid_column": null,
            "grid_gap": null,
            "grid_row": null,
            "grid_template_areas": null,
            "grid_template_columns": null,
            "grid_template_rows": null,
            "height": null,
            "justify_content": null,
            "justify_items": null,
            "left": null,
            "margin": null,
            "max_height": null,
            "max_width": null,
            "min_height": null,
            "min_width": null,
            "object_fit": null,
            "object_position": null,
            "order": null,
            "overflow": null,
            "overflow_x": null,
            "overflow_y": null,
            "padding": null,
            "right": null,
            "top": null,
            "visibility": null,
            "width": null
          }
        },
        "9d18763688334fbe90b88579e3ac24e6": {
          "model_module": "@jupyter-widgets/base",
          "model_module_version": "1.2.0",
          "model_name": "LayoutModel",
          "state": {
            "_model_module": "@jupyter-widgets/base",
            "_model_module_version": "1.2.0",
            "_model_name": "LayoutModel",
            "_view_count": null,
            "_view_module": "@jupyter-widgets/base",
            "_view_module_version": "1.2.0",
            "_view_name": "LayoutView",
            "align_content": null,
            "align_items": null,
            "align_self": null,
            "border": null,
            "bottom": null,
            "display": null,
            "flex": null,
            "flex_flow": null,
            "grid_area": null,
            "grid_auto_columns": null,
            "grid_auto_flow": null,
            "grid_auto_rows": null,
            "grid_column": null,
            "grid_gap": null,
            "grid_row": null,
            "grid_template_areas": null,
            "grid_template_columns": null,
            "grid_template_rows": null,
            "height": null,
            "justify_content": null,
            "justify_items": null,
            "left": null,
            "margin": null,
            "max_height": null,
            "max_width": null,
            "min_height": null,
            "min_width": null,
            "object_fit": null,
            "object_position": null,
            "order": null,
            "overflow": null,
            "overflow_x": null,
            "overflow_y": null,
            "padding": null,
            "right": null,
            "top": null,
            "visibility": null,
            "width": null
          }
        },
        "9e761cbe75214d39bf329a6755054080": {
          "model_module": "@jupyter-widgets/base",
          "model_module_version": "1.2.0",
          "model_name": "LayoutModel",
          "state": {
            "_model_module": "@jupyter-widgets/base",
            "_model_module_version": "1.2.0",
            "_model_name": "LayoutModel",
            "_view_count": null,
            "_view_module": "@jupyter-widgets/base",
            "_view_module_version": "1.2.0",
            "_view_name": "LayoutView",
            "align_content": null,
            "align_items": null,
            "align_self": null,
            "border": null,
            "bottom": null,
            "display": null,
            "flex": null,
            "flex_flow": null,
            "grid_area": null,
            "grid_auto_columns": null,
            "grid_auto_flow": null,
            "grid_auto_rows": null,
            "grid_column": null,
            "grid_gap": null,
            "grid_row": null,
            "grid_template_areas": null,
            "grid_template_columns": null,
            "grid_template_rows": null,
            "height": null,
            "justify_content": null,
            "justify_items": null,
            "left": null,
            "margin": null,
            "max_height": null,
            "max_width": null,
            "min_height": null,
            "min_width": null,
            "object_fit": null,
            "object_position": null,
            "order": null,
            "overflow": null,
            "overflow_x": null,
            "overflow_y": null,
            "padding": null,
            "right": null,
            "top": null,
            "visibility": null,
            "width": null
          }
        },
        "a6c5637059ba4656b2f02d71955ad756": {
          "model_module": "@jupyter-widgets/base",
          "model_module_version": "1.2.0",
          "model_name": "LayoutModel",
          "state": {
            "_model_module": "@jupyter-widgets/base",
            "_model_module_version": "1.2.0",
            "_model_name": "LayoutModel",
            "_view_count": null,
            "_view_module": "@jupyter-widgets/base",
            "_view_module_version": "1.2.0",
            "_view_name": "LayoutView",
            "align_content": null,
            "align_items": null,
            "align_self": null,
            "border": null,
            "bottom": null,
            "display": null,
            "flex": null,
            "flex_flow": null,
            "grid_area": null,
            "grid_auto_columns": null,
            "grid_auto_flow": null,
            "grid_auto_rows": null,
            "grid_column": null,
            "grid_gap": null,
            "grid_row": null,
            "grid_template_areas": null,
            "grid_template_columns": null,
            "grid_template_rows": null,
            "height": null,
            "justify_content": null,
            "justify_items": null,
            "left": null,
            "margin": null,
            "max_height": null,
            "max_width": null,
            "min_height": null,
            "min_width": null,
            "object_fit": null,
            "object_position": null,
            "order": null,
            "overflow": null,
            "overflow_x": null,
            "overflow_y": null,
            "padding": null,
            "right": null,
            "top": null,
            "visibility": null,
            "width": null
          }
        },
        "adbb9bd758e942fba8a3f5621307be07": {
          "model_module": "@jupyter-widgets/base",
          "model_module_version": "1.2.0",
          "model_name": "LayoutModel",
          "state": {
            "_model_module": "@jupyter-widgets/base",
            "_model_module_version": "1.2.0",
            "_model_name": "LayoutModel",
            "_view_count": null,
            "_view_module": "@jupyter-widgets/base",
            "_view_module_version": "1.2.0",
            "_view_name": "LayoutView",
            "align_content": null,
            "align_items": null,
            "align_self": null,
            "border": null,
            "bottom": null,
            "display": null,
            "flex": null,
            "flex_flow": null,
            "grid_area": null,
            "grid_auto_columns": null,
            "grid_auto_flow": null,
            "grid_auto_rows": null,
            "grid_column": null,
            "grid_gap": null,
            "grid_row": null,
            "grid_template_areas": null,
            "grid_template_columns": null,
            "grid_template_rows": null,
            "height": null,
            "justify_content": null,
            "justify_items": null,
            "left": null,
            "margin": null,
            "max_height": null,
            "max_width": null,
            "min_height": null,
            "min_width": null,
            "object_fit": null,
            "object_position": null,
            "order": null,
            "overflow": null,
            "overflow_x": null,
            "overflow_y": null,
            "padding": null,
            "right": null,
            "top": null,
            "visibility": null,
            "width": null
          }
        },
        "af685459aaa743a49f751d32364a1a1a": {
          "model_module": "@jupyter-widgets/controls",
          "model_module_version": "1.5.0",
          "model_name": "HTMLModel",
          "state": {
            "_dom_classes": [],
            "_model_module": "@jupyter-widgets/controls",
            "_model_module_version": "1.5.0",
            "_model_name": "HTMLModel",
            "_view_count": null,
            "_view_module": "@jupyter-widgets/controls",
            "_view_module_version": "1.5.0",
            "_view_name": "HTMLView",
            "description": "",
            "description_tooltip": null,
            "layout": "IPY_MODEL_028f01bb39d2481c8095a5a62953af2e",
            "placeholder": "​",
            "style": "IPY_MODEL_ec95553622114a40920d331da2183a5b",
            "value": " 94.4M/312M [00:00&lt;00:01, 196MB/s]"
          }
        },
        "affad65f657d492193bc2f9fe1518383": {
          "model_module": "@jupyter-widgets/base",
          "model_module_version": "1.2.0",
          "model_name": "LayoutModel",
          "state": {
            "_model_module": "@jupyter-widgets/base",
            "_model_module_version": "1.2.0",
            "_model_name": "LayoutModel",
            "_view_count": null,
            "_view_module": "@jupyter-widgets/base",
            "_view_module_version": "1.2.0",
            "_view_name": "LayoutView",
            "align_content": null,
            "align_items": null,
            "align_self": null,
            "border": null,
            "bottom": null,
            "display": null,
            "flex": null,
            "flex_flow": null,
            "grid_area": null,
            "grid_auto_columns": null,
            "grid_auto_flow": null,
            "grid_auto_rows": null,
            "grid_column": null,
            "grid_gap": null,
            "grid_row": null,
            "grid_template_areas": null,
            "grid_template_columns": null,
            "grid_template_rows": null,
            "height": null,
            "justify_content": null,
            "justify_items": null,
            "left": null,
            "margin": null,
            "max_height": null,
            "max_width": null,
            "min_height": null,
            "min_width": null,
            "object_fit": null,
            "object_position": null,
            "order": null,
            "overflow": null,
            "overflow_x": null,
            "overflow_y": null,
            "padding": null,
            "right": null,
            "top": null,
            "visibility": null,
            "width": null
          }
        },
        "b4b5d0cbfdcc4595aeb1ef15476ba6c3": {
          "model_module": "@jupyter-widgets/base",
          "model_module_version": "1.2.0",
          "model_name": "LayoutModel",
          "state": {
            "_model_module": "@jupyter-widgets/base",
            "_model_module_version": "1.2.0",
            "_model_name": "LayoutModel",
            "_view_count": null,
            "_view_module": "@jupyter-widgets/base",
            "_view_module_version": "1.2.0",
            "_view_name": "LayoutView",
            "align_content": null,
            "align_items": null,
            "align_self": null,
            "border": null,
            "bottom": null,
            "display": null,
            "flex": null,
            "flex_flow": null,
            "grid_area": null,
            "grid_auto_columns": null,
            "grid_auto_flow": null,
            "grid_auto_rows": null,
            "grid_column": null,
            "grid_gap": null,
            "grid_row": null,
            "grid_template_areas": null,
            "grid_template_columns": null,
            "grid_template_rows": null,
            "height": null,
            "justify_content": null,
            "justify_items": null,
            "left": null,
            "margin": null,
            "max_height": null,
            "max_width": null,
            "min_height": null,
            "min_width": null,
            "object_fit": null,
            "object_position": null,
            "order": null,
            "overflow": null,
            "overflow_x": null,
            "overflow_y": null,
            "padding": null,
            "right": null,
            "top": null,
            "visibility": null,
            "width": null
          }
        },
        "b6b5abe4392743eb815ca58be6ed4cea": {
          "model_module": "@jupyter-widgets/controls",
          "model_module_version": "1.5.0",
          "model_name": "FloatProgressModel",
          "state": {
            "_dom_classes": [],
            "_model_module": "@jupyter-widgets/controls",
            "_model_module_version": "1.5.0",
            "_model_name": "FloatProgressModel",
            "_view_count": null,
            "_view_module": "@jupyter-widgets/controls",
            "_view_module_version": "1.5.0",
            "_view_name": "ProgressView",
            "bar_style": "success",
            "description": "",
            "description_tooltip": null,
            "layout": "IPY_MODEL_1671d507a3d84326a53089f7e802de31",
            "max": 209191473,
            "min": 0,
            "orientation": "horizontal",
            "style": "IPY_MODEL_fc35c3fef5104cb9a39e6df7b1b10177",
            "value": 209191473
          }
        },
        "ba23d2be36b54207b84d4da6a9021780": {
          "model_module": "@jupyter-widgets/controls",
          "model_module_version": "1.5.0",
          "model_name": "HTMLModel",
          "state": {
            "_dom_classes": [],
            "_model_module": "@jupyter-widgets/controls",
            "_model_module_version": "1.5.0",
            "_model_name": "HTMLModel",
            "_view_count": null,
            "_view_module": "@jupyter-widgets/controls",
            "_view_module_version": "1.5.0",
            "_view_name": "HTMLView",
            "description": "",
            "description_tooltip": null,
            "layout": "IPY_MODEL_402127c3ee9548e1a0fcb606fc89e286",
            "placeholder": "​",
            "style": "IPY_MODEL_e18ebeecd6214752a96a9bdb1d016b07",
            "value": " 312M/312M [00:01&lt;00:00, 314MB/s]"
          }
        },
        "bfd7873654f44eb49837a1e56481736c": {
          "model_module": "@jupyter-widgets/controls",
          "model_module_version": "1.5.0",
          "model_name": "DescriptionStyleModel",
          "state": {
            "_model_module": "@jupyter-widgets/controls",
            "_model_module_version": "1.5.0",
            "_model_name": "DescriptionStyleModel",
            "_view_count": null,
            "_view_module": "@jupyter-widgets/base",
            "_view_module_version": "1.2.0",
            "_view_name": "StyleView",
            "description_width": ""
          }
        },
        "cbb0e2b4d99b413a969c30f77eddb88f": {
          "model_module": "@jupyter-widgets/controls",
          "model_module_version": "1.5.0",
          "model_name": "DescriptionStyleModel",
          "state": {
            "_model_module": "@jupyter-widgets/controls",
            "_model_module_version": "1.5.0",
            "_model_name": "DescriptionStyleModel",
            "_view_count": null,
            "_view_module": "@jupyter-widgets/base",
            "_view_module_version": "1.2.0",
            "_view_name": "StyleView",
            "description_width": ""
          }
        },
        "d6a7394435634652a408d0211134f0b9": {
          "model_module": "@jupyter-widgets/controls",
          "model_module_version": "1.5.0",
          "model_name": "HTMLModel",
          "state": {
            "_dom_classes": [],
            "_model_module": "@jupyter-widgets/controls",
            "_model_module_version": "1.5.0",
            "_model_name": "HTMLModel",
            "_view_count": null,
            "_view_module": "@jupyter-widgets/controls",
            "_view_module_version": "1.5.0",
            "_view_name": "HTMLView",
            "description": "",
            "description_tooltip": null,
            "layout": "IPY_MODEL_affad65f657d492193bc2f9fe1518383",
            "placeholder": "​",
            "style": "IPY_MODEL_5937fcae03d94aec835039ebd2cb4e91",
            "value": "Downloading data: 100%"
          }
        },
        "d879c34ffb294749a7e4fbbb0e8dc663": {
          "model_module": "@jupyter-widgets/controls",
          "model_module_version": "1.5.0",
          "model_name": "HTMLModel",
          "state": {
            "_dom_classes": [],
            "_model_module": "@jupyter-widgets/controls",
            "_model_module_version": "1.5.0",
            "_model_name": "HTMLModel",
            "_view_count": null,
            "_view_module": "@jupyter-widgets/controls",
            "_view_module_version": "1.5.0",
            "_view_name": "HTMLView",
            "description": "",
            "description_tooltip": null,
            "layout": "IPY_MODEL_8b5f09347d154fbb9eb24c8a6657403a",
            "placeholder": "​",
            "style": "IPY_MODEL_e8e2c2fbde164b88a54cc561c370e1a0",
            "value": "Downloading data: 100%"
          }
        },
        "dcf64dcba48444bfbf87277fbf5a6f90": {
          "model_module": "@jupyter-widgets/controls",
          "model_module_version": "1.5.0",
          "model_name": "ProgressStyleModel",
          "state": {
            "_model_module": "@jupyter-widgets/controls",
            "_model_module_version": "1.5.0",
            "_model_name": "ProgressStyleModel",
            "_view_count": null,
            "_view_module": "@jupyter-widgets/base",
            "_view_module_version": "1.2.0",
            "_view_name": "StyleView",
            "bar_color": null,
            "description_width": ""
          }
        },
        "e18ebeecd6214752a96a9bdb1d016b07": {
          "model_module": "@jupyter-widgets/controls",
          "model_module_version": "1.5.0",
          "model_name": "DescriptionStyleModel",
          "state": {
            "_model_module": "@jupyter-widgets/controls",
            "_model_module_version": "1.5.0",
            "_model_name": "DescriptionStyleModel",
            "_view_count": null,
            "_view_module": "@jupyter-widgets/base",
            "_view_module_version": "1.2.0",
            "_view_name": "StyleView",
            "description_width": ""
          }
        },
        "e7fbe3b3b6e8423da0e33b4e58c21ab6": {
          "model_module": "@jupyter-widgets/controls",
          "model_module_version": "1.5.0",
          "model_name": "FloatProgressModel",
          "state": {
            "_dom_classes": [],
            "_model_module": "@jupyter-widgets/controls",
            "_model_module_version": "1.5.0",
            "_model_name": "FloatProgressModel",
            "_view_count": null,
            "_view_module": "@jupyter-widgets/controls",
            "_view_module_version": "1.5.0",
            "_view_name": "ProgressView",
            "bar_style": "success",
            "description": "",
            "description_tooltip": null,
            "layout": "IPY_MODEL_fc588a41e8a94b30a8d45b86185c2388",
            "max": 311652569,
            "min": 0,
            "orientation": "horizontal",
            "style": "IPY_MODEL_0ed5e3d97c7948cc99e2c243d1e7a4cd",
            "value": 311652569
          }
        },
        "e8e2c2fbde164b88a54cc561c370e1a0": {
          "model_module": "@jupyter-widgets/controls",
          "model_module_version": "1.5.0",
          "model_name": "DescriptionStyleModel",
          "state": {
            "_model_module": "@jupyter-widgets/controls",
            "_model_module_version": "1.5.0",
            "_model_name": "DescriptionStyleModel",
            "_view_count": null,
            "_view_module": "@jupyter-widgets/base",
            "_view_module_version": "1.2.0",
            "_view_name": "StyleView",
            "description_width": ""
          }
        },
        "ebe2d21411c0498cb3712b48f3d1ce40": {
          "model_module": "@jupyter-widgets/controls",
          "model_module_version": "1.5.0",
          "model_name": "HBoxModel",
          "state": {
            "_dom_classes": [],
            "_model_module": "@jupyter-widgets/controls",
            "_model_module_version": "1.5.0",
            "_model_name": "HBoxModel",
            "_view_count": null,
            "_view_module": "@jupyter-widgets/controls",
            "_view_module_version": "1.5.0",
            "_view_name": "HBoxView",
            "box_style": "",
            "children": [
              "IPY_MODEL_d879c34ffb294749a7e4fbbb0e8dc663",
              "IPY_MODEL_e7fbe3b3b6e8423da0e33b4e58c21ab6",
              "IPY_MODEL_ba23d2be36b54207b84d4da6a9021780"
            ],
            "layout": "IPY_MODEL_6f5eeeea8ed14b0cb590540616c291f6"
          }
        },
        "ec95553622114a40920d331da2183a5b": {
          "model_module": "@jupyter-widgets/controls",
          "model_module_version": "1.5.0",
          "model_name": "DescriptionStyleModel",
          "state": {
            "_model_module": "@jupyter-widgets/controls",
            "_model_module_version": "1.5.0",
            "_model_name": "DescriptionStyleModel",
            "_view_count": null,
            "_view_module": "@jupyter-widgets/base",
            "_view_module_version": "1.2.0",
            "_view_name": "StyleView",
            "description_width": ""
          }
        },
        "f3048de8f5a04bb9afb6327a5ea37f91": {
          "model_module": "@jupyter-widgets/controls",
          "model_module_version": "1.5.0",
          "model_name": "HBoxModel",
          "state": {
            "_dom_classes": [],
            "_model_module": "@jupyter-widgets/controls",
            "_model_module_version": "1.5.0",
            "_model_name": "HBoxModel",
            "_view_count": null,
            "_view_module": "@jupyter-widgets/controls",
            "_view_module_version": "1.5.0",
            "_view_name": "HBoxView",
            "box_style": "",
            "children": [
              "IPY_MODEL_0bdee96704ed4f3f8655f7a7658aeef7",
              "IPY_MODEL_63e0a329c53a47bf9224df64c1ba9714",
              "IPY_MODEL_1633969234a149fd909f8b2afe88e8ac"
            ],
            "layout": "IPY_MODEL_9d18763688334fbe90b88579e3ac24e6"
          }
        },
        "fc35c3fef5104cb9a39e6df7b1b10177": {
          "model_module": "@jupyter-widgets/controls",
          "model_module_version": "1.5.0",
          "model_name": "ProgressStyleModel",
          "state": {
            "_model_module": "@jupyter-widgets/controls",
            "_model_module_version": "1.5.0",
            "_model_name": "ProgressStyleModel",
            "_view_count": null,
            "_view_module": "@jupyter-widgets/base",
            "_view_module_version": "1.2.0",
            "_view_name": "StyleView",
            "bar_color": null,
            "description_width": ""
          }
        },
        "fc588a41e8a94b30a8d45b86185c2388": {
          "model_module": "@jupyter-widgets/base",
          "model_module_version": "1.2.0",
          "model_name": "LayoutModel",
          "state": {
            "_model_module": "@jupyter-widgets/base",
            "_model_module_version": "1.2.0",
            "_model_name": "LayoutModel",
            "_view_count": null,
            "_view_module": "@jupyter-widgets/base",
            "_view_module_version": "1.2.0",
            "_view_name": "LayoutView",
            "align_content": null,
            "align_items": null,
            "align_self": null,
            "border": null,
            "bottom": null,
            "display": null,
            "flex": null,
            "flex_flow": null,
            "grid_area": null,
            "grid_auto_columns": null,
            "grid_auto_flow": null,
            "grid_auto_rows": null,
            "grid_column": null,
            "grid_gap": null,
            "grid_row": null,
            "grid_template_areas": null,
            "grid_template_columns": null,
            "grid_template_rows": null,
            "height": null,
            "justify_content": null,
            "justify_items": null,
            "left": null,
            "margin": null,
            "max_height": null,
            "max_width": null,
            "min_height": null,
            "min_width": null,
            "object_fit": null,
            "object_position": null,
            "order": null,
            "overflow": null,
            "overflow_x": null,
            "overflow_y": null,
            "padding": null,
            "right": null,
            "top": null,
            "visibility": null,
            "width": null
          }
        },
        "fdd8806ac4b44801a0b6de04712212c1": {
          "model_module": "@jupyter-widgets/controls",
          "model_module_version": "1.5.0",
          "model_name": "DescriptionStyleModel",
          "state": {
            "_model_module": "@jupyter-widgets/controls",
            "_model_module_version": "1.5.0",
            "_model_name": "DescriptionStyleModel",
            "_view_count": null,
            "_view_module": "@jupyter-widgets/base",
            "_view_module_version": "1.2.0",
            "_view_name": "StyleView",
            "description_width": ""
          }
        },
        "fdea36d7f55540f2a5fb4ceaf83542a0": {
          "model_module": "@jupyter-widgets/controls",
          "model_module_version": "1.5.0",
          "model_name": "HTMLModel",
          "state": {
            "_dom_classes": [],
            "_model_module": "@jupyter-widgets/controls",
            "_model_module_version": "1.5.0",
            "_model_name": "HTMLModel",
            "_view_count": null,
            "_view_module": "@jupyter-widgets/controls",
            "_view_module_version": "1.5.0",
            "_view_name": "HTMLView",
            "description": "",
            "description_tooltip": null,
            "layout": "IPY_MODEL_5940584e1de8420bbc13884386aaa1b4",
            "placeholder": "​",
            "style": "IPY_MODEL_fdd8806ac4b44801a0b6de04712212c1",
            "value": "Downloading data: 100%"
          }
        }
      }
    }
  },
  "nbformat": 4,
  "nbformat_minor": 0
}
