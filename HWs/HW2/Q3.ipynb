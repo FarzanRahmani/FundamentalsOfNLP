{
  "cells": [
    {
      "cell_type": "markdown",
      "metadata": {
        "id": "WeJWoW-GE83K"
      },
      "source": [
        "1.Submit a Google Colab notebook containing your completed code and experimentation results.\n",
        "\n",
        "2.Include comments and explanations in your code to help understand the implemented logic.\n",
        "\n",
        "**Additional Notes:**\n",
        "*   Ensure that the notebook runs successfully in Google Colab.\n",
        "*   Document any issues encountered during experimentation and how you addressed them.\n",
        "\n",
        "**Grading:**\n",
        "*   Each task will be graded out of the specified points.\n",
        "*   Points will be awarded for correctness, clarity of code, thorough experimentation, and insightful analysis."
      ]
    },
    {
      "cell_type": "code",
      "execution_count": 1,
      "metadata": {
        "colab": {
          "base_uri": "https://localhost:8080/"
        },
        "id": "oCb3cVwzrfbb",
        "outputId": "eb2eac63-fcca-48ea-e399-c2e1fe9142dd"
      },
      "outputs": [
        {
          "name": "stdout",
          "output_type": "stream",
          "text": [
            "Mounted at /content/gdrive\n"
          ]
        }
      ],
      "source": [
        "from google.colab import drive\n",
        "drive.mount('/content/gdrive')\n",
        "\n",
        "# SOURCE_DIR = '/content/Q3_data.csv'\n",
        "SOURCE_DIR = '/content/gdrive/MyDrive/Q3_data.csv'"
      ]
    },
    {
      "cell_type": "code",
      "execution_count": 2,
      "metadata": {
        "id": "HtCgCrUVtU_J"
      },
      "outputs": [],
      "source": [
        "import torch\n",
        "import re\n",
        "from sklearn.preprocessing import OneHotEncoder\n",
        "import numpy as np\n",
        "import pandas as pd\n",
        "import math\n",
        "from gensim.models import Word2Vec"
      ]
    },
    {
      "cell_type": "code",
      "execution_count": 3,
      "metadata": {
        "id": "xM6NuzWEE83M"
      },
      "outputs": [],
      "source": [
        "def delete_hashtag_usernames(text):\n",
        "  try:\n",
        "    result = []\n",
        "    for word in text.split():\n",
        "      if word[0] not in ['@', '#']: # usernames and hashtags (word[0] = first character)\n",
        "        result.append(word)\n",
        "    return ' '.join(result)\n",
        "  except:\n",
        "    return ''\n",
        "\n",
        "def delete_url(text):\n",
        "  text = re.sub(r'http\\S+', '', text) # urls\n",
        "  return text\n",
        "\n",
        "def delete_ex(text):\n",
        "  text = re.sub(r'\\u200c', '', text) # zero width non-joiner\n",
        "  return text"
      ]
    },
    {
      "cell_type": "markdown",
      "metadata": {
        "id": "cz4cWWgA4xBF"
      },
      "source": [
        "# 0. Data preprocessing"
      ]
    },
    {
      "cell_type": "code",
      "execution_count": null,
      "metadata": {
        "colab": {
          "base_uri": "https://localhost:8080/"
        },
        "id": "t0FjQ9_ZMkve",
        "outputId": "c8b59a77-e93e-47fe-87ec-bb6e593bf847"
      },
      "outputs": [
        {
          "name": "stdout",
          "output_type": "stream",
          "text": [
            "Collecting json-lines\n",
            "  Downloading json_lines-0.5.0-py2.py3-none-any.whl (6.8 kB)\n",
            "Requirement already satisfied: six in /usr/local/lib/python3.10/dist-packages (from json-lines) (1.16.0)\n",
            "Installing collected packages: json-lines\n",
            "Successfully installed json-lines-0.5.0\n"
          ]
        }
      ],
      "source": [
        "!pip install json-lines"
      ]
    },
    {
      "cell_type": "code",
      "execution_count": null,
      "metadata": {
        "id": "Uf7K92-olSfe"
      },
      "outputs": [],
      "source": [
        "import json_lines"
      ]
    },
    {
      "cell_type": "code",
      "execution_count": 4,
      "metadata": {
        "colab": {
          "base_uri": "https://localhost:8080/"
        },
        "id": "bG5awXKo40HS",
        "outputId": "152131a5-e75f-4019-9b5a-478365dce041"
      },
      "outputs": [
        {
          "name": "stdout",
          "output_type": "stream",
          "text": [
            "First few tweets extracted from the file:\n",
            "['بنشین تا شود نقش فال ما \\nنقش هم\\u200c فردا شدن\\n#مهسا_امینی \\n#Mahsa_Amini \\n#MahsaAmini', '@Tanasoli_Return @dr_moosavi این گوزو رو کی گردن میگیره؟؟ دچار زوال عقل شده از بس پای منبر دستمال کشی کرده.\\n#Mahsa_Amini \\n#OpIran \\n#مرگ_بر_خامنه\\u200cای \\n#IranProtests \\n#مهسا_امینی', '@ghazaleghaffary برای ایران، برای مهسا.\\n#OpIran \\n#Mahsa_Amini \\n#مهساامینی \\n#مهسا_امینی', '@_hidden_ocean مرگ بر دیکتاتور \\n#OpIran \\n#Mahsa_Amini \\n#مهسا_امینی', 'نذاریم خونشون پایمال شه.\\u200c\\u200c.\\u200c\\u200c.\\n#Mahsa_Amini #MahsaAmini #مهسا_امینی', '@Nabauti88 مابهت افتخار میکنیم نبات باعث شدی کل دنیا مارو ببینه \\n#Mahsa_Amini \\n#مهسا_امینی', '@Bunnpaw برای انسانای خوشگلمون\\n\\n#مهسا_امینی \\n#Mahsa_Amini \\n#OpIran', '@neginsh فارغ از هر باوری متحد شویم.\\n#مهسا_امینی\\n#Mahsa_Amini', '@mansurehhossai2 اینها عجب موجودات پستی هستن🥺🥺🥺الهی بگردم، من خودم باردارم و حتی توتظاهرات مسالمت امیز خارج ایران استرس داشتم ادم ها نا خود اگاه بهم ضربه بزنن،بمیرم برای دل اون زن که چه کشیده...مرگ بر دیکتاتور\\n#مهساامینی #مرگ_بر_دیکتاتور #Mahsa_Amini', '@ShahinMaghsoodi کصخلا چرا ۴ تاوفحشش نمیدن؟\\n\\n#Mahsa_Amini\\n#مهسا_امینی \\n#OpIran']\n",
            "First few preprocessed tweets extracted from the file:\n",
            "['بنشین تا شود نقش فال ما نقش هم فردا شدن', 'این گوزو رو کی گردن میگیره؟؟ دچار زوال عقل شده از بس پای منبر دستمال کشی کرده.', 'برای ایران، برای مهسا.', 'مرگ بر دیکتاتور', 'نذاریم خونشون پایمال شه...', 'مابهت افتخار میکنیم نبات باعث شدی کل دنیا مارو ببینه', 'برای انسانای خوشگلمون', 'فارغ از هر باوری متحد شویم.', 'اینها عجب موجودات پستی هستن🥺🥺🥺الهی بگردم، من خودم باردارم و حتی توتظاهرات مسالمت امیز خارج ایران استرس داشتم ادم ها نا خود اگاه بهم ضربه بزنن،بمیرم برای دل اون زن که چه کشیده...مرگ بر دیکتاتور', 'کصخلا چرا ۴ تاوفحشش نمیدن؟']\n"
          ]
        }
      ],
      "source": [
        "# 1. extract all tweets from file and save them in memory\n",
        "data = pd.read_csv(SOURCE_DIR)\n",
        "tweets = data['Text'].tolist()\n",
        "print(\"First few tweets extracted from the file:\")\n",
        "print(tweets[:10])  # Displaying the first 5 tweets as an example\n",
        "\n",
        "# # 2. remove urls, hashtags and usernames. use the prepared functions\n",
        "cleaned_tweets = []\n",
        "for tweet in tweets:\n",
        "    cleaned_tweet = delete_url(tweet)\n",
        "    cleaned_tweet = delete_hashtag_usernames(cleaned_tweet)\n",
        "    cleaned_tweet = delete_ex(cleaned_tweet)\n",
        "    cleaned_tweets.append(cleaned_tweet)\n",
        "\n",
        "print(\"First few preprocessed tweets extracted from the file:\")\n",
        "print(cleaned_tweets[:10])  # Displaying the first 5 tweets as an example"
      ]
    },
    {
      "cell_type": "markdown",
      "metadata": {
        "id": "37qE_JDIE83N"
      },
      "source": [
        "# 1. Functions"
      ]
    },
    {
      "cell_type": "markdown",
      "metadata": {
        "id": "U02RgwWWE83N"
      },
      "source": [
        "## Cosine Similarity\n",
        "\n",
        "To measure the similarity between two words, you need a way to measure the degree of similarity between two embedding vectors for the two words. Given two vectors $u$ and $v$, cosine similarity is defined as follows:\n",
        "\n",
        "$$\\text{CosineSimilarity(u, v)} = \\frac {u \\cdot v} {||u||_2 ||v||_2} = cos(\\theta) \\tag{1}$$\n",
        "\n",
        "* $u \\cdot v$ is the dot product (or inner product) of two vectors\n",
        "* $||u||_2$ is the norm (or length) of the vector $u$\n",
        "* $\\theta$ is the angle between $u$ and $v$.\n",
        "* The cosine similarity depends on the angle between $u$ and $v$.\n",
        "    * If $u$ and $v$ are very similar, their cosine similarity will be close to 1.\n",
        "    * If they are dissimilar, the cosine similarity will take a smaller value.\n",
        "\n",
        "<img src=\"images/cosine_sim.png\" style=\"width:800px;height:250px;\">\n",
        "<caption><center><font color='purple'><b>Figure 1</b>: The cosine of the angle between two vectors is a measure of their similarity.</font></center></caption>\n",
        "\n",
        "Implement the function `cosine_similarity()` to evaluate the similarity between word vectors.\n",
        "\n",
        "**Reminder**: The norm of $u$ is defined as $ ||u||_2 = \\sqrt{\\sum_{i=1}^{n} u_i^2}$"
      ]
    },
    {
      "cell_type": "code",
      "execution_count": 5,
      "metadata": {
        "id": "TliLcPw_E83N"
      },
      "outputs": [],
      "source": [
        "def cosine_similarity(u, v):\n",
        "    \"\"\"\n",
        "    Cosine similarity reflects the degree of similarity between u and v\n",
        "\n",
        "    Arguments:\n",
        "        u -- a word vector of shape (n,)\n",
        "        v -- a word vector of shape (n,)\n",
        "\n",
        "    Returns:\n",
        "        cosine_similarity -- the cosine similarity between u and v defined by the formula above.\n",
        "    \"\"\"\n",
        "\n",
        "    # pass\n",
        "    # Calculate the dot product\n",
        "    dot_product = np.dot(u, v)\n",
        "    # dot_product = np.sum(u * v)\n",
        "\n",
        "    # Calculate the norms\n",
        "    norm_u = np.linalg.norm(u)\n",
        "    norm_v = np.linalg.norm(v)\n",
        "\n",
        "    # Avoid zero division\n",
        "    if norm_u == 0 or norm_v == 0:\n",
        "        return 0\n",
        "\n",
        "    # Apply the cosine similarity formula\n",
        "    cosine_similarity = dot_product / (norm_u * norm_v)\n",
        "\n",
        "    return cosine_similarity"
      ]
    },
    {
      "cell_type": "markdown",
      "metadata": {
        "id": "bNophmCxE83N"
      },
      "source": [
        "## find k nearest neighbors"
      ]
    },
    {
      "cell_type": "code",
      "execution_count": 6,
      "metadata": {
        "id": "7-X59-P1E83N"
      },
      "outputs": [],
      "source": [
        "def find_k_nearest_neighbors(word, embedding_dict, k):\n",
        "  \"\"\"\n",
        "    implement a function to return the nearest words to an specific word based on the given dictionary\n",
        "\n",
        "    Arguments:\n",
        "        word           -- a word, string\n",
        "        embedding_dict -- dictionary that maps words to their corresponding vectors\n",
        "        k              -- the number of word that should be returned\n",
        "\n",
        "    Returns:\n",
        "        a list of size k consisting of the k most similar words to the given word\n",
        "\n",
        "    Note: use the cosine_similarity function that you have implemented to calculate the similarity between words\n",
        "    \"\"\"\n",
        "\n",
        "  # pass\n",
        "\n",
        "  # Get the word vector\n",
        "  # word_vector = embedding_dict.get(word)\n",
        "  word_vector = embedding_dict[word]\n",
        "\n",
        "  # Check if word exists\n",
        "  if word_vector is None:\n",
        "    return []\n",
        "\n",
        "  # Create a list of (word, similarity) tuples\n",
        "  similarities = []\n",
        "  for neighbor, neighbor_vector in embedding_dict.items():\n",
        "    if neighbor != word:\n",
        "      similarity = cosine_similarity(word_vector, neighbor_vector)\n",
        "      similarities.append((neighbor, similarity))\n",
        "\n",
        "  # Sort by similarity in descending order and return k nearest neighbors\n",
        "  similarities.sort(key=lambda x: x[1], reverse=True)\n",
        "  return [neighbor for neighbor, similarity in similarities[:k]]"
      ]
    },
    {
      "cell_type": "markdown",
      "metadata": {
        "id": "Nqr5DLDYuKd-"
      },
      "source": [
        "# 2. One hot encoding"
      ]
    },
    {
      "cell_type": "code",
      "execution_count": null,
      "metadata": {
        "colab": {
          "base_uri": "https://localhost:8080/"
        },
        "id": "OPqc0I0yuNlI",
        "outputId": "e8b6e0d8-2874-49e0-a740-d6e5694f2a7b"
      },
      "outputs": [
        {
          "name": "stdout",
          "output_type": "stream",
          "text": [
            "10 nearest words to 'آزادی' using one-hot encoding:\n",
            "['درآمد', 'مهباد', 'بیگانگان', 'بنگ', 'مارینا', 'گیرش', 'قربانیانی', 'star-stuff', 'جونته.', 'اینروزا']\n"
          ]
        }
      ],
      "source": [
        "# 1. find one hot encoding of each word\n",
        "# One hot encoding of each word can be achieved by assigning a unique index to each word and then using OneHotEncoder\n",
        "# to transform the indices into one-hot encoded vectors.\n",
        "\n",
        "vocabulary = set()\n",
        "for tweet in cleaned_tweets:\n",
        "    for word in tweet.split():\n",
        "        vocabulary.add(word)\n",
        "\n",
        "vocabulary = list(vocabulary)\n",
        "one_hot_encoder = OneHotEncoder()\n",
        "one_hot_encoded = one_hot_encoder.fit_transform(np.array(vocabulary).reshape(-1, 1)).toarray()\n",
        "\n",
        "word_to_vector = dict(zip(vocabulary, one_hot_encoded))\n",
        "\n",
        "# 2. find 10 nearest words from \"آزادی\"\n",
        "target_word = \"آزادی\"\n",
        "nearest_words = find_k_nearest_neighbors(target_word, word_to_vector, 10)\n",
        "print(f\"10 nearest words to '{target_word}' using one-hot encoding:\")\n",
        "print(nearest_words)"
      ]
    },
    {
      "cell_type": "markdown",
      "metadata": {
        "id": "YLctTCd5E83O"
      },
      "source": [
        "##### Describe advantages and disadvantages of one-hot encoding"
      ]
    },
    {
      "cell_type": "markdown",
      "metadata": {
        "id": "A9tAFn4brKrB"
      },
      "source": [
        "Advantage: One-hot encoding is a simple and intuitive way to represent categorical data numerically. It creates a sparse vector representation where each dimension corresponds to a unique category or word. This representation preserves the uniqueness of each category.\n",
        "All in all, One-hot encoding is simple and easy to implement. It represents each word as a unique binary vector.\n",
        "\n",
        "\n",
        "Disadvantage: One-hot encoding suffers from the curse of dimensionality, as the vector size grows linearly with the number of unique categories or words in the vocabulary. This can lead to high-dimensional and sparse vectors, which can be inefficient for large vocabularies and make it difficult to capture semantic relationships between words.\n",
        "In other words, One-hot encoding creates very high-dimensional sparse vectors, which can be inefficient in terms of memory and computation. It doesn't capture semantic relationships between words."
      ]
    },
    {
      "cell_type": "markdown",
      "metadata": {
        "id": "qHeSYFUKw5gw"
      },
      "source": [
        "# 3. TF-IDF"
      ]
    },
    {
      "cell_type": "code",
      "execution_count": null,
      "metadata": {
        "colab": {
          "base_uri": "https://localhost:8080/"
        },
        "id": "SJMju0Tiw9YA",
        "outputId": "832a856f-ad76-40fd-c340-bcfdaaa01a6f"
      },
      "outputs": [
        {
          "name": "stdout",
          "output_type": "stream",
          "text": [
            "Randomly chosen tweet: کراش زدم روت رفتتتتت ....\n",
            "\n",
            "10 nearest tweets to the randomly chosen tweet:\n",
            "چه کراش هایی ک زده شد: 0.3335340702074742\n",
            "بشکنه دستی ک روت بلند شد🙂🖤: 0.28296132859863815\n",
            "زدم تو شارژ🥹😂: 0.23040479974216077\n",
            "ولی من فوتبالیست های تیم ملی رو از یادم نمیره که نه نونشون از ج.ا بود نه توی ایران زندگی میکردن ولی امسال ج.ا رو با بازی نکردنشون تحریم نکردن . افسوس بر من و ریدم بهت سعید عزت اللهی که روت کراش داشتم و به همین سادگی از چشم افتادی: 0.20672124397806296\n",
            "از ته دلم داد زدم امروز: 0.18501444409855142\n",
            "هرچند زیر صدم اما زدم: 0.17305157313249994\n",
            "برای امنیت دخترم و برای آزادی این توییت رو زدم: 0.1691634866235081\n",
            "فالوم کنید تا هشتک هایی که زدم حساب بشه: 0.16223128852395072\n",
            "فک کنم امروز کم هشتگ زدم پس به نام خدا: 0.15436672355684475\n",
            "بخدا یه ربع زور زدم یادم بیاد کی بود:): 0.13668832478853316\n"
          ]
        }
      ],
      "source": [
        "# 1. find the TF-IDF of all tweets.\n",
        "from sklearn.feature_extraction.text import TfidfVectorizer\n",
        "\n",
        "tfidf_vectorizer = TfidfVectorizer()\n",
        "tfidf_matrix = tfidf_vectorizer.fit_transform(cleaned_tweets)\n",
        "tweet_vectors = tfidf_matrix.toarray() # is it essential?\n",
        "\n",
        "# 2. choose one tweets randomly.\n",
        "import random\n",
        "random_tweet_index = random.randint(0, len(cleaned_tweets) - 1) # note it includes both end points\n",
        "\n",
        "random_tweet_vector = tweet_vectors[random_tweet_index]\n",
        "random_tweet = cleaned_tweets[random_tweet_index]\n",
        "print(f\"Randomly chosen tweet: {random_tweet}\")\n",
        "\n",
        "# 3. find 10 nearest tweets from chosen tweet.\n",
        "similarities = []\n",
        "for i, other_tweet_vector in enumerate(tweet_vectors):\n",
        "    if i != random_tweet_index:\n",
        "        similarity = cosine_similarity(random_tweet_vector, other_tweet_vector)\n",
        "        similarities.append((cleaned_tweets[i], similarity))\n",
        "\n",
        "similarities.sort(key=lambda x: x[1], reverse=True)\n",
        "# top_10_similar_tweets = [sim[0] for sim in similarities[:10]]\n",
        "print(f\"\\n10 nearest tweets to the randomly chosen tweet:\")\n",
        "for tweet, similarity in similarities[:10]:\n",
        "    print(f\"{tweet}: {similarity}\")"
      ]
    },
    {
      "cell_type": "markdown",
      "metadata": {
        "id": "Ybw8_cx4E83O"
      },
      "source": [
        "##### Describe advantages and disadvantages of TF-IDF"
      ]
    },
    {
      "cell_type": "markdown",
      "metadata": {
        "id": "3GHvpTAZu7ZU"
      },
      "source": [
        "Advatages: TF-IDF captures the importance of words in a document relative to a corpus. It can effectively represent the importance of rare words.\n",
        "- TF-IDF is a simple and effective way to represent text data numerically.\n",
        "- It captures the importance of words in a document relative to the entire corpus.\n",
        "- It can help in tasks like document classification, clustering, and information retrieval.\n",
        "- Simplicity and Efficiency: Easy to implement and computationally efficient, suitable for basic information retrieval tasks.\n",
        "- Effectiveness in Document Retrieval: Particularly good at identifying documents relevant to specific terms, thanks to their focus on term frequency.\n",
        "\n",
        "\n",
        "Disadvantages: TF-IDF does not capture semantic relationships between words. It treats each word independently within a document and does not consider word order or context.\n",
        "- TF-IDF is a bag-of-words representation, meaning it loses the order and context of words in the text.\n",
        "- It cannot capture semantic relationships between words or handle polysemy (words with multiple meanings).\n",
        "- It can be affected by noisy or irrelevant words in the text.\n",
        "- Lack of Semantic Understanding: it doesn’t capture deeper semantic relationships between words, leading to limited contextual interpretation.\n",
        "- Sparse Representations: Can result in high-dimensional and sparse vectors, which are less efficient for complex NLP tasks."
      ]
    },
    {
      "cell_type": "markdown",
      "metadata": {
        "id": "INM6vtm2zqJs"
      },
      "source": [
        "# 4. Word2Vec"
      ]
    },
    {
      "cell_type": "code",
      "execution_count": null,
      "metadata": {
        "colab": {
          "base_uri": "https://localhost:8080/"
        },
        "id": "TCnxqaVY2zCc",
        "outputId": "50fd970b-552f-4a2a-aa62-a633507e740f"
      },
      "outputs": [
        {
          "name": "stdout",
          "output_type": "stream",
          "text": [
            "10 Nearest words to 'آزادی' using Word2Vec:\n",
            "ازادی: 0.9970999956130981\n",
            "زندگی،: 0.9964518547058105\n",
            "زن،: 0.995034396648407\n",
            "آزادی،: 0.9922642111778259\n",
            "ایرانم: 0.9903299808502197\n",
            "زن: 0.9895511865615845\n",
            "وطنم: 0.9879950881004333\n",
            "مرد،: 0.9879660606384277\n",
            "زندگی: 0.9867634177207947\n",
            "کشورم: 0.9861322641372681\n"
          ]
        }
      ],
      "source": [
        "# 1. train a word2vec model base on all tweets\n",
        "tokenized_tweets = [tweet.split() for tweet in cleaned_tweets]\n",
        "word2vec_model = Word2Vec(sentences=tokenized_tweets, vector_size=100, window=5, min_count=1, workers=4)\n",
        "\n",
        "# 2. find 10 nearest words from \"آزادی\"\n",
        "nearest_words_word2vec = word2vec_model.wv.most_similar(\"آزادی\", topn=10)\n",
        "print(\"10 Nearest words to 'آزادی' using Word2Vec:\")\n",
        "for word, similarity in nearest_words_word2vec:\n",
        "    print(f\"{word}: {similarity}\")"
      ]
    },
    {
      "cell_type": "markdown",
      "metadata": {
        "id": "T2aEnzHJE83P"
      },
      "source": [
        "##### Describe advantages and disadvantages of Word2Vec"
      ]
    },
    {
      "cell_type": "markdown",
      "metadata": {
        "id": "xv39LXf0wkjd"
      },
      "source": [
        "Advantages: Word2Vec captures semantic relationships between words and can generate meaningful word embeddings. It can capture complex relationships and analogies between words.\n",
        "- Word2Vec can capture semantic and syntactic relationships between words by learning dense vector representations.\n",
        "- The learned embeddings can be used as features for various NLP tasks, improving performance.\n",
        "- It can handle(implemented manually and change original Word2Vec) polysemy by learning multiple representations for a word based on its context.\n",
        "- Semantic Relationship Modeling: Capable of capturing complex semantic relationships between words, offering richer representations.\n",
        "\n",
        "Disadvantages: Word2Vec may not perform well with rare words or out-of-vocabulary words. It requires a large amount of training data to learn meaningful embeddings.\n",
        "- Word2Vec is a context-free model, meaning it cannot handle the same word with different meanings in different contexts(polysemy). It is not context-sensitive.\n",
        "- It requires a large amount of training data to learn high-quality embeddings.\n",
        "- The embeddings are static and cannot be updated or fine-tuned for specific tasks or domains.\n",
        "- Fixed Context: Static embeddings assign a single, context-independent representation to each word, limiting their effectiveness in contextually varied scenarios.\n",
        "- Computational Intensity: Requires significant computational resources for training on large corpora."
      ]
    },
    {
      "cell_type": "markdown",
      "metadata": {
        "id": "RSdlWMl64aPN"
      },
      "source": [
        "# 5. Contextualized embedding"
      ]
    },
    {
      "cell_type": "code",
      "execution_count": null,
      "metadata": {
        "colab": {
          "base_uri": "https://localhost:8080/"
        },
        "id": "zgVAEQhyOPxg",
        "outputId": "4dacd352-ad1d-41c9-a559-1aaadc4e683a"
      },
      "outputs": [
        {
          "name": "stdout",
          "output_type": "stream",
          "text": [
            "Requirement already satisfied: transformers[sentencepiece] in /usr/local/lib/python3.10/dist-packages (4.38.2)\n",
            "Requirement already satisfied: filelock in /usr/local/lib/python3.10/dist-packages (from transformers[sentencepiece]) (3.13.3)\n",
            "Requirement already satisfied: huggingface-hub<1.0,>=0.19.3 in /usr/local/lib/python3.10/dist-packages (from transformers[sentencepiece]) (0.20.3)\n",
            "Requirement already satisfied: numpy>=1.17 in /usr/local/lib/python3.10/dist-packages (from transformers[sentencepiece]) (1.25.2)\n",
            "Requirement already satisfied: packaging>=20.0 in /usr/local/lib/python3.10/dist-packages (from transformers[sentencepiece]) (24.0)\n",
            "Requirement already satisfied: pyyaml>=5.1 in /usr/local/lib/python3.10/dist-packages (from transformers[sentencepiece]) (6.0.1)\n",
            "Requirement already satisfied: regex!=2019.12.17 in /usr/local/lib/python3.10/dist-packages (from transformers[sentencepiece]) (2023.12.25)\n",
            "Requirement already satisfied: requests in /usr/local/lib/python3.10/dist-packages (from transformers[sentencepiece]) (2.31.0)\n",
            "Requirement already satisfied: tokenizers<0.19,>=0.14 in /usr/local/lib/python3.10/dist-packages (from transformers[sentencepiece]) (0.15.2)\n",
            "Requirement already satisfied: safetensors>=0.4.1 in /usr/local/lib/python3.10/dist-packages (from transformers[sentencepiece]) (0.4.2)\n",
            "Requirement already satisfied: tqdm>=4.27 in /usr/local/lib/python3.10/dist-packages (from transformers[sentencepiece]) (4.66.2)\n",
            "Requirement already satisfied: sentencepiece!=0.1.92,>=0.1.91 in /usr/local/lib/python3.10/dist-packages (from transformers[sentencepiece]) (0.1.99)\n",
            "Requirement already satisfied: protobuf in /usr/local/lib/python3.10/dist-packages (from transformers[sentencepiece]) (3.20.3)\n",
            "Requirement already satisfied: fsspec>=2023.5.0 in /usr/local/lib/python3.10/dist-packages (from huggingface-hub<1.0,>=0.19.3->transformers[sentencepiece]) (2023.6.0)\n",
            "Requirement already satisfied: typing-extensions>=3.7.4.3 in /usr/local/lib/python3.10/dist-packages (from huggingface-hub<1.0,>=0.19.3->transformers[sentencepiece]) (4.10.0)\n",
            "Requirement already satisfied: charset-normalizer<4,>=2 in /usr/local/lib/python3.10/dist-packages (from requests->transformers[sentencepiece]) (3.3.2)\n",
            "Requirement already satisfied: idna<4,>=2.5 in /usr/local/lib/python3.10/dist-packages (from requests->transformers[sentencepiece]) (3.6)\n",
            "Requirement already satisfied: urllib3<3,>=1.21.1 in /usr/local/lib/python3.10/dist-packages (from requests->transformers[sentencepiece]) (2.0.7)\n",
            "Requirement already satisfied: certifi>=2017.4.17 in /usr/local/lib/python3.10/dist-packages (from requests->transformers[sentencepiece]) (2024.2.2)\n"
          ]
        }
      ],
      "source": [
        "!pip install transformers[sentencepiece]"
      ]
    },
    {
      "cell_type": "code",
      "execution_count": null,
      "metadata": {
        "id": "GfKEqNml6eEB"
      },
      "outputs": [],
      "source": [
        "# Load model and tokenizer\n",
        "\n",
        "from transformers import BertModel, BertTokenizer\n",
        "\n",
        "model_name = \"HooshvareLab/bert-base-parsbert-uncased\"\n",
        "# tokenizer = BertTokenizer.from_pretrained(model_name)\n",
        "# model = BertModel.from_pretrained(model_name)"
      ]
    },
    {
      "cell_type": "code",
      "execution_count": null,
      "metadata": {
        "colab": {
          "base_uri": "https://localhost:8080/"
        },
        "id": "3H4Gg8q1UTKf",
        "outputId": "1b88f514-7598-4d9e-d96c-4b2b23eddaec"
      },
      "outputs": [
        {
          "name": "stdout",
          "output_type": "stream",
          "text": [
            "Requirement already satisfied: datasets in /usr/local/lib/python3.10/dist-packages (2.18.0)\n",
            "Requirement already satisfied: filelock in /usr/local/lib/python3.10/dist-packages (from datasets) (3.13.3)\n",
            "Requirement already satisfied: numpy>=1.17 in /usr/local/lib/python3.10/dist-packages (from datasets) (1.25.2)\n",
            "Requirement already satisfied: pyarrow>=12.0.0 in /usr/local/lib/python3.10/dist-packages (from datasets) (14.0.2)\n",
            "Requirement already satisfied: pyarrow-hotfix in /usr/local/lib/python3.10/dist-packages (from datasets) (0.6)\n",
            "Requirement already satisfied: dill<0.3.9,>=0.3.0 in /usr/local/lib/python3.10/dist-packages (from datasets) (0.3.8)\n",
            "Requirement already satisfied: pandas in /usr/local/lib/python3.10/dist-packages (from datasets) (2.0.3)\n",
            "Requirement already satisfied: requests>=2.19.0 in /usr/local/lib/python3.10/dist-packages (from datasets) (2.31.0)\n",
            "Requirement already satisfied: tqdm>=4.62.1 in /usr/local/lib/python3.10/dist-packages (from datasets) (4.66.2)\n",
            "Requirement already satisfied: xxhash in /usr/local/lib/python3.10/dist-packages (from datasets) (3.4.1)\n",
            "Requirement already satisfied: multiprocess in /usr/local/lib/python3.10/dist-packages (from datasets) (0.70.16)\n",
            "Requirement already satisfied: fsspec[http]<=2024.2.0,>=2023.1.0 in /usr/local/lib/python3.10/dist-packages (from datasets) (2023.6.0)\n",
            "Requirement already satisfied: aiohttp in /usr/local/lib/python3.10/dist-packages (from datasets) (3.9.3)\n",
            "Requirement already satisfied: huggingface-hub>=0.19.4 in /usr/local/lib/python3.10/dist-packages (from datasets) (0.20.3)\n",
            "Requirement already satisfied: packaging in /usr/local/lib/python3.10/dist-packages (from datasets) (24.0)\n",
            "Requirement already satisfied: pyyaml>=5.1 in /usr/local/lib/python3.10/dist-packages (from datasets) (6.0.1)\n",
            "Requirement already satisfied: aiosignal>=1.1.2 in /usr/local/lib/python3.10/dist-packages (from aiohttp->datasets) (1.3.1)\n",
            "Requirement already satisfied: attrs>=17.3.0 in /usr/local/lib/python3.10/dist-packages (from aiohttp->datasets) (23.2.0)\n",
            "Requirement already satisfied: frozenlist>=1.1.1 in /usr/local/lib/python3.10/dist-packages (from aiohttp->datasets) (1.4.1)\n",
            "Requirement already satisfied: multidict<7.0,>=4.5 in /usr/local/lib/python3.10/dist-packages (from aiohttp->datasets) (6.0.5)\n",
            "Requirement already satisfied: yarl<2.0,>=1.0 in /usr/local/lib/python3.10/dist-packages (from aiohttp->datasets) (1.9.4)\n",
            "Requirement already satisfied: async-timeout<5.0,>=4.0 in /usr/local/lib/python3.10/dist-packages (from aiohttp->datasets) (4.0.3)\n",
            "Requirement already satisfied: typing-extensions>=3.7.4.3 in /usr/local/lib/python3.10/dist-packages (from huggingface-hub>=0.19.4->datasets) (4.10.0)\n",
            "Requirement already satisfied: charset-normalizer<4,>=2 in /usr/local/lib/python3.10/dist-packages (from requests>=2.19.0->datasets) (3.3.2)\n",
            "Requirement already satisfied: idna<4,>=2.5 in /usr/local/lib/python3.10/dist-packages (from requests>=2.19.0->datasets) (3.6)\n",
            "Requirement already satisfied: urllib3<3,>=1.21.1 in /usr/local/lib/python3.10/dist-packages (from requests>=2.19.0->datasets) (2.0.7)\n",
            "Requirement already satisfied: certifi>=2017.4.17 in /usr/local/lib/python3.10/dist-packages (from requests>=2.19.0->datasets) (2024.2.2)\n",
            "Requirement already satisfied: python-dateutil>=2.8.2 in /usr/local/lib/python3.10/dist-packages (from pandas->datasets) (2.8.2)\n",
            "Requirement already satisfied: pytz>=2020.1 in /usr/local/lib/python3.10/dist-packages (from pandas->datasets) (2023.4)\n",
            "Requirement already satisfied: tzdata>=2022.1 in /usr/local/lib/python3.10/dist-packages (from pandas->datasets) (2024.1)\n",
            "Requirement already satisfied: six>=1.5 in /usr/local/lib/python3.10/dist-packages (from python-dateutil>=2.8.2->pandas->datasets) (1.16.0)\n"
          ]
        }
      ],
      "source": [
        "!pip install datasets # Huggingface datasets: for loading data"
      ]
    },
    {
      "cell_type": "code",
      "execution_count": null,
      "metadata": {
        "colab": {
          "base_uri": "https://localhost:8080/",
          "height": 443,
          "referenced_widgets": [
            "ab2d49bc5b3648aaa2f42c798ea80000",
            "a2fdcba1e1e84221a7044f1e5f7640ab",
            "3935d17583444253baee6c92371849c8",
            "e9e3d39b3bf44feaa302375e6483da20",
            "7c5437b6763f4262b9369309f54e13bd",
            "4a7b8a984a214e1f9994718eb5c5e6ed",
            "9f54d6d25d02480ca5a25b9d5f602a0f",
            "ce35ced1b6dc46469b5cc4ac53d75bbb",
            "8e4775e6c44845abbd4e820a0b5126d9",
            "83f7dcc61c2841e7a29434fb6d478a5e",
            "d5c470ea7819457cb7766285dd173435",
            "fb98a1d4017947339fca76aed73c2bab",
            "f37de074fe7344c8996334872ae8cf51",
            "50bfb6c09c4d451b8a8713241009d35f",
            "3c0f18b13c6d41fdac7a0395817c9120",
            "53f1c32de29b4126a7752426221900d4",
            "d7287d27a6704566a95455d8ef896e97",
            "b49e04ed541649ebbce96075c7abc0f3",
            "738e6717d631411e87668ff3dc7814ad",
            "39283619f33245ef9f3cb6ccae6be312",
            "251118d573ed42a9baf927837a85e7de",
            "631d7e27242c4a688687752c79500637",
            "7f6403427d724e069dcaf2705cc1f85d",
            "e0a0e5b9cee940f7b5d6b832594f7818",
            "e44b1f7494c84915972912b7bd655b24",
            "1bd5ca0d48e34af590e2e03eef26efea",
            "90a3adbbbd684eecb1088732da600b5d",
            "4b59eb8caf7f499092e4ac2b0c308a8a",
            "967d58867f124ec582826fd0ba031ef3",
            "5bb524c40ffb4800b5fe1889c0535dc0",
            "21eef8f809e64e98a9d387309654c423",
            "fe896baadb6a462ca7311d11641489bf",
            "4d51eecc74b144a9a96324c6967e8e45",
            "b7b4a6ca3f254b39ab995c9d76aa15c3",
            "861b0b6549e04874a0c5840639f0078c",
            "899b7cd976aa418f9605ba84b44f53f5",
            "c765d46815e5496b80254a1ad63a896d",
            "a7f8ccc982e7445f8a234e57d1ace0df",
            "229812e182184a338d3227208a0818c0",
            "508822dd7d6049838702072673d657fa",
            "8b2b8cb7bb254d6f9fbd37d777bd1582",
            "3c20fb2733ee485b939c7c402fd22ab0",
            "82c688c29319463a85bc4fd6ad39f323",
            "856534597bc345afa346dcc997ee6a62"
          ]
        },
        "id": "HdMjIb-1UKpJ",
        "outputId": "035cc7dc-9b9e-4ebe-bc21-64cbfdf3335f"
      },
      "outputs": [
        {
          "name": "stderr",
          "output_type": "stream",
          "text": [
            "/usr/local/lib/python3.10/dist-packages/huggingface_hub/utils/_token.py:88: UserWarning: \n",
            "The secret `HF_TOKEN` does not exist in your Colab secrets.\n",
            "To authenticate with the Hugging Face Hub, create a token in your settings tab (https://huggingface.co/settings/tokens), set it as secret in your Google Colab and restart your session.\n",
            "You will be able to reuse this secret in all of your notebooks.\n",
            "Please note that authentication is recommended but still optional to access public models or datasets.\n",
            "  warnings.warn(\n"
          ]
        },
        {
          "data": {
            "application/vnd.jupyter.widget-view+json": {
              "model_id": "ab2d49bc5b3648aaa2f42c798ea80000",
              "version_major": 2,
              "version_minor": 0
            },
            "text/plain": [
              "vocab.txt:   0%|          | 0.00/1.22M [00:00<?, ?B/s]"
            ]
          },
          "metadata": {},
          "output_type": "display_data"
        },
        {
          "data": {
            "application/vnd.jupyter.widget-view+json": {
              "model_id": "fb98a1d4017947339fca76aed73c2bab",
              "version_major": 2,
              "version_minor": 0
            },
            "text/plain": [
              "config.json:   0%|          | 0.00/434 [00:00<?, ?B/s]"
            ]
          },
          "metadata": {},
          "output_type": "display_data"
        },
        {
          "data": {
            "application/vnd.jupyter.widget-view+json": {
              "model_id": "7f6403427d724e069dcaf2705cc1f85d",
              "version_major": 2,
              "version_minor": 0
            },
            "text/plain": [
              "Map:   0%|          | 0/20000 [00:00<?, ? examples/s]"
            ]
          },
          "metadata": {},
          "output_type": "display_data"
        },
        {
          "data": {
            "application/vnd.jupyter.widget-view+json": {
              "model_id": "b7b4a6ca3f254b39ab995c9d76aa15c3",
              "version_major": 2,
              "version_minor": 0
            },
            "text/plain": [
              "pytorch_model.bin:   0%|          | 0.00/654M [00:00<?, ?B/s]"
            ]
          },
          "metadata": {},
          "output_type": "display_data"
        },
        {
          "name": "stderr",
          "output_type": "stream",
          "text": [
            "Some weights of BertForSequenceClassification were not initialized from the model checkpoint at HooshvareLab/bert-base-parsbert-uncased and are newly initialized: ['classifier.bias', 'classifier.weight']\n",
            "You should probably TRAIN this model on a down-stream task to be able to use it for predictions and inference.\n",
            "/usr/local/lib/python3.10/dist-packages/transformers/optimization.py:429: FutureWarning: This implementation of AdamW is deprecated and will be removed in a future version. Use the PyTorch implementation torch.optim.AdamW instead, or set `no_deprecation_warning=True` to disable this warning\n",
            "  warnings.warn(\n"
          ]
        },
        {
          "name": "stdout",
          "output_type": "stream",
          "text": [
            "Epoch 1, Average Train Loss: 1.1121\n",
            "Epoch 1, Average Validation Loss: 0.8820\n",
            "Epoch 2, Average Train Loss: 0.7841\n",
            "Epoch 2, Average Validation Loss: 0.8205\n",
            "Epoch 3, Average Train Loss: 0.6328\n",
            "Epoch 3, Average Validation Loss: 0.8043\n"
          ]
        }
      ],
      "source": [
        "# 1. Fine-tune the model based on all tweets\n",
        "\n",
        "# Load model and tokenizer\n",
        "from transformers import BertTokenizer, BertForSequenceClassification\n",
        "from transformers import AdamW, get_linear_schedule_with_warmup\n",
        "from datasets import load_dataset, DatasetDict, Dataset\n",
        "from torch.utils.data import DataLoader\n",
        "import pandas as pd\n",
        "\n",
        "model_name = \"HooshvareLab/bert-base-parsbert-uncased\"\n",
        "tokenizer = BertTokenizer.from_pretrained(model_name)\n",
        "\n",
        "# Load and preprocess data using pandas\n",
        "SOURCE_DIR = '/content/gdrive/MyDrive/Q3_data.csv'\n",
        "tweets_df = pd.read_csv(SOURCE_DIR)\n",
        "tweets_df = tweets_df.rename(columns={'Text': 'text', 'Sentiment': 'label'})\n",
        "\n",
        "tweets_df['text'] = tweets_df['text'].apply(delete_hashtag_usernames).apply(delete_url).apply(delete_ex)\n",
        "# tweets_df['text'] = tweets_df['PureText']\n",
        "\n",
        "tweets_df = tweets_df.drop(['Unnamed: 0', 'Datetime', 'PureText', 'Language', 'Date'], axis=1)\n",
        "label_mapping = {'very negative': 0, 'negative': 1, 'no sentiment expressed': 2, 'positive': 3, 'very positive': 4, 'mixed': 5}\n",
        "tweets_df['label'] = tweets_df['label'].map(label_mapping)\n",
        "\n",
        "#  Convert pandas DataFrame to Hugging Face Dataset\n",
        "dataset = Dataset.from_pandas(tweets_df)\n",
        "\n",
        "# Tokenize and encode data\n",
        "max_length = 128  # Set a reasonable maximum length for the BERT model\n",
        "def tokenize(batch):\n",
        "    return tokenizer(batch['text'], padding='longest', max_length=max_length, truncation=True, return_tensors='pt')\n",
        "\n",
        "tokenized_dataset = dataset.map(tokenize, batched=True, batch_size=16)\n",
        "tokenized_dataset = tokenized_dataset.remove_columns(['text'])\n",
        "tokenized_dataset = tokenized_dataset.rename_column('label', 'labels')\n",
        "tokenized_dataset.set_format('torch')\n",
        "\n",
        "# Split data into train and validation sets\n",
        "train_dataset = tokenized_dataset.train_test_split(test_size=0.1, seed=42)['train']\n",
        "val_dataset = tokenized_dataset.train_test_split(test_size=0.1, seed=42)['test']\n",
        "\n",
        "# Create dataloaders\n",
        "from typing import Dict\n",
        "\n",
        "def collate_fn(batch: Dict[str, torch.Tensor]) -> Dict[str, torch.Tensor]:\n",
        "    \"\"\"\n",
        "    Pad the sequences in a batch to the maximum length.\n",
        "    \"\"\"\n",
        "    input_ids = [item['input_ids'] for item in batch]\n",
        "    attention_mask = [item['attention_mask'] for item in batch]\n",
        "    labels = [item['labels'] for item in batch]\n",
        "\n",
        "    # Pad the sequences\n",
        "    input_ids = torch.nn.utils.rnn.pad_sequence(input_ids, batch_first=True, padding_value=tokenizer.pad_token_id)\n",
        "    attention_mask = torch.nn.utils.rnn.pad_sequence(attention_mask, batch_first=True, padding_value=0)\n",
        "\n",
        "    # Create tensors\n",
        "    input_ids = input_ids.to(device)\n",
        "    attention_mask = attention_mask.to(device)\n",
        "    labels = torch.tensor(labels, device=device)\n",
        "\n",
        "    return {\n",
        "        'input_ids': input_ids,\n",
        "        'attention_mask': attention_mask,\n",
        "        'labels': labels\n",
        "    }\n",
        "\n",
        "train_dataloader = DataLoader(train_dataset, batch_size=96, shuffle=True, collate_fn=collate_fn)\n",
        "val_dataloader = DataLoader(val_dataset, batch_size=96, collate_fn=collate_fn)\n",
        "\n",
        "# Initialize BERT model for sequence classification\n",
        "model = BertForSequenceClassification.from_pretrained(model_name, num_labels=6)  # 6 sentiment classes\n",
        "\n",
        "# Set up optimizer and learning rate scheduler\n",
        "optimizer = AdamW(model.parameters(), lr=2e-5)\n",
        "num_epochs = 3\n",
        "num_training_steps = num_epochs * len(train_dataloader)\n",
        "lr_scheduler = get_linear_schedule_with_warmup(optimizer, num_warmup_steps=0, num_training_steps=num_training_steps)\n",
        "\n",
        "# Train the model\n",
        "device = torch.device('cuda' if torch.cuda.is_available() else 'cpu')\n",
        "model.to(device)\n",
        "\n",
        "for epoch in range(num_epochs):\n",
        "    model.train()\n",
        "    total_loss = 0\n",
        "    for batch in train_dataloader:\n",
        "        batch = {k: v.to(device) for k, v in batch.items()}\n",
        "\n",
        "        optimizer.zero_grad()\n",
        "        outputs = model(**batch)\n",
        "        loss = outputs.loss\n",
        "        total_loss += loss.item()\n",
        "        loss.backward()\n",
        "        optimizer.step()\n",
        "        lr_scheduler.step()\n",
        "\n",
        "    avg_train_loss = total_loss / len(train_dataloader)\n",
        "    print(f\"Epoch {epoch+1}, Average Train Loss: {avg_train_loss:.4f}\")\n",
        "\n",
        "    model.eval()\n",
        "    total_loss = 0\n",
        "    for batch in val_dataloader:\n",
        "        batch = {k: v.to(device) for k, v in batch.items()}\n",
        "        with torch.no_grad():\n",
        "            outputs = model(**batch)\n",
        "            loss = outputs.loss\n",
        "            total_loss += loss.item()\n",
        "\n",
        "    avg_val_loss = total_loss / len(val_dataloader)\n",
        "    print(f\"Epoch {epoch+1}, Average Validation Loss: {avg_val_loss:.4f}\")"
      ]
    },
    {
      "cell_type": "code",
      "execution_count": null,
      "metadata": {
        "colab": {
          "base_uri": "https://localhost:8080/",
          "height": 490
        },
        "id": "UpdWyb84cI8L",
        "outputId": "03f194f4-92f7-4019-8c5b-e50d189d091c"
      },
      "outputs": [
        {
          "data": {
            "image/png": "[encoded data removed]",
            "text/plain": [
              "<Figure size 640x480 with 1 Axes>"
            ]
          },
          "metadata": {},
          "output_type": "display_data"
        },
        {
          "name": "stdout",
          "output_type": "stream",
          "text": [
            "Maximum token length: 123\n"
          ]
        }
      ],
      "source": [
        "# for finding max_length in dataset\n",
        "import matplotlib.pyplot as plt\n",
        "\n",
        "# Calculate the length of tokenized tweets\n",
        "token_lengths = [len(tokenizer.tokenize(text)) for text in tweets_df['text']]\n",
        "\n",
        "# Plot the distribution of token lengths\n",
        "plt.hist(token_lengths, bins=50)\n",
        "plt.xlabel('Token Length')\n",
        "plt.ylabel('Frequency')\n",
        "plt.title('Distribution of Token Lengths')\n",
        "plt.show()\n",
        "\n",
        "# Get the maximum token length\n",
        "max_token_length = max(token_lengths)\n",
        "print(f\"Maximum token length: {max_token_length}\")"
      ]
    },
    {
      "cell_type": "code",
      "execution_count": null,
      "metadata": {
        "colab": {
          "base_uri": "https://localhost:8080/"
        },
        "id": "UHipycvqlCnY",
        "outputId": "ca2a47f4-2f3e-4fbb-e559-6f56871c2864"
      },
      "outputs": [
        {
          "data": {
            "text/plain": [
              "0"
            ]
          },
          "execution_count": 9,
          "metadata": {},
          "output_type": "execute_result"
        }
      ],
      "source": [
        "import gc\n",
        "torch.cuda.empty_cache()\n",
        "gc.collect()"
      ]
    },
    {
      "cell_type": "code",
      "execution_count": null,
      "metadata": {
        "id": "IN2AZLmm8Jcv"
      },
      "outputs": [],
      "source": [
        "FARZAN_TOKEN = \"$$$$$$$$$$$$$$$$$$$$$$$$$$$$$$$$$$$$$$$$$$$$$\"\n",
        "model.push_to_hub(\"bert-fa-base-uncased-sentiment-nlp-hw2\", use_auth_token=FARZAN_TOKEN)\n",
        "tokenizer.push_to_hub(\"bert-fa-base-uncased-sentiment-nlp-hw2\",  use_auth_token=FARZAN_TOKEN, commit_message=\"Upload Tokenizer\")"
      ]
    },
    {
      "cell_type": "code",
      "execution_count": 47,
      "metadata": {
        "colab": {
          "base_uri": "https://localhost:8080/"
        },
        "id": "v52p_yy49Ghc",
        "outputId": "33faf552-c64a-4e3f-e361-f6e978d2ec27"
      },
      "outputs": [
        {
          "data": {
            "text/plain": [
              "BertForSequenceClassification(\n",
              "  (bert): BertModel(\n",
              "    (embeddings): BertEmbeddings(\n",
              "      (word_embeddings): Embedding(100000, 768, padding_idx=0)\n",
              "      (position_embeddings): Embedding(512, 768)\n",
              "      (token_type_embeddings): Embedding(2, 768)\n",
              "      (LayerNorm): LayerNorm((768,), eps=1e-12, elementwise_affine=True)\n",
              "      (dropout): Dropout(p=0.1, inplace=False)\n",
              "    )\n",
              "    (encoder): BertEncoder(\n",
              "      (layer): ModuleList(\n",
              "        (0-11): 12 x BertLayer(\n",
              "          (attention): BertAttention(\n",
              "            (self): BertSelfAttention(\n",
              "              (query): Linear(in_features=768, out_features=768, bias=True)\n",
              "              (key): Linear(in_features=768, out_features=768, bias=True)\n",
              "              (value): Linear(in_features=768, out_features=768, bias=True)\n",
              "              (dropout): Dropout(p=0.1, inplace=False)\n",
              "            )\n",
              "            (output): BertSelfOutput(\n",
              "              (dense): Linear(in_features=768, out_features=768, bias=True)\n",
              "              (LayerNorm): LayerNorm((768,), eps=1e-12, elementwise_affine=True)\n",
              "              (dropout): Dropout(p=0.1, inplace=False)\n",
              "            )\n",
              "          )\n",
              "          (intermediate): BertIntermediate(\n",
              "            (dense): Linear(in_features=768, out_features=3072, bias=True)\n",
              "            (intermediate_act_fn): GELUActivation()\n",
              "          )\n",
              "          (output): BertOutput(\n",
              "            (dense): Linear(in_features=3072, out_features=768, bias=True)\n",
              "            (LayerNorm): LayerNorm((768,), eps=1e-12, elementwise_affine=True)\n",
              "            (dropout): Dropout(p=0.1, inplace=False)\n",
              "          )\n",
              "        )\n",
              "      )\n",
              "    )\n",
              "    (pooler): BertPooler(\n",
              "      (dense): Linear(in_features=768, out_features=768, bias=True)\n",
              "      (activation): Tanh()\n",
              "    )\n",
              "  )\n",
              "  (dropout): Dropout(p=0.1, inplace=False)\n",
              "  (classifier): Linear(in_features=768, out_features=6, bias=True)\n",
              ")"
            ]
          },
          "execution_count": 47,
          "metadata": {},
          "output_type": "execute_result"
        }
      ],
      "source": [
        "from transformers import BertTokenizer, BertForSequenceClassification\n",
        "model_name = \"farzanrahmani/bert-fa-base-uncased-sentiment-nlp-hw2\"\n",
        "tokenizer = BertTokenizer.from_pretrained(model_name)\n",
        "model = BertForSequenceClassification.from_pretrained(model_name)  # 6 sentiment classes\n",
        "device = torch.device('cuda' if torch.cuda.is_available() else 'cpu')\n",
        "model.to(device)"
      ]
    },
    {
      "cell_type": "code",
      "execution_count": 53,
      "metadata": {
        "colab": {
          "base_uri": "https://localhost:8080/"
        },
        "id": "ElRsEwAsFXgs",
        "outputId": "79d8cfb0-bce2-42ab-a14d-4b64cfa98b97"
      },
      "outputs": [
        {
          "name": "stdout",
          "output_type": "stream",
          "text": [
            "(768,)\n"
          ]
        }
      ],
      "source": [
        "# 2. find 10 nearest words from \"آزادی\" (using bert word embeddings)\n",
        "word_embeddings = model.bert.embeddings.word_embeddings\n",
        "\n",
        "embedding_dict = {word: word_embeddings(torch.tensor([tokenizer.convert_tokens_to_ids(word)]).to(device)).cpu().squeeze(0).detach().numpy() \\\n",
        "                  for word in tokenizer.get_vocab().keys()}\n",
        "# embedding_dict.keys()\n",
        "print(embedding_dict[\"ازادی\"].shape)"
      ]
    },
    {
      "cell_type": "code",
      "execution_count": 49,
      "metadata": {
        "colab": {
          "base_uri": "https://localhost:8080/"
        },
        "id": "M2hXgNmkH80G",
        "outputId": "80e4a680-2c9e-488d-941a-9b5f3f675028"
      },
      "outputs": [
        {
          "name": "stdout",
          "output_type": "stream",
          "text": [
            "10 Nearest Words from 'ازادی':\n",
            "ازادسازی\n",
            "ازاد\n",
            "ازادیهای\n",
            "ازادى\n",
            "ازادیها\n",
            "رهایی\n",
            "ازادانه\n",
            "اسایش\n",
            "ازادشدن\n",
            "تختی\n"
          ]
        }
      ],
      "source": [
        "word = \"ازادی\"\n",
        "nearest_words = find_k_nearest_neighbors(word, embedding_dict, 10)\n",
        "\n",
        "print(\"10 Nearest Words from 'ازادی':\")\n",
        "for word in nearest_words:\n",
        "    print(word)"
      ]
    },
    {
      "cell_type": "code",
      "execution_count": 19,
      "metadata": {
        "colab": {
          "base_uri": "https://localhost:8080/"
        },
        "id": "LdiQaXry_muR",
        "outputId": "5858e9ba-b296-416b-9801-f5dcf61c9c88"
      },
      "outputs": [
        {
          "name": "stdout",
          "output_type": "stream",
          "text": [
            "10 nearest words to 'آزادی' using contextualized embeddings:\n",
            "آزادی‌ای\n",
            "اسارت\n",
            "آزادسازی\n",
            "زندان\n",
            "تبعیض\n",
            "برابری\n",
            "پیشرفت\n",
            "نشینِ\n",
            "نشین\n",
            "پیمایی\n"
          ]
        }
      ],
      "source": [
        "# 2. Find 10 nearest words from \"آزادی\" (using last_hidden_state after encoding)\n",
        "import torch\n",
        "import torch.nn.functional as F\n",
        "from transformers import BertTokenizer, BertForSequenceClassification\n",
        "import pandas as pd\n",
        "\n",
        "# Load model and tokenizer\n",
        "# model_name = \"farzanrahmani/bert-fa-base-uncased-sentiment-nlp-hw2\"\n",
        "# tokenizer = BertTokenizer.from_pretrained(model_name)\n",
        "# model = BertForSequenceClassification.from_pretrained(model_name)  # Assuming the model is already loaded\n",
        "\n",
        "# Load data from dataframe\n",
        "SOURCE_DIR = '/content/gdrive/MyDrive/Q3_data.csv'\n",
        "tweets_df = pd.read_csv(SOURCE_DIR)\n",
        "tweets_df = tweets_df.rename(columns={'Text': 'text', 'Sentiment': 'label'})\n",
        "tweets_df['text'] = tweets_df['PureText']  # Assuming you want to use PureText column\n",
        "tweets_df = tweets_df.drop(['Unnamed: 0', 'Datetime', 'PureText', 'Language', 'Date'], axis=1)\n",
        "label_mapping = {'very negative': 0, 'negative': 1, 'no sentiment expressed': 2, 'positive': 3, 'very positive': 4, 'mixed': 5}\n",
        "tweets_df['label'] = tweets_df['label'].map(label_mapping)\n",
        "\n",
        "# Get unique words from the 'text' column of the dataframe\n",
        "unique_words = set()\n",
        "for text in tweets_df['text']:\n",
        "    unique_words.update(text.split())\n",
        "\n",
        "# Remove single-character and ASCII words\n",
        "unique_words = [word for word in unique_words if not word.isascii() and len(word) > 1]\n",
        "\n",
        "# Find 10 nearest words from \"آزادی\"\n",
        "device = torch.device('cuda' if torch.cuda.is_available() else 'cpu')\n",
        "model.to(device)\n",
        "model.eval()\n",
        "\n",
        "# Tokenize and encode \"آزادی\"\n",
        "freedom_input = tokenizer.encode(\"آزادی\", return_tensors=\"pt\").to(device)\n",
        "# freedom_output = model.bert(freedom_input).last_hidden_state.squeeze()[0,:]\n",
        "# freedom_output = model.bert(freedom_input).last_hidden_state.squeeze()[-1,:]\n",
        "freedom_output = model.bert(freedom_input).last_hidden_state.squeeze().mean(dim=0)\n",
        "\n",
        "# Calculate cosine similarity between \"آزادی\" and all other words\n",
        "word_embeddings = {}\n",
        "# for word in unique_words: # out of memory\n",
        "for word in unique_words[:2000]: # Limit to the first 2000 words to avoid memory issues\n",
        "    input_ids = tokenizer.encode(word, return_tensors=\"pt\").to(device)\n",
        "    # output = model.bert(input_ids).last_hidden_state.squeeze()[0,:]\n",
        "    # output = model.bert(input_ids).last_hidden_state.squeeze()[-1,:]\n",
        "    output = model.bert(input_ids).last_hidden_state.squeeze().mean(dim=0)\n",
        "    word_embeddings[word] = output\n",
        "\n",
        "similarity_scores = []\n",
        "for word, embedding in word_embeddings.items():\n",
        "    similarity = F.cosine_similarity(freedom_output, embedding, dim=0).item()\n",
        "    similarity_scores.append((word, similarity))\n",
        "\n",
        "# Sort the similarity scores\n",
        "sorted_scores = sorted(similarity_scores, key=lambda x: x[1], reverse=True)\n",
        "nearest_words = [word for word, _ in sorted_scores[:10]]  # Get the 10 nearest words\n",
        "\n",
        "# print(f\"10 nearest words to 'آزادی' using contextualized embeddings: {nearest_words}\")\n",
        "print(f\"10 nearest words to 'آزادی' using contextualized embeddings:\")\n",
        "for word in nearest_words:\n",
        "    print(word)"
      ]
    },
    {
      "cell_type": "markdown",
      "metadata": {
        "id": "khp-jF44E83Q"
      },
      "source": [
        "##### Describe advantages and disadvantages of Contextualized embedding"
      ]
    },
    {
      "cell_type": "markdown",
      "metadata": {
        "id": "Al-4HT8KxTwd"
      },
      "source": [
        "Advantages: Contextualized embeddings capture the meaning of words in context, allowing for more nuanced representations. Models like BERT can handle polysemy and capture word meaning based on the surrounding context.\n",
        "- Contextualized embeddings can capture the meaning of a word based on its context, handling polysemy effectively.\n",
        "- They can be fine-tuned or adapted to specific tasks or domains, improving performance.\n",
        "- They can capture complex linguistic relationships and dependencies.\n",
        "- Context-Sensitive: They provide dynamic word representations based on context, leading to a more nuanced understanding of language.\n",
        "- State-of-the-Art Performance: Excel in a wide range of NLP tasks, offering superior performance compared to previous models.\n",
        "\n",
        "\n",
        "Disadvantages: Contextualized embeddings may require more computational resources compared to static embeddings like Word2Vec. They may also suffer from a lack of interpretability since the same word can have different embeddings depending on its context.\n",
        "- Contextualized embeddings require more computational resources and larger models compared to static embeddings.\n",
        "- They may not perform as well on tasks with limited training data or low resources.\n",
        "- They can be more difficult to interpret and analyze compared to static embeddings.\n",
        "- Computational Requirements: Demand extensive computational power and larger datasets for training.\n",
        "- Complexity in Implementation: More complex to implement and integrate into applications compared to simpler models like TF-IDF."
      ]
    },
    {
      "cell_type": "code",
      "execution_count": null,
      "metadata": {
        "colab": {
          "base_uri": "https://localhost:8080/"
        },
        "id": "iKYnek3K8w4H",
        "outputId": "b4f5c77f-586a-4670-e303-948782a6a82f"
      },
      "outputs": [
        {
          "data": {
            "text/plain": [
              "tensor([[[-0.8083, -1.9882, -0.1767,  ..., -0.5387, -0.7034,  0.6088],\n",
              "         [-0.6252, -1.1439,  0.1460,  ...,  0.3552, -0.6754, -0.0487],\n",
              "         [-0.1068, -1.3384,  0.6857,  ..., -0.4613,  0.2435,  0.7179]]],\n",
              "       device='cuda:0', grad_fn=<NativeLayerNormBackward0>)"
            ]
          },
          "execution_count": 10,
          "metadata": {},
          "output_type": "execute_result"
        }
      ],
      "source": [
        "freedom_input = tokenizer.encode(\"آزادی\", return_tensors=\"pt\").to(device)\n",
        "freedom_output = model.bert(freedom_input)  # Extract the contextualized embedding\n",
        "# freedom_output = model.bert(freedom_input)[0][:, 0]  # Extract the first token's embedding\n",
        "freedom_output.last_hidden_state"
      ]
    },
    {
      "cell_type": "code",
      "execution_count": null,
      "metadata": {
        "colab": {
          "base_uri": "https://localhost:8080/"
        },
        "id": "sjoEic349rYV",
        "outputId": "eada921a-beae-44f2-8f88-6b161d7a8f42"
      },
      "outputs": [
        {
          "data": {
            "text/plain": [
              "torch.Size([1, 8, 768])"
            ]
          },
          "execution_count": 26,
          "metadata": {},
          "output_type": "execute_result"
        }
      ],
      "source": [
        "freedom_input = tokenizer.encode(\"فایتینگگگگگ\", return_tensors=\"pt\").to(device)\n",
        "freedom_output = model.bert(freedom_input)  # Extract the contextualized embedding\n",
        "freedom_output.last_hidden_state.size() #torch.Size([1, 8, 768]) # for \"آزادی\" --> [1, 3, 768]\n",
        "freedom_output[0].squeeze().size() # torch.Size([3, 768])\n",
        "# freedom_output.last_hidden_state.squeeze().mean(dim=0).size() [768]\n",
        "freedom_output.last_hidden_state.squeeze()[0,:].size() # [768]\n",
        "freedom_output.last_hidden_state.squeeze()[-1,:].size() # [768]"
      ]
    }
  ],
  "metadata": {
    "accelerator": "GPU",
    "colab": {
      "gpuType": "T4",
      "provenance": []
    },
    "kernelspec": {
      "display_name": "Python 3",
      "name": "python3"
    },
    "language_info": {
      "name": "python"
    },
    "widgets": {
      "application/vnd.jupyter.widget-state+json": {
        "1bd5ca0d48e34af590e2e03eef26efea": {
          "model_module": "@jupyter-widgets/controls",
          "model_module_version": "1.5.0",
          "model_name": "HTMLModel",
          "state": {
            "_dom_classes": [],
            "_model_module": "@jupyter-widgets/controls",
            "_model_module_version": "1.5.0",
            "_model_name": "HTMLModel",
            "_view_count": null,
            "_view_module": "@jupyter-widgets/controls",
            "_view_module_version": "1.5.0",
            "_view_name": "HTMLView",
            "description": "",
            "description_tooltip": null,
            "layout": "IPY_MODEL_fe896baadb6a462ca7311d11641489bf",
            "placeholder": "​",
            "style": "IPY_MODEL_4d51eecc74b144a9a96324c6967e8e45",
            "value": " 20000/20000 [00:22&lt;00:00, 1006.42 examples/s]"
          }
        },
        "21eef8f809e64e98a9d387309654c423": {
          "model_module": "@jupyter-widgets/controls",
          "model_module_version": "1.5.0",
          "model_name": "ProgressStyleModel",
          "state": {
            "_model_module": "@jupyter-widgets/controls",
            "_model_module_version": "1.5.0",
            "_model_name": "ProgressStyleModel",
            "_view_count": null,
            "_view_module": "@jupyter-widgets/base",
            "_view_module_version": "1.2.0",
            "_view_name": "StyleView",
            "bar_color": null,
            "description_width": ""
          }
        },
        "229812e182184a338d3227208a0818c0": {
          "model_module": "@jupyter-widgets/base",
          "model_module_version": "1.2.0",
          "model_name": "LayoutModel",
          "state": {
            "_model_module": "@jupyter-widgets/base",
            "_model_module_version": "1.2.0",
            "_model_name": "LayoutModel",
            "_view_count": null,
            "_view_module": "@jupyter-widgets/base",
            "_view_module_version": "1.2.0",
            "_view_name": "LayoutView",
            "align_content": null,
            "align_items": null,
            "align_self": null,
            "border": null,
            "bottom": null,
            "display": null,
            "flex": null,
            "flex_flow": null,
            "grid_area": null,
            "grid_auto_columns": null,
            "grid_auto_flow": null,
            "grid_auto_rows": null,
            "grid_column": null,
            "grid_gap": null,
            "grid_row": null,
            "grid_template_areas": null,
            "grid_template_columns": null,
            "grid_template_rows": null,
            "height": null,
            "justify_content": null,
            "justify_items": null,
            "left": null,
            "margin": null,
            "max_height": null,
            "max_width": null,
            "min_height": null,
            "min_width": null,
            "object_fit": null,
            "object_position": null,
            "order": null,
            "overflow": null,
            "overflow_x": null,
            "overflow_y": null,
            "padding": null,
            "right": null,
            "top": null,
            "visibility": null,
            "width": null
          }
        },
        "251118d573ed42a9baf927837a85e7de": {
          "model_module": "@jupyter-widgets/base",
          "model_module_version": "1.2.0",
          "model_name": "LayoutModel",
          "state": {
            "_model_module": "@jupyter-widgets/base",
            "_model_module_version": "1.2.0",
            "_model_name": "LayoutModel",
            "_view_count": null,
            "_view_module": "@jupyter-widgets/base",
            "_view_module_version": "1.2.0",
            "_view_name": "LayoutView",
            "align_content": null,
            "align_items": null,
            "align_self": null,
            "border": null,
            "bottom": null,
            "display": null,
            "flex": null,
            "flex_flow": null,
            "grid_area": null,
            "grid_auto_columns": null,
            "grid_auto_flow": null,
            "grid_auto_rows": null,
            "grid_column": null,
            "grid_gap": null,
            "grid_row": null,
            "grid_template_areas": null,
            "grid_template_columns": null,
            "grid_template_rows": null,
            "height": null,
            "justify_content": null,
            "justify_items": null,
            "left": null,
            "margin": null,
            "max_height": null,
            "max_width": null,
            "min_height": null,
            "min_width": null,
            "object_fit": null,
            "object_position": null,
            "order": null,
            "overflow": null,
            "overflow_x": null,
            "overflow_y": null,
            "padding": null,
            "right": null,
            "top": null,
            "visibility": null,
            "width": null
          }
        },
        "39283619f33245ef9f3cb6ccae6be312": {
          "model_module": "@jupyter-widgets/controls",
          "model_module_version": "1.5.0",
          "model_name": "ProgressStyleModel",
          "state": {
            "_model_module": "@jupyter-widgets/controls",
            "_model_module_version": "1.5.0",
            "_model_name": "ProgressStyleModel",
            "_view_count": null,
            "_view_module": "@jupyter-widgets/base",
            "_view_module_version": "1.2.0",
            "_view_name": "StyleView",
            "bar_color": null,
            "description_width": ""
          }
        },
        "3935d17583444253baee6c92371849c8": {
          "model_module": "@jupyter-widgets/controls",
          "model_module_version": "1.5.0",
          "model_name": "FloatProgressModel",
          "state": {
            "_dom_classes": [],
            "_model_module": "@jupyter-widgets/controls",
            "_model_module_version": "1.5.0",
            "_model_name": "FloatProgressModel",
            "_view_count": null,
            "_view_module": "@jupyter-widgets/controls",
            "_view_module_version": "1.5.0",
            "_view_name": "ProgressView",
            "bar_style": "success",
            "description": "",
            "description_tooltip": null,
            "layout": "IPY_MODEL_ce35ced1b6dc46469b5cc4ac53d75bbb",
            "max": 1215509,
            "min": 0,
            "orientation": "horizontal",
            "style": "IPY_MODEL_8e4775e6c44845abbd4e820a0b5126d9",
            "value": 1215509
          }
        },
        "3c0f18b13c6d41fdac7a0395817c9120": {
          "model_module": "@jupyter-widgets/controls",
          "model_module_version": "1.5.0",
          "model_name": "HTMLModel",
          "state": {
            "_dom_classes": [],
            "_model_module": "@jupyter-widgets/controls",
            "_model_module_version": "1.5.0",
            "_model_name": "HTMLModel",
            "_view_count": null,
            "_view_module": "@jupyter-widgets/controls",
            "_view_module_version": "1.5.0",
            "_view_name": "HTMLView",
            "description": "",
            "description_tooltip": null,
            "layout": "IPY_MODEL_251118d573ed42a9baf927837a85e7de",
            "placeholder": "​",
            "style": "IPY_MODEL_631d7e27242c4a688687752c79500637",
            "value": " 434/434 [00:00&lt;00:00, 16.9kB/s]"
          }
        },
        "3c20fb2733ee485b939c7c402fd22ab0": {
          "model_module": "@jupyter-widgets/controls",
          "model_module_version": "1.5.0",
          "model_name": "ProgressStyleModel",
          "state": {
            "_model_module": "@jupyter-widgets/controls",
            "_model_module_version": "1.5.0",
            "_model_name": "ProgressStyleModel",
            "_view_count": null,
            "_view_module": "@jupyter-widgets/base",
            "_view_module_version": "1.2.0",
            "_view_name": "StyleView",
            "bar_color": null,
            "description_width": ""
          }
        },
        "4a7b8a984a214e1f9994718eb5c5e6ed": {
          "model_module": "@jupyter-widgets/base",
          "model_module_version": "1.2.0",
          "model_name": "LayoutModel",
          "state": {
            "_model_module": "@jupyter-widgets/base",
            "_model_module_version": "1.2.0",
            "_model_name": "LayoutModel",
            "_view_count": null,
            "_view_module": "@jupyter-widgets/base",
            "_view_module_version": "1.2.0",
            "_view_name": "LayoutView",
            "align_content": null,
            "align_items": null,
            "align_self": null,
            "border": null,
            "bottom": null,
            "display": null,
            "flex": null,
            "flex_flow": null,
            "grid_area": null,
            "grid_auto_columns": null,
            "grid_auto_flow": null,
            "grid_auto_rows": null,
            "grid_column": null,
            "grid_gap": null,
            "grid_row": null,
            "grid_template_areas": null,
            "grid_template_columns": null,
            "grid_template_rows": null,
            "height": null,
            "justify_content": null,
            "justify_items": null,
            "left": null,
            "margin": null,
            "max_height": null,
            "max_width": null,
            "min_height": null,
            "min_width": null,
            "object_fit": null,
            "object_position": null,
            "order": null,
            "overflow": null,
            "overflow_x": null,
            "overflow_y": null,
            "padding": null,
            "right": null,
            "top": null,
            "visibility": null,
            "width": null
          }
        },
        "4b59eb8caf7f499092e4ac2b0c308a8a": {
          "model_module": "@jupyter-widgets/base",
          "model_module_version": "1.2.0",
          "model_name": "LayoutModel",
          "state": {
            "_model_module": "@jupyter-widgets/base",
            "_model_module_version": "1.2.0",
            "_model_name": "LayoutModel",
            "_view_count": null,
            "_view_module": "@jupyter-widgets/base",
            "_view_module_version": "1.2.0",
            "_view_name": "LayoutView",
            "align_content": null,
            "align_items": null,
            "align_self": null,
            "border": null,
            "bottom": null,
            "display": null,
            "flex": null,
            "flex_flow": null,
            "grid_area": null,
            "grid_auto_columns": null,
            "grid_auto_flow": null,
            "grid_auto_rows": null,
            "grid_column": null,
            "grid_gap": null,
            "grid_row": null,
            "grid_template_areas": null,
            "grid_template_columns": null,
            "grid_template_rows": null,
            "height": null,
            "justify_content": null,
            "justify_items": null,
            "left": null,
            "margin": null,
            "max_height": null,
            "max_width": null,
            "min_height": null,
            "min_width": null,
            "object_fit": null,
            "object_position": null,
            "order": null,
            "overflow": null,
            "overflow_x": null,
            "overflow_y": null,
            "padding": null,
            "right": null,
            "top": null,
            "visibility": null,
            "width": null
          }
        },
        "4d51eecc74b144a9a96324c6967e8e45": {
          "model_module": "@jupyter-widgets/controls",
          "model_module_version": "1.5.0",
          "model_name": "DescriptionStyleModel",
          "state": {
            "_model_module": "@jupyter-widgets/controls",
            "_model_module_version": "1.5.0",
            "_model_name": "DescriptionStyleModel",
            "_view_count": null,
            "_view_module": "@jupyter-widgets/base",
            "_view_module_version": "1.2.0",
            "_view_name": "StyleView",
            "description_width": ""
          }
        },
        "508822dd7d6049838702072673d657fa": {
          "model_module": "@jupyter-widgets/controls",
          "model_module_version": "1.5.0",
          "model_name": "DescriptionStyleModel",
          "state": {
            "_model_module": "@jupyter-widgets/controls",
            "_model_module_version": "1.5.0",
            "_model_name": "DescriptionStyleModel",
            "_view_count": null,
            "_view_module": "@jupyter-widgets/base",
            "_view_module_version": "1.2.0",
            "_view_name": "StyleView",
            "description_width": ""
          }
        },
        "50bfb6c09c4d451b8a8713241009d35f": {
          "model_module": "@jupyter-widgets/controls",
          "model_module_version": "1.5.0",
          "model_name": "FloatProgressModel",
          "state": {
            "_dom_classes": [],
            "_model_module": "@jupyter-widgets/controls",
            "_model_module_version": "1.5.0",
            "_model_name": "FloatProgressModel",
            "_view_count": null,
            "_view_module": "@jupyter-widgets/controls",
            "_view_module_version": "1.5.0",
            "_view_name": "ProgressView",
            "bar_style": "success",
            "description": "",
            "description_tooltip": null,
            "layout": "IPY_MODEL_738e6717d631411e87668ff3dc7814ad",
            "max": 434,
            "min": 0,
            "orientation": "horizontal",
            "style": "IPY_MODEL_39283619f33245ef9f3cb6ccae6be312",
            "value": 434
          }
        },
        "53f1c32de29b4126a7752426221900d4": {
          "model_module": "@jupyter-widgets/base",
          "model_module_version": "1.2.0",
          "model_name": "LayoutModel",
          "state": {
            "_model_module": "@jupyter-widgets/base",
            "_model_module_version": "1.2.0",
            "_model_name": "LayoutModel",
            "_view_count": null,
            "_view_module": "@jupyter-widgets/base",
            "_view_module_version": "1.2.0",
            "_view_name": "LayoutView",
            "align_content": null,
            "align_items": null,
            "align_self": null,
            "border": null,
            "bottom": null,
            "display": null,
            "flex": null,
            "flex_flow": null,
            "grid_area": null,
            "grid_auto_columns": null,
            "grid_auto_flow": null,
            "grid_auto_rows": null,
            "grid_column": null,
            "grid_gap": null,
            "grid_row": null,
            "grid_template_areas": null,
            "grid_template_columns": null,
            "grid_template_rows": null,
            "height": null,
            "justify_content": null,
            "justify_items": null,
            "left": null,
            "margin": null,
            "max_height": null,
            "max_width": null,
            "min_height": null,
            "min_width": null,
            "object_fit": null,
            "object_position": null,
            "order": null,
            "overflow": null,
            "overflow_x": null,
            "overflow_y": null,
            "padding": null,
            "right": null,
            "top": null,
            "visibility": null,
            "width": null
          }
        },
        "5bb524c40ffb4800b5fe1889c0535dc0": {
          "model_module": "@jupyter-widgets/base",
          "model_module_version": "1.2.0",
          "model_name": "LayoutModel",
          "state": {
            "_model_module": "@jupyter-widgets/base",
            "_model_module_version": "1.2.0",
            "_model_name": "LayoutModel",
            "_view_count": null,
            "_view_module": "@jupyter-widgets/base",
            "_view_module_version": "1.2.0",
            "_view_name": "LayoutView",
            "align_content": null,
            "align_items": null,
            "align_self": null,
            "border": null,
            "bottom": null,
            "display": null,
            "flex": null,
            "flex_flow": null,
            "grid_area": null,
            "grid_auto_columns": null,
            "grid_auto_flow": null,
            "grid_auto_rows": null,
            "grid_column": null,
            "grid_gap": null,
            "grid_row": null,
            "grid_template_areas": null,
            "grid_template_columns": null,
            "grid_template_rows": null,
            "height": null,
            "justify_content": null,
            "justify_items": null,
            "left": null,
            "margin": null,
            "max_height": null,
            "max_width": null,
            "min_height": null,
            "min_width": null,
            "object_fit": null,
            "object_position": null,
            "order": null,
            "overflow": null,
            "overflow_x": null,
            "overflow_y": null,
            "padding": null,
            "right": null,
            "top": null,
            "visibility": null,
            "width": null
          }
        },
        "631d7e27242c4a688687752c79500637": {
          "model_module": "@jupyter-widgets/controls",
          "model_module_version": "1.5.0",
          "model_name": "DescriptionStyleModel",
          "state": {
            "_model_module": "@jupyter-widgets/controls",
            "_model_module_version": "1.5.0",
            "_model_name": "DescriptionStyleModel",
            "_view_count": null,
            "_view_module": "@jupyter-widgets/base",
            "_view_module_version": "1.2.0",
            "_view_name": "StyleView",
            "description_width": ""
          }
        },
        "738e6717d631411e87668ff3dc7814ad": {
          "model_module": "@jupyter-widgets/base",
          "model_module_version": "1.2.0",
          "model_name": "LayoutModel",
          "state": {
            "_model_module": "@jupyter-widgets/base",
            "_model_module_version": "1.2.0",
            "_model_name": "LayoutModel",
            "_view_count": null,
            "_view_module": "@jupyter-widgets/base",
            "_view_module_version": "1.2.0",
            "_view_name": "LayoutView",
            "align_content": null,
            "align_items": null,
            "align_self": null,
            "border": null,
            "bottom": null,
            "display": null,
            "flex": null,
            "flex_flow": null,
            "grid_area": null,
            "grid_auto_columns": null,
            "grid_auto_flow": null,
            "grid_auto_rows": null,
            "grid_column": null,
            "grid_gap": null,
            "grid_row": null,
            "grid_template_areas": null,
            "grid_template_columns": null,
            "grid_template_rows": null,
            "height": null,
            "justify_content": null,
            "justify_items": null,
            "left": null,
            "margin": null,
            "max_height": null,
            "max_width": null,
            "min_height": null,
            "min_width": null,
            "object_fit": null,
            "object_position": null,
            "order": null,
            "overflow": null,
            "overflow_x": null,
            "overflow_y": null,
            "padding": null,
            "right": null,
            "top": null,
            "visibility": null,
            "width": null
          }
        },
        "7c5437b6763f4262b9369309f54e13bd": {
          "model_module": "@jupyter-widgets/base",
          "model_module_version": "1.2.0",
          "model_name": "LayoutModel",
          "state": {
            "_model_module": "@jupyter-widgets/base",
            "_model_module_version": "1.2.0",
            "_model_name": "LayoutModel",
            "_view_count": null,
            "_view_module": "@jupyter-widgets/base",
            "_view_module_version": "1.2.0",
            "_view_name": "LayoutView",
            "align_content": null,
            "align_items": null,
            "align_self": null,
            "border": null,
            "bottom": null,
            "display": null,
            "flex": null,
            "flex_flow": null,
            "grid_area": null,
            "grid_auto_columns": null,
            "grid_auto_flow": null,
            "grid_auto_rows": null,
            "grid_column": null,
            "grid_gap": null,
            "grid_row": null,
            "grid_template_areas": null,
            "grid_template_columns": null,
            "grid_template_rows": null,
            "height": null,
            "justify_content": null,
            "justify_items": null,
            "left": null,
            "margin": null,
            "max_height": null,
            "max_width": null,
            "min_height": null,
            "min_width": null,
            "object_fit": null,
            "object_position": null,
            "order": null,
            "overflow": null,
            "overflow_x": null,
            "overflow_y": null,
            "padding": null,
            "right": null,
            "top": null,
            "visibility": null,
            "width": null
          }
        },
        "7f6403427d724e069dcaf2705cc1f85d": {
          "model_module": "@jupyter-widgets/controls",
          "model_module_version": "1.5.0",
          "model_name": "HBoxModel",
          "state": {
            "_dom_classes": [],
            "_model_module": "@jupyter-widgets/controls",
            "_model_module_version": "1.5.0",
            "_model_name": "HBoxModel",
            "_view_count": null,
            "_view_module": "@jupyter-widgets/controls",
            "_view_module_version": "1.5.0",
            "_view_name": "HBoxView",
            "box_style": "",
            "children": [
              "IPY_MODEL_e0a0e5b9cee940f7b5d6b832594f7818",
              "IPY_MODEL_e44b1f7494c84915972912b7bd655b24",
              "IPY_MODEL_1bd5ca0d48e34af590e2e03eef26efea"
            ],
            "layout": "IPY_MODEL_90a3adbbbd684eecb1088732da600b5d"
          }
        },
        "82c688c29319463a85bc4fd6ad39f323": {
          "model_module": "@jupyter-widgets/base",
          "model_module_version": "1.2.0",
          "model_name": "LayoutModel",
          "state": {
            "_model_module": "@jupyter-widgets/base",
            "_model_module_version": "1.2.0",
            "_model_name": "LayoutModel",
            "_view_count": null,
            "_view_module": "@jupyter-widgets/base",
            "_view_module_version": "1.2.0",
            "_view_name": "LayoutView",
            "align_content": null,
            "align_items": null,
            "align_self": null,
            "border": null,
            "bottom": null,
            "display": null,
            "flex": null,
            "flex_flow": null,
            "grid_area": null,
            "grid_auto_columns": null,
            "grid_auto_flow": null,
            "grid_auto_rows": null,
            "grid_column": null,
            "grid_gap": null,
            "grid_row": null,
            "grid_template_areas": null,
            "grid_template_columns": null,
            "grid_template_rows": null,
            "height": null,
            "justify_content": null,
            "justify_items": null,
            "left": null,
            "margin": null,
            "max_height": null,
            "max_width": null,
            "min_height": null,
            "min_width": null,
            "object_fit": null,
            "object_position": null,
            "order": null,
            "overflow": null,
            "overflow_x": null,
            "overflow_y": null,
            "padding": null,
            "right": null,
            "top": null,
            "visibility": null,
            "width": null
          }
        },
        "83f7dcc61c2841e7a29434fb6d478a5e": {
          "model_module": "@jupyter-widgets/base",
          "model_module_version": "1.2.0",
          "model_name": "LayoutModel",
          "state": {
            "_model_module": "@jupyter-widgets/base",
            "_model_module_version": "1.2.0",
            "_model_name": "LayoutModel",
            "_view_count": null,
            "_view_module": "@jupyter-widgets/base",
            "_view_module_version": "1.2.0",
            "_view_name": "LayoutView",
            "align_content": null,
            "align_items": null,
            "align_self": null,
            "border": null,
            "bottom": null,
            "display": null,
            "flex": null,
            "flex_flow": null,
            "grid_area": null,
            "grid_auto_columns": null,
            "grid_auto_flow": null,
            "grid_auto_rows": null,
            "grid_column": null,
            "grid_gap": null,
            "grid_row": null,
            "grid_template_areas": null,
            "grid_template_columns": null,
            "grid_template_rows": null,
            "height": null,
            "justify_content": null,
            "justify_items": null,
            "left": null,
            "margin": null,
            "max_height": null,
            "max_width": null,
            "min_height": null,
            "min_width": null,
            "object_fit": null,
            "object_position": null,
            "order": null,
            "overflow": null,
            "overflow_x": null,
            "overflow_y": null,
            "padding": null,
            "right": null,
            "top": null,
            "visibility": null,
            "width": null
          }
        },
        "856534597bc345afa346dcc997ee6a62": {
          "model_module": "@jupyter-widgets/controls",
          "model_module_version": "1.5.0",
          "model_name": "DescriptionStyleModel",
          "state": {
            "_model_module": "@jupyter-widgets/controls",
            "_model_module_version": "1.5.0",
            "_model_name": "DescriptionStyleModel",
            "_view_count": null,
            "_view_module": "@jupyter-widgets/base",
            "_view_module_version": "1.2.0",
            "_view_name": "StyleView",
            "description_width": ""
          }
        },
        "861b0b6549e04874a0c5840639f0078c": {
          "model_module": "@jupyter-widgets/controls",
          "model_module_version": "1.5.0",
          "model_name": "HTMLModel",
          "state": {
            "_dom_classes": [],
            "_model_module": "@jupyter-widgets/controls",
            "_model_module_version": "1.5.0",
            "_model_name": "HTMLModel",
            "_view_count": null,
            "_view_module": "@jupyter-widgets/controls",
            "_view_module_version": "1.5.0",
            "_view_name": "HTMLView",
            "description": "",
            "description_tooltip": null,
            "layout": "IPY_MODEL_229812e182184a338d3227208a0818c0",
            "placeholder": "​",
            "style": "IPY_MODEL_508822dd7d6049838702072673d657fa",
            "value": "pytorch_model.bin: 100%"
          }
        },
        "899b7cd976aa418f9605ba84b44f53f5": {
          "model_module": "@jupyter-widgets/controls",
          "model_module_version": "1.5.0",
          "model_name": "FloatProgressModel",
          "state": {
            "_dom_classes": [],
            "_model_module": "@jupyter-widgets/controls",
            "_model_module_version": "1.5.0",
            "_model_name": "FloatProgressModel",
            "_view_count": null,
            "_view_module": "@jupyter-widgets/controls",
            "_view_module_version": "1.5.0",
            "_view_name": "ProgressView",
            "bar_style": "success",
            "description": "",
            "description_tooltip": null,
            "layout": "IPY_MODEL_8b2b8cb7bb254d6f9fbd37d777bd1582",
            "max": 654186735,
            "min": 0,
            "orientation": "horizontal",
            "style": "IPY_MODEL_3c20fb2733ee485b939c7c402fd22ab0",
            "value": 654186735
          }
        },
        "8b2b8cb7bb254d6f9fbd37d777bd1582": {
          "model_module": "@jupyter-widgets/base",
          "model_module_version": "1.2.0",
          "model_name": "LayoutModel",
          "state": {
            "_model_module": "@jupyter-widgets/base",
            "_model_module_version": "1.2.0",
            "_model_name": "LayoutModel",
            "_view_count": null,
            "_view_module": "@jupyter-widgets/base",
            "_view_module_version": "1.2.0",
            "_view_name": "LayoutView",
            "align_content": null,
            "align_items": null,
            "align_self": null,
            "border": null,
            "bottom": null,
            "display": null,
            "flex": null,
            "flex_flow": null,
            "grid_area": null,
            "grid_auto_columns": null,
            "grid_auto_flow": null,
            "grid_auto_rows": null,
            "grid_column": null,
            "grid_gap": null,
            "grid_row": null,
            "grid_template_areas": null,
            "grid_template_columns": null,
            "grid_template_rows": null,
            "height": null,
            "justify_content": null,
            "justify_items": null,
            "left": null,
            "margin": null,
            "max_height": null,
            "max_width": null,
            "min_height": null,
            "min_width": null,
            "object_fit": null,
            "object_position": null,
            "order": null,
            "overflow": null,
            "overflow_x": null,
            "overflow_y": null,
            "padding": null,
            "right": null,
            "top": null,
            "visibility": null,
            "width": null
          }
        },
        "8e4775e6c44845abbd4e820a0b5126d9": {
          "model_module": "@jupyter-widgets/controls",
          "model_module_version": "1.5.0",
          "model_name": "ProgressStyleModel",
          "state": {
            "_model_module": "@jupyter-widgets/controls",
            "_model_module_version": "1.5.0",
            "_model_name": "ProgressStyleModel",
            "_view_count": null,
            "_view_module": "@jupyter-widgets/base",
            "_view_module_version": "1.2.0",
            "_view_name": "StyleView",
            "bar_color": null,
            "description_width": ""
          }
        },
        "90a3adbbbd684eecb1088732da600b5d": {
          "model_module": "@jupyter-widgets/base",
          "model_module_version": "1.2.0",
          "model_name": "LayoutModel",
          "state": {
            "_model_module": "@jupyter-widgets/base",
            "_model_module_version": "1.2.0",
            "_model_name": "LayoutModel",
            "_view_count": null,
            "_view_module": "@jupyter-widgets/base",
            "_view_module_version": "1.2.0",
            "_view_name": "LayoutView",
            "align_content": null,
            "align_items": null,
            "align_self": null,
            "border": null,
            "bottom": null,
            "display": null,
            "flex": null,
            "flex_flow": null,
            "grid_area": null,
            "grid_auto_columns": null,
            "grid_auto_flow": null,
            "grid_auto_rows": null,
            "grid_column": null,
            "grid_gap": null,
            "grid_row": null,
            "grid_template_areas": null,
            "grid_template_columns": null,
            "grid_template_rows": null,
            "height": null,
            "justify_content": null,
            "justify_items": null,
            "left": null,
            "margin": null,
            "max_height": null,
            "max_width": null,
            "min_height": null,
            "min_width": null,
            "object_fit": null,
            "object_position": null,
            "order": null,
            "overflow": null,
            "overflow_x": null,
            "overflow_y": null,
            "padding": null,
            "right": null,
            "top": null,
            "visibility": null,
            "width": null
          }
        },
        "967d58867f124ec582826fd0ba031ef3": {
          "model_module": "@jupyter-widgets/controls",
          "model_module_version": "1.5.0",
          "model_name": "DescriptionStyleModel",
          "state": {
            "_model_module": "@jupyter-widgets/controls",
            "_model_module_version": "1.5.0",
            "_model_name": "DescriptionStyleModel",
            "_view_count": null,
            "_view_module": "@jupyter-widgets/base",
            "_view_module_version": "1.2.0",
            "_view_name": "StyleView",
            "description_width": ""
          }
        },
        "9f54d6d25d02480ca5a25b9d5f602a0f": {
          "model_module": "@jupyter-widgets/controls",
          "model_module_version": "1.5.0",
          "model_name": "DescriptionStyleModel",
          "state": {
            "_model_module": "@jupyter-widgets/controls",
            "_model_module_version": "1.5.0",
            "_model_name": "DescriptionStyleModel",
            "_view_count": null,
            "_view_module": "@jupyter-widgets/base",
            "_view_module_version": "1.2.0",
            "_view_name": "StyleView",
            "description_width": ""
          }
        },
        "a2fdcba1e1e84221a7044f1e5f7640ab": {
          "model_module": "@jupyter-widgets/controls",
          "model_module_version": "1.5.0",
          "model_name": "HTMLModel",
          "state": {
            "_dom_classes": [],
            "_model_module": "@jupyter-widgets/controls",
            "_model_module_version": "1.5.0",
            "_model_name": "HTMLModel",
            "_view_count": null,
            "_view_module": "@jupyter-widgets/controls",
            "_view_module_version": "1.5.0",
            "_view_name": "HTMLView",
            "description": "",
            "description_tooltip": null,
            "layout": "IPY_MODEL_4a7b8a984a214e1f9994718eb5c5e6ed",
            "placeholder": "​",
            "style": "IPY_MODEL_9f54d6d25d02480ca5a25b9d5f602a0f",
            "value": "vocab.txt: 100%"
          }
        },
        "a7f8ccc982e7445f8a234e57d1ace0df": {
          "model_module": "@jupyter-widgets/base",
          "model_module_version": "1.2.0",
          "model_name": "LayoutModel",
          "state": {
            "_model_module": "@jupyter-widgets/base",
            "_model_module_version": "1.2.0",
            "_model_name": "LayoutModel",
            "_view_count": null,
            "_view_module": "@jupyter-widgets/base",
            "_view_module_version": "1.2.0",
            "_view_name": "LayoutView",
            "align_content": null,
            "align_items": null,
            "align_self": null,
            "border": null,
            "bottom": null,
            "display": null,
            "flex": null,
            "flex_flow": null,
            "grid_area": null,
            "grid_auto_columns": null,
            "grid_auto_flow": null,
            "grid_auto_rows": null,
            "grid_column": null,
            "grid_gap": null,
            "grid_row": null,
            "grid_template_areas": null,
            "grid_template_columns": null,
            "grid_template_rows": null,
            "height": null,
            "justify_content": null,
            "justify_items": null,
            "left": null,
            "margin": null,
            "max_height": null,
            "max_width": null,
            "min_height": null,
            "min_width": null,
            "object_fit": null,
            "object_position": null,
            "order": null,
            "overflow": null,
            "overflow_x": null,
            "overflow_y": null,
            "padding": null,
            "right": null,
            "top": null,
            "visibility": null,
            "width": null
          }
        },
        "ab2d49bc5b3648aaa2f42c798ea80000": {
          "model_module": "@jupyter-widgets/controls",
          "model_module_version": "1.5.0",
          "model_name": "HBoxModel",
          "state": {
            "_dom_classes": [],
            "_model_module": "@jupyter-widgets/controls",
            "_model_module_version": "1.5.0",
            "_model_name": "HBoxModel",
            "_view_count": null,
            "_view_module": "@jupyter-widgets/controls",
            "_view_module_version": "1.5.0",
            "_view_name": "HBoxView",
            "box_style": "",
            "children": [
              "IPY_MODEL_a2fdcba1e1e84221a7044f1e5f7640ab",
              "IPY_MODEL_3935d17583444253baee6c92371849c8",
              "IPY_MODEL_e9e3d39b3bf44feaa302375e6483da20"
            ],
            "layout": "IPY_MODEL_7c5437b6763f4262b9369309f54e13bd"
          }
        },
        "b49e04ed541649ebbce96075c7abc0f3": {
          "model_module": "@jupyter-widgets/controls",
          "model_module_version": "1.5.0",
          "model_name": "DescriptionStyleModel",
          "state": {
            "_model_module": "@jupyter-widgets/controls",
            "_model_module_version": "1.5.0",
            "_model_name": "DescriptionStyleModel",
            "_view_count": null,
            "_view_module": "@jupyter-widgets/base",
            "_view_module_version": "1.2.0",
            "_view_name": "StyleView",
            "description_width": ""
          }
        },
        "b7b4a6ca3f254b39ab995c9d76aa15c3": {
          "model_module": "@jupyter-widgets/controls",
          "model_module_version": "1.5.0",
          "model_name": "HBoxModel",
          "state": {
            "_dom_classes": [],
            "_model_module": "@jupyter-widgets/controls",
            "_model_module_version": "1.5.0",
            "_model_name": "HBoxModel",
            "_view_count": null,
            "_view_module": "@jupyter-widgets/controls",
            "_view_module_version": "1.5.0",
            "_view_name": "HBoxView",
            "box_style": "",
            "children": [
              "IPY_MODEL_861b0b6549e04874a0c5840639f0078c",
              "IPY_MODEL_899b7cd976aa418f9605ba84b44f53f5",
              "IPY_MODEL_c765d46815e5496b80254a1ad63a896d"
            ],
            "layout": "IPY_MODEL_a7f8ccc982e7445f8a234e57d1ace0df"
          }
        },
        "c765d46815e5496b80254a1ad63a896d": {
          "model_module": "@jupyter-widgets/controls",
          "model_module_version": "1.5.0",
          "model_name": "HTMLModel",
          "state": {
            "_dom_classes": [],
            "_model_module": "@jupyter-widgets/controls",
            "_model_module_version": "1.5.0",
            "_model_name": "HTMLModel",
            "_view_count": null,
            "_view_module": "@jupyter-widgets/controls",
            "_view_module_version": "1.5.0",
            "_view_name": "HTMLView",
            "description": "",
            "description_tooltip": null,
            "layout": "IPY_MODEL_82c688c29319463a85bc4fd6ad39f323",
            "placeholder": "​",
            "style": "IPY_MODEL_856534597bc345afa346dcc997ee6a62",
            "value": " 654M/654M [00:06&lt;00:00, 88.7MB/s]"
          }
        },
        "ce35ced1b6dc46469b5cc4ac53d75bbb": {
          "model_module": "@jupyter-widgets/base",
          "model_module_version": "1.2.0",
          "model_name": "LayoutModel",
          "state": {
            "_model_module": "@jupyter-widgets/base",
            "_model_module_version": "1.2.0",
            "_model_name": "LayoutModel",
            "_view_count": null,
            "_view_module": "@jupyter-widgets/base",
            "_view_module_version": "1.2.0",
            "_view_name": "LayoutView",
            "align_content": null,
            "align_items": null,
            "align_self": null,
            "border": null,
            "bottom": null,
            "display": null,
            "flex": null,
            "flex_flow": null,
            "grid_area": null,
            "grid_auto_columns": null,
            "grid_auto_flow": null,
            "grid_auto_rows": null,
            "grid_column": null,
            "grid_gap": null,
            "grid_row": null,
            "grid_template_areas": null,
            "grid_template_columns": null,
            "grid_template_rows": null,
            "height": null,
            "justify_content": null,
            "justify_items": null,
            "left": null,
            "margin": null,
            "max_height": null,
            "max_width": null,
            "min_height": null,
            "min_width": null,
            "object_fit": null,
            "object_position": null,
            "order": null,
            "overflow": null,
            "overflow_x": null,
            "overflow_y": null,
            "padding": null,
            "right": null,
            "top": null,
            "visibility": null,
            "width": null
          }
        },
        "d5c470ea7819457cb7766285dd173435": {
          "model_module": "@jupyter-widgets/controls",
          "model_module_version": "1.5.0",
          "model_name": "DescriptionStyleModel",
          "state": {
            "_model_module": "@jupyter-widgets/controls",
            "_model_module_version": "1.5.0",
            "_model_name": "DescriptionStyleModel",
            "_view_count": null,
            "_view_module": "@jupyter-widgets/base",
            "_view_module_version": "1.2.0",
            "_view_name": "StyleView",
            "description_width": ""
          }
        },
        "d7287d27a6704566a95455d8ef896e97": {
          "model_module": "@jupyter-widgets/base",
          "model_module_version": "1.2.0",
          "model_name": "LayoutModel",
          "state": {
            "_model_module": "@jupyter-widgets/base",
            "_model_module_version": "1.2.0",
            "_model_name": "LayoutModel",
            "_view_count": null,
            "_view_module": "@jupyter-widgets/base",
            "_view_module_version": "1.2.0",
            "_view_name": "LayoutView",
            "align_content": null,
            "align_items": null,
            "align_self": null,
            "border": null,
            "bottom": null,
            "display": null,
            "flex": null,
            "flex_flow": null,
            "grid_area": null,
            "grid_auto_columns": null,
            "grid_auto_flow": null,
            "grid_auto_rows": null,
            "grid_column": null,
            "grid_gap": null,
            "grid_row": null,
            "grid_template_areas": null,
            "grid_template_columns": null,
            "grid_template_rows": null,
            "height": null,
            "justify_content": null,
            "justify_items": null,
            "left": null,
            "margin": null,
            "max_height": null,
            "max_width": null,
            "min_height": null,
            "min_width": null,
            "object_fit": null,
            "object_position": null,
            "order": null,
            "overflow": null,
            "overflow_x": null,
            "overflow_y": null,
            "padding": null,
            "right": null,
            "top": null,
            "visibility": null,
            "width": null
          }
        },
        "e0a0e5b9cee940f7b5d6b832594f7818": {
          "model_module": "@jupyter-widgets/controls",
          "model_module_version": "1.5.0",
          "model_name": "HTMLModel",
          "state": {
            "_dom_classes": [],
            "_model_module": "@jupyter-widgets/controls",
            "_model_module_version": "1.5.0",
            "_model_name": "HTMLModel",
            "_view_count": null,
            "_view_module": "@jupyter-widgets/controls",
            "_view_module_version": "1.5.0",
            "_view_name": "HTMLView",
            "description": "",
            "description_tooltip": null,
            "layout": "IPY_MODEL_4b59eb8caf7f499092e4ac2b0c308a8a",
            "placeholder": "​",
            "style": "IPY_MODEL_967d58867f124ec582826fd0ba031ef3",
            "value": "Map: 100%"
          }
        },
        "e44b1f7494c84915972912b7bd655b24": {
          "model_module": "@jupyter-widgets/controls",
          "model_module_version": "1.5.0",
          "model_name": "FloatProgressModel",
          "state": {
            "_dom_classes": [],
            "_model_module": "@jupyter-widgets/controls",
            "_model_module_version": "1.5.0",
            "_model_name": "FloatProgressModel",
            "_view_count": null,
            "_view_module": "@jupyter-widgets/controls",
            "_view_module_version": "1.5.0",
            "_view_name": "ProgressView",
            "bar_style": "success",
            "description": "",
            "description_tooltip": null,
            "layout": "IPY_MODEL_5bb524c40ffb4800b5fe1889c0535dc0",
            "max": 20000,
            "min": 0,
            "orientation": "horizontal",
            "style": "IPY_MODEL_21eef8f809e64e98a9d387309654c423",
            "value": 20000
          }
        },
        "e9e3d39b3bf44feaa302375e6483da20": {
          "model_module": "@jupyter-widgets/controls",
          "model_module_version": "1.5.0",
          "model_name": "HTMLModel",
          "state": {
            "_dom_classes": [],
            "_model_module": "@jupyter-widgets/controls",
            "_model_module_version": "1.5.0",
            "_model_name": "HTMLModel",
            "_view_count": null,
            "_view_module": "@jupyter-widgets/controls",
            "_view_module_version": "1.5.0",
            "_view_name": "HTMLView",
            "description": "",
            "description_tooltip": null,
            "layout": "IPY_MODEL_83f7dcc61c2841e7a29434fb6d478a5e",
            "placeholder": "​",
            "style": "IPY_MODEL_d5c470ea7819457cb7766285dd173435",
            "value": " 1.22M/1.22M [00:00&lt;00:00, 3.99MB/s]"
          }
        },
        "f37de074fe7344c8996334872ae8cf51": {
          "model_module": "@jupyter-widgets/controls",
          "model_module_version": "1.5.0",
          "model_name": "HTMLModel",
          "state": {
            "_dom_classes": [],
            "_model_module": "@jupyter-widgets/controls",
            "_model_module_version": "1.5.0",
            "_model_name": "HTMLModel",
            "_view_count": null,
            "_view_module": "@jupyter-widgets/controls",
            "_view_module_version": "1.5.0",
            "_view_name": "HTMLView",
            "description": "",
            "description_tooltip": null,
            "layout": "IPY_MODEL_d7287d27a6704566a95455d8ef896e97",
            "placeholder": "​",
            "style": "IPY_MODEL_b49e04ed541649ebbce96075c7abc0f3",
            "value": "config.json: 100%"
          }
        },
        "fb98a1d4017947339fca76aed73c2bab": {
          "model_module": "@jupyter-widgets/controls",
          "model_module_version": "1.5.0",
          "model_name": "HBoxModel",
          "state": {
            "_dom_classes": [],
            "_model_module": "@jupyter-widgets/controls",
            "_model_module_version": "1.5.0",
            "_model_name": "HBoxModel",
            "_view_count": null,
            "_view_module": "@jupyter-widgets/controls",
            "_view_module_version": "1.5.0",
            "_view_name": "HBoxView",
            "box_style": "",
            "children": [
              "IPY_MODEL_f37de074fe7344c8996334872ae8cf51",
              "IPY_MODEL_50bfb6c09c4d451b8a8713241009d35f",
              "IPY_MODEL_3c0f18b13c6d41fdac7a0395817c9120"
            ],
            "layout": "IPY_MODEL_53f1c32de29b4126a7752426221900d4"
          }
        },
        "fe896baadb6a462ca7311d11641489bf": {
          "model_module": "@jupyter-widgets/base",
          "model_module_version": "1.2.0",
          "model_name": "LayoutModel",
          "state": {
            "_model_module": "@jupyter-widgets/base",
            "_model_module_version": "1.2.0",
            "_model_name": "LayoutModel",
            "_view_count": null,
            "_view_module": "@jupyter-widgets/base",
            "_view_module_version": "1.2.0",
            "_view_name": "LayoutView",
            "align_content": null,
            "align_items": null,
            "align_self": null,
            "border": null,
            "bottom": null,
            "display": null,
            "flex": null,
            "flex_flow": null,
            "grid_area": null,
            "grid_auto_columns": null,
            "grid_auto_flow": null,
            "grid_auto_rows": null,
            "grid_column": null,
            "grid_gap": null,
            "grid_row": null,
            "grid_template_areas": null,
            "grid_template_columns": null,
            "grid_template_rows": null,
            "height": null,
            "justify_content": null,
            "justify_items": null,
            "left": null,
            "margin": null,
            "max_height": null,
            "max_width": null,
            "min_height": null,
            "min_width": null,
            "object_fit": null,
            "object_position": null,
            "order": null,
            "overflow": null,
            "overflow_x": null,
            "overflow_y": null,
            "padding": null,
            "right": null,
            "top": null,
            "visibility": null,
            "width": null
          }
        }
      }
    }
  },
  "nbformat": 4,
  "nbformat_minor": 0
}
