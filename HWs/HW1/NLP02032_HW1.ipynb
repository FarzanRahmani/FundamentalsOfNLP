{
  "cells": [
    {
      "cell_type": "markdown",
      "metadata": {
        "id": "a4NQTign_k_T"
      },
      "source": [
        "# Q1: Probabilistic N-Gram Language Model(50 points)"
      ]
    },
    {
      "cell_type": "markdown",
      "metadata": {
        "id": "zDKtnG-HAH1k"
      },
      "source": [
        "**Objective:**\n",
        "\n",
        "The objective of this question is to implement and experiment with an N-Gram language model using the Reuters dataset. The task involves building a probabilistic N-Gram model and creating a text generator based on the trained model with customizable parameters.\n",
        "\n",
        "**Tasks:**\n",
        "\n",
        "\n",
        "**1.Text Preprocessing (5 points):**\n",
        "*   Implement the preprocess_text function to perform necessary text preprocessing. You may use NLTK or other relevant libraries for this task. (Already provided, no modification needed)\n",
        "\n",
        "\n",
        "**2.Build Probabilistic N-Gram Model (15 points):**\n",
        "\n",
        "*   Implement the build_probabilistic_ngram_model function to construct a probabilistic N-Gram model from the Reuters dataset.\n",
        "\n",
        "\n",
        "**3.Generate Text with Customizable Parameters (15 points):**\n",
        "\n",
        "*   Implement the generate_text function to generate text given a seed text and the probabilistic N-Gram model.\n",
        "*   The function should have parameters for probability_threshold and min_length to customize the generation process.\n",
        "*   Ensure that the generation stops when either the specified min_length is reached or the probabilities fall below probability_threshold.\n",
        "\n",
        "\n",
        "**4.Experimentation and Parameter Tuning (5 points):**\n",
        "\n",
        "*   Use Google Colab to experiment with different values of n_value, probability_threshold, and min_length.\n",
        "Find the optimal parameters that result in coherent and meaningful generated text.\n",
        "*   Provide a detailed analysis of the impact of changing each parameter on the generated text's quality.\n",
        "*   Discuss any challenges faced during parameter tuning and propose potential improvements.\n",
        "\n",
        "\n",
        "**5.Results and Conclusion (10 points):**\n",
        "\n",
        "*   Summarize your findings and present the optimal parameter values for n_value, probability_threshold, and min_length.\n",
        "*   Discuss the trade-offs and considerations when selecting these parameters.\n",
        "*   Conclude with insights gained from the experimentation."
      ]
    },
    {
      "cell_type": "code",
      "execution_count": null,
      "metadata": {
        "id": "3NWXJy-T-Vd7"
      },
      "outputs": [],
      "source": [
        "import nltk\n",
        "from nltk.corpus import reuters\n",
        "from nltk import ngrams\n",
        "import random\n",
        "import string\n",
        "from collections import defaultdict\n",
        "\n",
        "# Download the Reuters dataset if not already downloaded\n",
        "nltk.download('reuters')\n",
        "nltk.download('punkt')"
      ]
    },
    {
      "cell_type": "code",
      "execution_count": null,
      "metadata": {
        "id": "Q9IHxAbU0N80"
      },
      "outputs": [],
      "source": [
        "# Function to preprocess text\n",
        "def preprocess_text(text):\n",
        "    # Fill in: Implement text preprocessing steps like lowercasing, removing punctuation, etc.\n",
        "    # You may use NLTK or other libraries for this.\n",
        "\n",
        "    # Lowercase the text\n",
        "    text = text.lower()\n",
        "\n",
        "    # Remove punctuation\n",
        "    text = text.translate(str.maketrans('', '', string.punctuation))\n",
        "\n",
        "    # Remove stopwords\n",
        "    # # Create a list of stopwords\n",
        "    # stopwords = nltk.corpus.stopwords.words('english')\n",
        "    # # Tokenize the text\n",
        "    # tokens = nltk.word_tokenize(text)\n",
        "    # # Remove the stopwords\n",
        "    # text = ' '.join([token for token in tokens if token not in stopwords])\n",
        "\n",
        "\n",
        "    # # Perform stemming\n",
        "    # # Create a Porter stemmer\n",
        "    # porter = nltk.PorterStemmer()\n",
        "    # # Tokenize the text\n",
        "    # tokens = nltk.word_tokenize(text)\n",
        "    # # Perform stemming\n",
        "    # text = ' '.join([porter.stem(token) for token in tokens])\n",
        "\n",
        "\n",
        "    return text\n",
        "    # return\n",
        "\n",
        "# Function to build a probabilistic n-gram model\n",
        "def build_probabilistic_ngram_model(corpus, n):\n",
        "    # Fill in: Implement code to build an n-gram model from the given corpus.\n",
        "    # You may use NLTK's word_tokenize function.\n",
        "\n",
        "    # Tokenize the corpus\n",
        "    tokens = nltk.word_tokenize(corpus)\n",
        "\n",
        "    # Create n-grams\n",
        "    n_grams = ngrams(tokens, n)\n",
        "\n",
        "    # Create a dictionary to store the n-grams and their counts\n",
        "    n_gram_counts = defaultdict(int)\n",
        "\n",
        "    # Count the n-grams\n",
        "    for n_gram in n_grams:\n",
        "        n_gram_counts[n_gram] += 1\n",
        "\n",
        "    # Create a dictionary to store the n-grams and their probabilities\n",
        "    n_gram_probabilities = defaultdict(float)\n",
        "\n",
        "    # Calculate the probabilities of the n-grams\n",
        "    for n_gram in n_gram_counts:\n",
        "        n_gram_probabilities[n_gram] = n_gram_counts[n_gram] / len(n_gram_counts)\n",
        "\n",
        "    return n_gram_probabilities\n",
        "    # return\n",
        "\n",
        "# Function to generate text using the probabilistic n-gram model with stop criteria\n",
        "def generate_text(model, seed_text, n, probability_threshold=0.1, min_length=10):\n",
        "    # Fill in: Implement code to generate text given a seed text and the n-gram model.\n",
        "    # Use the model to predict the next words and generate a sequence.\n",
        "\n",
        "    # You may use the random module to sample words based on the probability distribution.\n",
        "    # You may also use the seed_text and probability_threshold to stop the text generation.\n",
        "\n",
        "    # Tokenize the seed text\n",
        "    tokens = nltk.word_tokenize(seed_text)\n",
        "\n",
        "    # Generate the next word\n",
        "    next_word = None\n",
        "    while next_word is None or next_word == '.':\n",
        "        # Create the n-gram\n",
        "        n_gram = tuple(tokens[-n:])\n",
        "        # Get the next word\n",
        "        next_word = random.choices(list(model.keys()), weights=list(model.values()))[0][-1]\n",
        "\n",
        "    # Add the next word to the seed text\n",
        "    tokens.append(next_word)\n",
        "\n",
        "    # Generate the next words\n",
        "    while next_word != '.' and len(tokens) < min_length:\n",
        "        # Create the n-gram\n",
        "        n_gram = tuple(tokens[-n:])\n",
        "        # Get the next word\n",
        "        next_word = random.choices(list(model.keys()), weights=list(model.values()))[0][-1]\n",
        "        # Add the next word to the seed text\n",
        "        tokens.append(next_word)\n",
        "    \n",
        "    # Join the tokens to form the generated text\n",
        "    generated_text = ' '.join(tokens)\n",
        "\n",
        "    return generated_text\n",
        "    # return\n"
      ]
    },
    {
      "cell_type": "code",
      "execution_count": null,
      "metadata": {
        "id": "eVVMe_s59Ngd"
      },
      "outputs": [],
      "source": [
        "# Load the Reuters dataset\n",
        "corpus = [reuters.raw(file_id) for file_id in reuters.fileids()]\n",
        "\n",
        "# Preprocess the entire corpus\n",
        "preprocessed_corpus = [preprocess_text(text) for text in corpus]\n",
        "\n",
        "# Choose an n for the n-gram model\n",
        "n_value = 3  # You may change this value\n",
        "\n",
        "# Build the probabilistic n-gram model\n",
        "probabilistic_ngram_model = build_probabilistic_ngram_model(preprocessed_corpus, n_value)"
      ]
    },
    {
      "cell_type": "code",
      "execution_count": null,
      "metadata": {
        "id": "n-4WP7IC9Q7s"
      },
      "outputs": [],
      "source": [
        "# Test the text generator\n",
        "seed_text = \"Inflation is\"\n",
        "generated_text = generate_text(probabilistic_ngram_model, seed_text, n_value, probability_threshold=0.02, min_length=5)\n",
        "print(f\"Generated Text: {generated_text}\")"
      ]
    },
    {
      "cell_type": "markdown",
      "metadata": {
        "id": "dZ3XzDx7JUNN"
      },
      "source": [
        "# Q2: Sentiment Analysis with Naive Bayes Classifier(50 Points)"
      ]
    },
    {
      "cell_type": "markdown",
      "metadata": {
        "id": "NMuVkjW2XfAp"
      },
      "source": [
        "**Objective:**\n",
        "\n",
        "You are tasked with implementing a Naive Bayes classifier for sentiment analysis. The provided code is incomplete, and your goal is to complete the missing parts. Additionally, you should train the classifier on a small dataset and analyze its performance.\n",
        "\n",
        "**Tasks:**\n",
        "\n",
        "1.**Complete the Code (35 points)**: Fill in the missing parts in the provided Python code for the Naive Bayes classifier. Pay special attention to the `extract_features` function.\n",
        "\n",
        "2.**Train and Test**: Train the Naive Bayes classifier on the training data and test it on a separate test set. Evaluate the accuracy of the classifier.\n",
        "\n",
        "3.**Analysis (15 points)**: Discuss the results. Identify any misclassifications and try to understand why the classifier may fail in those cases. Provide examples of sentences that were not predicted correctly and explain possible reasons.\n"
      ]
    },
    {
      "cell_type": "code",
      "execution_count": null,
      "metadata": {
        "id": "M68XJubdKeDL"
      },
      "outputs": [],
      "source": [
        "import random\n",
        "import math\n",
        "import string\n",
        "from collections import defaultdict\n",
        "\n",
        "from nltk.corpus import stopwords\n",
        "from nltk.stem import PorterStemmer\n",
        "from nltk.corpus import movie_reviews\n",
        "import nltk\n",
        "\n",
        "# Download NLTK resources\n",
        "nltk.download('movie_reviews')\n",
        "nltk.download('punkt')\n",
        "nltk.download('stopwords')"
      ]
    },
    {
      "cell_type": "code",
      "execution_count": null,
      "metadata": {
        "id": "KSLo4_JoUcax"
      },
      "outputs": [],
      "source": [
        "def get_features(tokens):\n",
        "    # Remove punctuation\n",
        "    tokens = [word for word in tokens if word not in string.punctuation]\n",
        "\n",
        "    # Remove stopwords\n",
        "    stop_words = set(stopwords.words('english'))\n",
        "    tokens = [word for word in tokens if word.lower() not in stop_words]\n",
        "\n",
        "    # Perform stemming\n",
        "    stemmer = PorterStemmer()\n",
        "    tokens = [stemmer.stem(word) for word in tokens]\n",
        "\n",
        "    return tokens"
      ]
    },
    {
      "cell_type": "code",
      "execution_count": null,
      "metadata": {
        "id": "m2Whvjy_Jq8n"
      },
      "outputs": [],
      "source": [
        "class NaiveBayesClassifier:\n",
        "    def __init__(self, classes):\n",
        "        self.classes = classes\n",
        "        self.class_probs = defaultdict(float)\n",
        "        self.feature_probs = defaultdict(lambda: defaultdict(float))\n",
        "\n",
        "    def train(self, training_data):\n",
        "        # Implement training here\n",
        "        # You should use get_features function to extract useful tokens from\n",
        "        # dataset and use them to train the classifier.\n",
        "        data_features = defaultdict(list)\n",
        "        for label, text in training_data:\n",
        "            tokens = nltk.word_tokenize(text)\n",
        "            data_features[label].extend(get_features(tokens))\n",
        "        \n",
        "        # Calculate class probabilities\n",
        "        for label in self.classes:\n",
        "            self.class_probs[label] = len(data_features[label]) / sum([len(data_features[label]) for label in self.classes])\n",
        "\n",
        "        # Calculate feature probabilities\n",
        "        for label in self.classes:\n",
        "            for feature in data_features[label]:\n",
        "                self.feature_probs[label][feature] += 1\n",
        "\n",
        "        for label in self.classes:\n",
        "            for feature in self.feature_probs[label]:\n",
        "                self.feature_probs[label][feature] /= len(data_features[label])\n",
        "\n",
        "        return \n",
        "\n",
        "        # pass\n",
        "\n",
        "\n",
        "    def classify(self, features):\n",
        "        # Implement classification here\n",
        "        \n",
        "        # You should use the trained classifier to classify the features\n",
        "        predicted_sentiment = \n",
        "\n",
        "        # pass"
      ]
    },
    {
      "cell_type": "code",
      "execution_count": null,
      "metadata": {
        "id": "j2jeyI6nKooE"
      },
      "outputs": [],
      "source": [
        "# Load the movie reviews dataset from NLTK\n",
        "data = [(list(movie_reviews.words(fileid)), category)\n",
        "             for category in movie_reviews.categories()\n",
        "             for fileid in movie_reviews.fileids(category)]\n",
        "\n",
        "random.shuffle(data)\n",
        "\n",
        "# Shuffle the dataset for randomness\n",
        "random.shuffle(data)\n",
        "\n",
        "# Split the dataset into training and testing sets\n",
        "split_ratio = 0.8\n",
        "split_index = int(len(data) * split_ratio)\n",
        "train_set = data[:split_index]\n",
        "test_set = data[split_index:]\n",
        "\n",
        "# Train the Naive Bayes classifier\n",
        "classes = set(sentiment for _, sentiment in train_set)\n",
        "classifier = NaiveBayesClassifier(classes)\n",
        "classifier.train(train_set)\n",
        "\n",
        "def calculate_accuracy(dataset, dataset_type):\n",
        "    # Test the classifier on the testing set\n",
        "    correct_predictions = 0\n",
        "    for example in dataset:\n",
        "        tokens, true_sentiment = example\n",
        "        features = get_features(tokens)\n",
        "        predicted_sentiment = classifier.classify(features)\n",
        "        if predicted_sentiment == true_sentiment:\n",
        "            correct_predictions += 1\n",
        "\n",
        "    accuracy = correct_predictions / len(dataset)\n",
        "    print(f\"{dataset_type} Accuracy: {accuracy}\")\n",
        "\n",
        "calculate_accuracy(train_set, 'Train')\n",
        "calculate_accuracy(test_set, 'Test')"
      ]
    },
    {
      "cell_type": "markdown",
      "metadata": {
        "id": "Nfl8UA42Gqjf"
      },
      "source": [
        "#Submission Instructions:\n"
      ]
    },
    {
      "cell_type": "markdown",
      "metadata": {
        "id": "75kVTQX6GsCn"
      },
      "source": [
        "1.Submit a Google Colab notebook containing your completed code and experimentation results.\n",
        "\n",
        "2.Include comments and explanations in your code to help understand the implemented logic.\n",
        "\n",
        "3.Clearly present the results of your parameter tuning in the notebook.\n",
        "\n",
        "4.Provide a brief summary of your findings and insights in the conclusion section.\n",
        "\n",
        "**Additional Notes:**\n",
        "*   Ensure that the notebook runs successfully in Google Colab.\n",
        "*   Experiment with various seed texts to showcase the diversity of generated text.\n",
        "*   Document any issues encountered during experimentation and how you addressed them.\n",
        "\n",
        "**Grading:**\n",
        "*   Each task will be graded out of the specified points.\n",
        "*   Points will be awarded for correctness, clarity of code, thorough experimentation, and insightful analysis."
      ]
    }
  ],
  "metadata": {
    "colab": {
      "provenance": []
    },
    "kernelspec": {
      "display_name": "Python 3",
      "name": "python3"
    },
    "language_info": {
      "name": "python"
    }
  },
  "nbformat": 4,
  "nbformat_minor": 0
}
