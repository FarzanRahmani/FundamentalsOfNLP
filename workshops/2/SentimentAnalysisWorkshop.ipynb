{
  "cells": [
    {
      "cell_type": "markdown",
      "metadata": {
        "id": "jY4bE9_OqCer"
      },
      "source": [
        "# Simple Sentiment Analyser"
      ]
    },
    {
      "cell_type": "code",
      "execution_count": 5,
      "metadata": {
        "id": "SAU04IeenwBt"
      },
      "outputs": [],
      "source": [
        "import numpy as np # linear algebra\n",
        "from sklearn.model_selection import train_test_split # function for splitting data to train and test sets\n",
        "from sklearn.decomposition import TruncatedSVD # function for dimensionality reduction\n",
        "from sklearn.feature_extraction.text import CountVectorizer # function for converting text data to vectors\n",
        "from sklearn.pipeline import make_pipeline # function for creating a pipeline\n",
        "from sklearn.svm import SVC # function for Support Vector Machine (SVM) model\n",
        "from sklearn.metrics import accuracy_score # function for model evaluation\n",
        "from nltk.corpus import movie_reviews # sample text data\n",
        "from tqdm import tqdm # function for showing progress bar\n",
        "import nltk # NLP toolbox\n",
        "import spacy # NLP toolbox"
      ]
    },
    {
      "cell_type": "code",
      "execution_count": 6,
      "metadata": {
        "colab": {
          "base_uri": "https://localhost:8080/"
        },
        "id": "P5g23Inwnzec",
        "outputId": "50130531-6433-4ebd-a84c-940ec2a54841"
      },
      "outputs": [
        {
          "name": "stderr",
          "output_type": "stream",
          "text": [
            "[nltk_data] Downloading package movie_reviews to /root/nltk_data...\n",
            "[nltk_data]   Unzipping corpora/movie_reviews.zip.\n"
          ]
        }
      ],
      "source": [
        "nltk.download('movie_reviews') # Download the IMDB Movie Reviews dataset\n",
        "\n",
        "# Load spaCy English model\n",
        "nlp = spacy.load(\"en_core_web_sm\")\n",
        "\n",
        "# Load IMDB Movie Reviews dataset from NLTK\n",
        "movie_reviews_data = [(movie_reviews.raw(fileid), category) for category in movie_reviews.categories()\n",
        "                        for fileid in movie_reviews.fileids(category)] # List of tuples (text, label)\n",
        "\n",
        "# Extract texts and labels\n",
        "texts, labels = zip(*movie_reviews_data) # Unzip the list of tuples into two lists\n",
        "\n",
        "# Convert labels to binary (0 for negative, 1 for positive)\n",
        "labels = np.array([0 if label == 'neg' else 1 for label in labels]) # Convert labels to binary\n",
        "\n",
        "# Split the dataset into training and testing sets\n",
        "X_train, X_test, y_train, y_test = train_test_split(texts, labels, test_size=0.2, random_state=42)"
      ]
    },
    {
      "cell_type": "code",
      "execution_count": null,
      "metadata": {
        "colab": {
          "base_uri": "https://localhost:8080/"
        },
        "id": "jOfwofv5qNSF",
        "outputId": "3e2db714-f570-4b1d-8304-00cbfcb81484"
      },
      "outputs": [
        {
          "data": {
            "text/plain": [
              "array([0, 0, 0, 0, 0, 0, 0, 0, 0, 0])"
            ]
          },
          "execution_count": 8,
          "metadata": {},
          "output_type": "execute_result"
        }
      ],
      "source": [
        "labels[0:10]"
      ]
    },
    {
      "cell_type": "code",
      "execution_count": null,
      "metadata": {
        "colab": {
          "base_uri": "https://localhost:8080/"
        },
        "id": "tJJXqSMqrwms",
        "outputId": "07ba2d5b-e032-4dfe-d6a3-bfffd4b661b6"
      },
      "outputs": [
        {
          "data": {
            "text/plain": [
              "2000"
            ]
          },
          "execution_count": 6,
          "metadata": {},
          "output_type": "execute_result"
        }
      ],
      "source": [
        "len(labels)"
      ]
    },
    {
      "cell_type": "code",
      "execution_count": null,
      "metadata": {
        "colab": {
          "base_uri": "https://localhost:8080/"
        },
        "id": "Rl20GMASr444",
        "outputId": "f18c477c-702e-4bc4-ded0-7ecd893c557b"
      },
      "outputs": [
        {
          "data": {
            "text/plain": [
              "array([1, 1, 1, 1, 1, 1, 1, 1, 1, 1])"
            ]
          },
          "execution_count": 7,
          "metadata": {},
          "output_type": "execute_result"
        }
      ],
      "source": [
        "labels[-11:-1]"
      ]
    },
    {
      "cell_type": "code",
      "execution_count": null,
      "metadata": {
        "colab": {
          "base_uri": "https://localhost:8080/",
          "height": 141
        },
        "id": "biCbavTzu_pw",
        "outputId": "e771d6df-cfb6-48a7-f1d6-e8d891b7a79a"
      },
      "outputs": [
        {
          "ename": "AttributeError",
          "evalue": "'spacy.tokens.token.Token' object has no attribute 'dtype'",
          "output_type": "error",
          "traceback": [
            "\u001b[0;31m---------------------------------------------------------------------------\u001b[0m",
            "\u001b[0;31mAttributeError\u001b[0m                            Traceback (most recent call last)",
            "\u001b[0;32m<ipython-input-30-95d7fef1398b>\u001b[0m in \u001b[0;36m<cell line: 1>\u001b[0;34m()\u001b[0m\n\u001b[0;32m----> 1\u001b[0;31m \u001b[0mdoc\u001b[0m\u001b[0;34m[\u001b[0m\u001b[0;36m0\u001b[0m\u001b[0;34m]\u001b[0m\u001b[0;34m.\u001b[0m\u001b[0mdtype\u001b[0m\u001b[0;34m\u001b[0m\u001b[0;34m\u001b[0m\u001b[0m\n\u001b[0m",
            "\u001b[0;31mAttributeError\u001b[0m: 'spacy.tokens.token.Token' object has no attribute 'dtype'"
          ]
        }
      ],
      "source": [
        "doc[0].dtype"
      ]
    },
    {
      "cell_type": "code",
      "execution_count": null,
      "metadata": {
        "colab": {
          "base_uri": "https://localhost:8080/"
        },
        "id": "PfDYtcivuJDa",
        "outputId": "64b4d934-aa94-4a41-8ff8-6c47accfa0b6"
      },
      "outputs": [
        {
          "name": "stdout",
          "output_type": "stream",
          "text": [
            "doc[0] is: while\n",
            "doc[0].has_vector is: True\n",
            "doc[0].vector is: [-1.8903863e-01 -1.0919725e+00  5.9464866e-01 -1.3465793e+00\n",
            " -6.4634943e-01 -8.8092428e-01  8.1322885e-01 -2.3720935e-01\n",
            "  1.6152266e-01  5.5341655e-01  3.9680359e-01 -1.4818543e-01\n",
            " -1.3492306e+00 -3.4411907e-01 -2.5211111e-01 -8.5277212e-01\n",
            " -9.6737391e-01  1.4454012e+00  1.1829404e+00 -5.7727218e-01\n",
            "  1.3045775e+00  8.2723874e-01  1.2261688e+00 -8.7188470e-01\n",
            "  3.6476345e+00  6.2565506e-01  1.8027409e+00  3.5740709e-01\n",
            "  2.4463528e-01  1.8441626e-01  2.8450093e-01 -6.8652952e-01\n",
            "  6.7287606e-01 -1.1027163e-01 -3.7379611e-01 -1.5272062e+00\n",
            " -1.8876302e-01  7.3501773e-02  1.7454055e-01  6.9636816e-01\n",
            "  3.3539245e-01  1.2451193e-01 -5.5614018e-01 -9.4686216e-01\n",
            "  1.7567501e+00 -1.1334559e-01 -4.5120013e-01 -1.8191037e+00\n",
            "  3.8229850e-01  1.3238903e+00 -7.8471780e-01  6.7317271e-01\n",
            "  3.9045537e-01 -1.6134107e+00 -4.9348125e-01 -1.6859490e-01\n",
            "  9.2342418e-01  3.4502125e-01  2.4862409e+00  6.8899655e-01\n",
            " -7.4190170e-01  7.3966277e-01 -3.4492546e-01  8.2898682e-01\n",
            "  2.1182244e+00 -7.7460843e-01  1.2180898e+00 -4.3411177e-01\n",
            "  3.7961400e-01 -4.5878372e-01  8.2944119e-01 -1.0276003e+00\n",
            " -1.7808847e+00 -1.2578912e+00 -9.6795291e-01  1.7726433e-01\n",
            "  1.3973708e-01 -1.3034617e+00  7.0917636e-01  1.2816105e+00\n",
            "  6.0655248e-01 -1.4373740e+00 -7.8161883e-01 -8.3561540e-01\n",
            " -4.4488353e-01  2.7091378e-01  1.8838384e+00 -2.5199580e-01\n",
            "  2.4850798e+00 -5.0476682e-01 -2.6322007e-03 -4.6371388e-01\n",
            " -1.0921304e+00 -1.0893513e-01 -2.0206380e-01 -4.7305577e-02]\n"
          ]
        }
      ],
      "source": [
        "# nlp = spacy.load(\"en_core_web_sm\")\n",
        "\n",
        "\n",
        "text = X_train[0]\n",
        "doc = nlp(text)\n",
        "print(\"doc[0] is:\", doc[0])\n",
        "print(\"doc[0].has_vector is:\", doc[0].has_vector)\n",
        "print(\"doc[0].vector is:\", doc[0].vector)"
      ]
    },
    {
      "cell_type": "code",
      "execution_count": null,
      "metadata": {
        "colab": {
          "base_uri": "https://localhost:8080/"
        },
        "id": "drW4_VlxrI0m",
        "outputId": "048f6b5d-37c9-480c-afbb-a3a8b971ac1e"
      },
      "outputs": [
        {
          "name": "stdout",
          "output_type": "stream",
          "text": [
            "X_train[0] text is:  while watching loser , it occurred to me that amy heckerling's true genius as a film-maker is casting . \n",
            "in fast times at ridgemont high , she gave us sean penn's jeff spicoli ; in look who's talking , she turned bruce willis into a wise-cracking baby and provided john travolta with is first career revival ; in clueless , she found a star vehicle for the adorableness that is ( or was ) alicia silverstone . \n",
            "she seems to understand instinctively how to find performers the audience will like in spite of their flaws . \n",
            "unfortunately , she may also be starting to understand that she understands . \n",
            "giving appealing actors an appealing script creates likeable movies . \n",
            "giving appealing actors a script in which their appeal _is_ the movie makes for unexpectedly awful films like loser . \n",
            "naturally , heckerling makes her protagonist an all-around swell guy . \n",
            "paul tannek ( jason biggs ) is a small-town boy who gets a scholarship to nyu , then instantly finds himself an island of compassion and diligence in the cold-hearted big city . \n",
            "paul is the kind of guy who gives up his seat on the subway to an elderly woman ; his roommates adam ( zak orth ) , chris ( tom sadoski ) and noah ( jimmi simpson ) are the kind of guys who blast their music and let their waterbeds leak all over paul . \n",
            "paul is also the kind of guy who adores girls from afar , in this case the lovely dora diamond ( mena suvari ) . \n",
            "dora has problems of her own , including a shortage of funds to pay her tuition and a relationship with a professor , edward alcott ( greg kinnear ) , that's more than slightly one-sided . \n",
            "they're two conscientious kids who love animals and homeless people , so clearly they belong together , even if paul is a loser . \n",
            "i must confess that , for a while , i was suckered in by heckerling's casting . \n",
            "jason biggs is an engaging performer whose unconventional looks make him even easier to embrace ; suvari is a coquette with an undercurrent of intelligence . \n",
            "they're pleasant enough to watch , and heckerling gives us plenty of scenes establishing how nice they are and how nice their respective antagonists aren't . \n",
            "then it gradually becomes clear that there's virtually nothing to loser but scenes of that sort . \n",
            "in theory , loser is a romantic comedy , but there is scarcely a laugh to be found in the entire film ( notable exception : a cameo by a scene-stealing comic actor as a video store clerk ) . \n",
            "instead of taking any time to make the characters' situations funny , heckerling spends 98 minutes making her characters' situations pathetic . \n",
            "she shows none of the ear for quirky dialogue that sparked clueless , nor any of that film's interest in lively plotting ( not surprisingly , since clueless's plot came via jane austen's emma ) . \n",
            "she simply turns the film into a pity party . \n",
            "since loser is a film composed almost entirely of establishing character , you might think that those characters would be interesting , or at least slightly complicated . \n",
            "instead , you have people either so perfect or so unredeemable that there's no reason to watch them . \n",
            "paul isn't just a nice guy , he's flawless ; consequently , he's a central character who does absolutely no growing . \n",
            "his roommates aren't just inconsiderate , they're actively evil-blackmailing professor alcott , drugging women with rohypnol and generally giving humanity a bad name . \n",
            "and professor alcott isn't just manipulative , he turns dora into his house slave . \n",
            "dora's unthinking devotion to alcott is the only whiff of basic human frailty to be found in loser , and even that isn't explored in sufficient detail . \n",
            "there's more ambiguity in the 30-second snippet from alan cumming's broadway performance as the emcee in cabaret then there is in the rest of loser it's one thing to turn supporting characters into comic exaggerations ; it's another to flatten your leads into easily digestible mush . \n",
            "and it would help if those comic exaggerations were somehow . . . \n",
            "i don't know . . . \n",
            "comic . \n",
            "still , i spent much of the film holding out the ridiculous hope that heckerling would somehow salvage loser from its tedium and justify my desire to like paul and dora . \n",
            "that hope dissolved the moment heckerling underscored a sequence of paul in the throes of unrequited love to simon and garfunkel's \" scarborough fair/canticle . \" \n",
            "instead of giving the sequence a knowing wink-a reference to the graduate , a hint that paul is becoming an overly-sensitive clich-heckerling plays it deadly straight . \n",
            "even in the scenes that scream for a light comic touch and a bit of a poke at her protagonist's foibles , she finds it impossible to stray from the gospel of paul as saint . \n",
            "clueless's cher had her self-absorption and manipulative tendencies to balance her cuteness . \n",
            "in loser , amy heckerling shows a leaden hand with material that demands friskiness ( her one show of wit involves naming paul's dorm \" hunt's hall \" after erstwhile bowery boy huntz hall ) . \n",
            "her gift with casting proved to be her curse . \n",
            "loser may be a crashing bore , but gee , aren't those two kids swell ? \n",
            "\n",
            "\n",
            "doc is:  while watching loser , it occurred to me that amy heckerling's true genius as a film-maker is casting . \n",
            "in fast times at ridgemont high , she gave us sean penn's jeff spicoli ; in look who's talking , she turned bruce willis into a wise-cracking baby and provided john travolta with is first career revival ; in clueless , she found a star vehicle for the adorableness that is ( or was ) alicia silverstone . \n",
            "she seems to understand instinctively how to find performers the audience will like in spite of their flaws . \n",
            "unfortunately , she may also be starting to understand that she understands . \n",
            "giving appealing actors an appealing script creates likeable movies . \n",
            "giving appealing actors a script in which their appeal _is_ the movie makes for unexpectedly awful films like loser . \n",
            "naturally , heckerling makes her protagonist an all-around swell guy . \n",
            "paul tannek ( jason biggs ) is a small-town boy who gets a scholarship to nyu , then instantly finds himself an island of compassion and diligence in the cold-hearted big city . \n",
            "paul is the kind of guy who gives up his seat on the subway to an elderly woman ; his roommates adam ( zak orth ) , chris ( tom sadoski ) and noah ( jimmi simpson ) are the kind of guys who blast their music and let their waterbeds leak all over paul . \n",
            "paul is also the kind of guy who adores girls from afar , in this case the lovely dora diamond ( mena suvari ) . \n",
            "dora has problems of her own , including a shortage of funds to pay her tuition and a relationship with a professor , edward alcott ( greg kinnear ) , that's more than slightly one-sided . \n",
            "they're two conscientious kids who love animals and homeless people , so clearly they belong together , even if paul is a loser . \n",
            "i must confess that , for a while , i was suckered in by heckerling's casting . \n",
            "jason biggs is an engaging performer whose unconventional looks make him even easier to embrace ; suvari is a coquette with an undercurrent of intelligence . \n",
            "they're pleasant enough to watch , and heckerling gives us plenty of scenes establishing how nice they are and how nice their respective antagonists aren't . \n",
            "then it gradually becomes clear that there's virtually nothing to loser but scenes of that sort . \n",
            "in theory , loser is a romantic comedy , but there is scarcely a laugh to be found in the entire film ( notable exception : a cameo by a scene-stealing comic actor as a video store clerk ) . \n",
            "instead of taking any time to make the characters' situations funny , heckerling spends 98 minutes making her characters' situations pathetic . \n",
            "she shows none of the ear for quirky dialogue that sparked clueless , nor any of that film's interest in lively plotting ( not surprisingly , since clueless's plot came via jane austen's emma ) . \n",
            "she simply turns the film into a pity party . \n",
            "since loser is a film composed almost entirely of establishing character , you might think that those characters would be interesting , or at least slightly complicated . \n",
            "instead , you have people either so perfect or so unredeemable that there's no reason to watch them . \n",
            "paul isn't just a nice guy , he's flawless ; consequently , he's a central character who does absolutely no growing . \n",
            "his roommates aren't just inconsiderate , they're actively evil-blackmailing professor alcott , drugging women with rohypnol and generally giving humanity a bad name . \n",
            "and professor alcott isn't just manipulative , he turns dora into his house slave . \n",
            "dora's unthinking devotion to alcott is the only whiff of basic human frailty to be found in loser , and even that isn't explored in sufficient detail . \n",
            "there's more ambiguity in the 30-second snippet from alan cumming's broadway performance as the emcee in cabaret then there is in the rest of loser it's one thing to turn supporting characters into comic exaggerations ; it's another to flatten your leads into easily digestible mush . \n",
            "and it would help if those comic exaggerations were somehow . . . \n",
            "i don't know . . . \n",
            "comic . \n",
            "still , i spent much of the film holding out the ridiculous hope that heckerling would somehow salvage loser from its tedium and justify my desire to like paul and dora . \n",
            "that hope dissolved the moment heckerling underscored a sequence of paul in the throes of unrequited love to simon and garfunkel's \" scarborough fair/canticle . \" \n",
            "instead of giving the sequence a knowing wink-a reference to the graduate , a hint that paul is becoming an overly-sensitive clich-heckerling plays it deadly straight . \n",
            "even in the scenes that scream for a light comic touch and a bit of a poke at her protagonist's foibles , she finds it impossible to stray from the gospel of paul as saint . \n",
            "clueless's cher had her self-absorption and manipulative tendencies to balance her cuteness . \n",
            "in loser , amy heckerling shows a leaden hand with material that demands friskiness ( her one show of wit involves naming paul's dorm \" hunt's hall \" after erstwhile bowery boy huntz hall ) . \n",
            "her gift with casting proved to be her curse . \n",
            "loser may be a crashing bore , but gee , aren't those two kids swell ? \n",
            "\n",
            "\n",
            "doc_vector is:  [ 5.50225796e-03 -1.56106934e-01 -8.37963633e-03 -8.27695802e-02\n",
            "  4.61103488e-03  1.44460604e-01  2.91266531e-01  2.70573739e-02\n",
            "  2.45670080e-01  1.54531121e-01  8.96953940e-02  2.61538569e-03\n",
            " -3.09372097e-01  5.41252978e-02 -1.20230027e-01 -1.46120086e-01\n",
            "  2.27012136e-03  2.24089455e-02 -3.70194167e-02  7.39675525e-05\n",
            " -1.19764693e-01  2.74200141e-01  4.91883531e-02 -2.29368344e-01\n",
            " -1.71018187e-02 -9.03072357e-02  3.60579431e-01  2.01004535e-01\n",
            "  1.56840861e-01  1.97293460e-01 -6.07645623e-02  3.10814064e-02\n",
            "  3.08057517e-01 -1.80665955e-01  1.71319842e-01 -8.98234919e-02\n",
            "  1.84621900e-01 -8.34281370e-02 -1.94641992e-01 -4.68963832e-02\n",
            " -1.89252570e-01  1.53602824e-01 -1.90299209e-02  4.11092639e-02\n",
            "  4.92668636e-02  6.13101982e-02 -1.62347723e-02  1.30497172e-01\n",
            "  2.72969007e-02 -2.42118705e-02 -3.66003066e-01  1.09740078e-01\n",
            " -1.63253635e-01 -5.50020067e-03 -1.36840165e-01 -2.12288573e-02\n",
            " -7.18175769e-02 -6.03482388e-02  1.30511701e-01 -9.31248516e-02\n",
            "  1.08957231e-01 -2.35188589e-01  1.66737922e-02 -9.44984555e-02\n",
            " -9.90623888e-03  2.20194180e-02  5.97705506e-02 -2.26169407e-01\n",
            "  1.51591644e-01  1.84577122e-01  1.74243525e-02  9.96432975e-02\n",
            " -1.04458123e-01 -5.30672297e-02  6.36188388e-02 -2.15543956e-01\n",
            " -1.78912401e-01 -2.63967782e-01  2.09458098e-02 -2.22797737e-01\n",
            " -7.22972825e-02  2.16567684e-02 -2.74316937e-01 -1.91792712e-01\n",
            " -2.21284349e-02  2.54440814e-01  8.84656012e-02  1.02665290e-01\n",
            " -2.59088457e-01  3.71630192e-01  6.42122850e-02 -1.07427165e-01\n",
            "  3.56698036e-01  3.20901275e-01 -1.62220642e-01 -6.87077194e-02]\n",
            "\n"
          ]
        }
      ],
      "source": [
        "text = X_train[0]\n",
        "print(\"X_train[0] text is: \", text)\n",
        "print()\n",
        "doc = nlp(text)\n",
        "print(\"doc is: \", doc)\n",
        "print()\n",
        "doc_vector = np.mean([word.vector for word in doc if word.has_vector], axis=0)\n",
        "print(\"doc_vector is: \", doc_vector)\n",
        "print()"
      ]
    },
    {
      "cell_type": "code",
      "execution_count": null,
      "metadata": {
        "colab": {
          "base_uri": "https://localhost:8080/"
        },
        "id": "O-TII6_Xmhre",
        "outputId": "5ff8e2d6-60da-44ff-edbf-2758cc3731d1"
      },
      "outputs": [
        {
          "name": "stderr",
          "output_type": "stream",
          "text": [
            "100%|██████████| 1600/1600 [04:38<00:00,  5.74it/s]\n",
            "100%|██████████| 400/400 [00:59<00:00,  6.72it/s]\n"
          ]
        }
      ],
      "source": [
        "# Function to calculate document embeddings using spaCy\n",
        "def calculate_embeddings(texts):\n",
        "    embeddings = []\n",
        "    for text in tqdm(texts):\n",
        "        doc = nlp(text) # Process text with spaCy nlp pipeline to get a Doc object\n",
        "        # Average word vectors to get document vector\n",
        "        doc_vector = np.mean([word.vector for word in doc if word.has_vector], axis=0)\n",
        "        embeddings.append(doc_vector) # Append document vector to list\n",
        "    return np.array(embeddings) # Return document vectors as numpy array\n",
        "\n",
        "# Calculate embeddings for training and testing sets\n",
        "X_train_embeddings = calculate_embeddings(X_train)\n",
        "X_test_embeddings = calculate_embeddings(X_test)"
      ]
    },
    {
      "cell_type": "code",
      "execution_count": null,
      "metadata": {
        "colab": {
          "base_uri": "https://localhost:8080/"
        },
        "id": "KJtzWBY4n3Xv",
        "outputId": "4c1c81af-0edd-4327-d736-5c6178e52cec"
      },
      "outputs": [
        {
          "name": "stdout",
          "output_type": "stream",
          "text": [
            "Accuracy: 0.6975\n"
          ]
        }
      ],
      "source": [
        "# Build a pipeline with TruncatedSVD and SVM classifier\n",
        "# Specify the best n_components hyperparameter.\n",
        "model = make_pipeline(TruncatedSVD(n_components = 77, random_state = 42), SVC()) # 96 -> n_components\n",
        "# In linear algebra, the singular value decomposition (SVD) is a factorization of a real or complex\n",
        "# matrix into a rotation, followed by a rescaling followed by another rotation. It generalizes the\n",
        "# eigendecomposition of a square normal matrix with an orthonormal eigenbasis to any. matrix.\n",
        "\n",
        "# Fit the model on training data\n",
        "model.fit(X_train_embeddings, y_train)\n",
        "\n",
        "# Make predictions on test data\n",
        "predictions = model.predict(X_test_embeddings)\n",
        "\n",
        "# Evaluate the accuracy\n",
        "accuracy = accuracy_score(y_test, predictions)\n",
        "print(f\"Accuracy: {accuracy}\")"
      ]
    },
    {
      "cell_type": "code",
      "execution_count": null,
      "metadata": {
        "colab": {
          "base_uri": "https://localhost:8080/"
        },
        "id": "V80XQA-zwDHW",
        "outputId": "fb1b4c33-74ea-4acd-9728-e5d4054bcb01"
      },
      "outputs": [
        {
          "name": "stdout",
          "output_type": "stream",
          "text": [
            "y_test[:10]:\n",
            "[1 0 1 0 1 1 0 1 0 1]\n",
            "\n",
            "predictions[:10]:\n",
            "[0 1 1 1 0 1 0 0 0 1]\n"
          ]
        }
      ],
      "source": [
        "print(\"y_test[:10]:\")\n",
        "print(y_test[:10])\n",
        "print()\n",
        "print(\"predictions[:10]:\")\n",
        "print(predictions[:10])"
      ]
    },
    {
      "cell_type": "markdown",
      "metadata": {
        "id": "p0KqRUkVqKea"
      },
      "source": [
        "# More accurate one"
      ]
    },
    {
      "cell_type": "code",
      "execution_count": 1,
      "metadata": {
        "id": "jroFbuNrqNU0"
      },
      "outputs": [],
      "source": [
        "import numpy as np\n",
        "from sklearn.model_selection import train_test_split\n",
        "from sklearn.decomposition import TruncatedSVD # TruncatedSVD is a dimensionality reduction technique\n",
        "from sklearn.pipeline import make_pipeline # make_pipeline is a utility function to create a pipeline\n",
        "from sklearn.svm import SVC # SVC is the support vector classifier\n",
        "from sklearn.metrics import accuracy_score\n",
        "from nltk.corpus import movie_reviews # Import the IMDB Movie Reviews dataset\n",
        "from transformers import AutoTokenizer, AutoModel # Import the AutoTokenizer and AutoModel classes from the transformers library\n",
        "import torch"
      ]
    },
    {
      "cell_type": "code",
      "execution_count": 2,
      "metadata": {
        "colab": {
          "base_uri": "https://localhost:8080/",
          "height": 286,
          "referenced_widgets": [
            "b693599e6d104259b50f5032cace6d73",
            "ca2e5475bced4bac85d88d0d412ee7bf",
            "981a5d637bfb458badad154e46ee0cb3",
            "101f25a95c3046368b4fb7f0109170e2",
            "e690d2fc4af844ab81da3538ea46e797",
            "69d2c2ebb3c640018afc7e11f1f2f487",
            "db9c17284c534afe91fcd6ee8ef58f47",
            "e99af2dc00cf41f9ac1081eae97f0a5d",
            "3fdf3bc1da7a4a6ab36b5944621c0e1d",
            "49b97be946124fbba89746152400601e",
            "c77b30e9981d44cd8950877bfe6e09a2",
            "1dff2e6c45c14c65bbb17bd294720826",
            "8da5214d94b54988b123314d671fae17",
            "2c3d6c9eab664a828df13f37418b6307",
            "e83842ac7e5c499b90cf8657f38d5027",
            "8f36d83ac32a4efb828c0d3ac095bd43",
            "4e4f8010568c4aaea521ab0006e634be",
            "bebefd7ad6924bf1b808ff930dba278a",
            "167167c1cb55444a9be03272a33b850c",
            "4cc545b436594bd7860df181eab19d0d",
            "70551794bd574608bc8363938394bc66",
            "6fcb866af163499ea60c65557d64735c",
            "7516845f4b9a43d6a7b14bd201501423",
            "fa60255f3e664f38ab438a46c351085f",
            "dbea48d54e604c8b945fccfdb1f30600",
            "e145959439f7491db98da8e193711377",
            "94a1a64e7da540088da83725ea20a4f2",
            "24e14a40a8264d039614ceca4092a331",
            "e1d7fbe6f7534c979d4bf0abdb96247d",
            "06f78430cd864b7cb584535e6bf54619",
            "947545b00b584866a01badb53a0eb04e",
            "534e0bb80c474795a098c5740b1a4bd8",
            "5e7d0a608463463b90b9ee7002738ab2",
            "e01929714d6c4cea8e1ec1d664b80596",
            "b0a553115d16481b85d3e97f153d863a",
            "31497a9c8d6747e5a9afc199260f0a65",
            "b3442360040d4af9b803ceba5d2064e5",
            "d85c391b4c3b446f975c26dc249e5941",
            "35047eecd9844536a90f36bdbad3a95d",
            "13d44a061c224e17b9220db73870d9e4",
            "e312f6496a14464b90f1b06fd021f07e",
            "10b65632b83743898b11ae9868dfaead",
            "db9ecf14e79b45ca896bdd9764b62424",
            "911c540336254566bd022f2d888083d8",
            "5cff010144aa4c88962e109d3bf6250c",
            "bd46fc0007b542a1a98a087edb57f6e0",
            "998093f3df264bb4b28567ada28d11d1",
            "14159da334934890b4b5b40456edcb54",
            "fa33239b34a248369f3046fd040886ca",
            "47cab8ab79cd4e5d892781ebf81cc469",
            "f4031f6434d24e3282ff24d08183ab20",
            "3431eb0ce8e849df80b3422ad029bcb4",
            "dc2869cec0c8411bbbba15daa5e8aae8",
            "b7ec5403f4d24403b959f3becd92f43d",
            "715830a3690548fe8e972c604ca0d155"
          ]
        },
        "id": "FX3DNIONqn6Z",
        "outputId": "c5c7a565-4054-4db1-fbcc-4ca25f28ead6"
      },
      "outputs": [
        {
          "name": "stderr",
          "output_type": "stream",
          "text": [
            "/usr/local/lib/python3.10/dist-packages/huggingface_hub/utils/_token.py:88: UserWarning: \n",
            "The secret `HF_TOKEN` does not exist in your Colab secrets.\n",
            "To authenticate with the Hugging Face Hub, create a token in your settings tab (https://huggingface.co/settings/tokens), set it as secret in your Google Colab and restart your session.\n",
            "You will be able to reuse this secret in all of your notebooks.\n",
            "Please note that authentication is recommended but still optional to access public models or datasets.\n",
            "  warnings.warn(\n"
          ]
        },
        {
          "data": {
            "application/vnd.jupyter.widget-view+json": {
              "model_id": "b693599e6d104259b50f5032cace6d73",
              "version_major": 2,
              "version_minor": 0
            },
            "text/plain": [
              "tokenizer_config.json:   0%|          | 0.00/48.0 [00:00<?, ?B/s]"
            ]
          },
          "metadata": {},
          "output_type": "display_data"
        },
        {
          "data": {
            "application/vnd.jupyter.widget-view+json": {
              "model_id": "1dff2e6c45c14c65bbb17bd294720826",
              "version_major": 2,
              "version_minor": 0
            },
            "text/plain": [
              "config.json:   0%|          | 0.00/570 [00:00<?, ?B/s]"
            ]
          },
          "metadata": {},
          "output_type": "display_data"
        },
        {
          "data": {
            "application/vnd.jupyter.widget-view+json": {
              "model_id": "7516845f4b9a43d6a7b14bd201501423",
              "version_major": 2,
              "version_minor": 0
            },
            "text/plain": [
              "vocab.txt:   0%|          | 0.00/232k [00:00<?, ?B/s]"
            ]
          },
          "metadata": {},
          "output_type": "display_data"
        },
        {
          "data": {
            "application/vnd.jupyter.widget-view+json": {
              "model_id": "e01929714d6c4cea8e1ec1d664b80596",
              "version_major": 2,
              "version_minor": 0
            },
            "text/plain": [
              "tokenizer.json:   0%|          | 0.00/466k [00:00<?, ?B/s]"
            ]
          },
          "metadata": {},
          "output_type": "display_data"
        },
        {
          "data": {
            "application/vnd.jupyter.widget-view+json": {
              "model_id": "5cff010144aa4c88962e109d3bf6250c",
              "version_major": 2,
              "version_minor": 0
            },
            "text/plain": [
              "model.safetensors:   0%|          | 0.00/440M [00:00<?, ?B/s]"
            ]
          },
          "metadata": {},
          "output_type": "display_data"
        }
      ],
      "source": [
        "# Load BERT tokenizer and model\n",
        "tokenizer = AutoTokenizer.from_pretrained(\"bert-base-uncased\")\n",
        "bert_model = AutoModel.from_pretrained(\"bert-base-uncased\")"
      ]
    },
    {
      "cell_type": "code",
      "execution_count": 7,
      "metadata": {
        "colab": {
          "base_uri": "https://localhost:8080/"
        },
        "id": "vElOSRMTqtHP",
        "outputId": "3e57849f-3634-48aa-e0fe-f5b66cfe1f5a"
      },
      "outputs": [
        {
          "name": "stderr",
          "output_type": "stream",
          "text": [
            "100%|██████████| 1600/1600 [42:31<00:00,  1.59s/it]\n",
            "100%|██████████| 400/400 [10:01<00:00,  1.50s/it]\n"
          ]
        }
      ],
      "source": [
        "def calculate_embeddings(texts):\n",
        "    embeddings = []\n",
        "    for text in tqdm(texts):\n",
        "        # Tokenize the text\n",
        "        tokens = tokenizer(text, return_tensors=\"pt\", truncation=True, padding=True)\n",
        "\n",
        "        # Get BERT model output\n",
        "        with torch.no_grad():\n",
        "            model_output = bert_model(**tokens)\n",
        "\n",
        "        # Use mean pooling to get sentence embeddings\n",
        "        # doc_vector = # Please complete this\n",
        "        doc_vector = model_output.last_hidden_state.mean(dim=1).squeeze().numpy()\n",
        "\n",
        "        embeddings.append(doc_vector)\n",
        "\n",
        "    return np.array(embeddings)\n",
        "\n",
        "\n",
        "# Calculate embeddings for training and testing sets\n",
        "X_train_embeddings = calculate_embeddings(X_train)\n",
        "X_test_embeddings = calculate_embeddings(X_test)"
      ]
    },
    {
      "cell_type": "code",
      "execution_count": 8,
      "metadata": {
        "colab": {
          "base_uri": "https://localhost:8080/"
        },
        "id": "Bl8uJ9nmq2vX",
        "outputId": "f1ded2f2-e7d8-48a4-8dd2-7a7c5c9af04b"
      },
      "outputs": [
        {
          "name": "stdout",
          "output_type": "stream",
          "text": [
            "Accuracy: 0.795\n"
          ]
        }
      ],
      "source": [
        "# Build a pipeline with TruncatedSVD and SVM classifier\n",
        "# Specify the best n_components hyperparameter.\n",
        "model = make_pipeline(TruncatedSVD(n_components= 77, random_state = 42), SVC())\n",
        "\n",
        "# Fit the model on training data\n",
        "model.fit(X_train_embeddings, y_train)\n",
        "\n",
        "# Make predictions on test data\n",
        "predictions = model.predict(X_test_embeddings)\n",
        "\n",
        "# Evaluate the accuracy\n",
        "accuracy = accuracy_score(y_test, predictions)\n",
        "print(f\"Accuracy: {accuracy}\")"
      ]
    },
    {
      "cell_type": "code",
      "execution_count": 10,
      "metadata": {
        "colab": {
          "base_uri": "https://localhost:8080/"
        },
        "id": "XClYP0sW4BMC",
        "outputId": "c66db227-95a3-4cba-a826-455f785f28f5"
      },
      "outputs": [
        {
          "name": "stdout",
          "output_type": "stream",
          "text": [
            "Accuracy for n_components=1: 0.5275\n",
            "Accuracy for n_components=2: 0.6025\n",
            "Accuracy for n_components=3: 0.6075\n",
            "Accuracy for n_components=4: 0.6725\n",
            "Accuracy for n_components=5: 0.6575\n",
            "Accuracy for n_components=6: 0.6675\n",
            "Accuracy for n_components=7: 0.6675\n",
            "Accuracy for n_components=8: 0.6725\n",
            "Accuracy for n_components=9: 0.6525\n",
            "Accuracy for n_components=10: 0.6475\n",
            "Accuracy for n_components=11: 0.64\n",
            "Accuracy for n_components=12: 0.65\n",
            "Accuracy for n_components=13: 0.6475\n",
            "Accuracy for n_components=14: 0.6425\n",
            "Accuracy for n_components=15: 0.6525\n",
            "Accuracy for n_components=16: 0.665\n",
            "Accuracy for n_components=17: 0.665\n",
            "Accuracy for n_components=18: 0.6775\n",
            "Accuracy for n_components=19: 0.675\n",
            "Accuracy for n_components=20: 0.6975\n",
            "Accuracy for n_components=21: 0.7125\n",
            "Accuracy for n_components=22: 0.7275\n",
            "Accuracy for n_components=23: 0.725\n",
            "Accuracy for n_components=24: 0.7325\n",
            "Accuracy for n_components=25: 0.7375\n",
            "Accuracy for n_components=26: 0.7475\n",
            "Accuracy for n_components=27: 0.74\n",
            "Accuracy for n_components=28: 0.75\n",
            "Accuracy for n_components=29: 0.755\n",
            "Accuracy for n_components=30: 0.7675\n",
            "Accuracy for n_components=31: 0.765\n",
            "Accuracy for n_components=32: 0.7625\n",
            "Accuracy for n_components=33: 0.7625\n",
            "Accuracy for n_components=34: 0.7575\n",
            "Accuracy for n_components=35: 0.77\n",
            "Accuracy for n_components=36: 0.78\n",
            "Accuracy for n_components=37: 0.7775\n",
            "Accuracy for n_components=38: 0.7775\n",
            "Accuracy for n_components=39: 0.785\n",
            "Accuracy for n_components=40: 0.7875\n",
            "Accuracy for n_components=41: 0.785\n",
            "Accuracy for n_components=42: 0.79\n",
            "Accuracy for n_components=43: 0.7875\n",
            "Accuracy for n_components=44: 0.79\n",
            "Accuracy for n_components=45: 0.79\n",
            "Accuracy for n_components=46: 0.7875\n",
            "Accuracy for n_components=47: 0.7875\n",
            "Accuracy for n_components=48: 0.785\n",
            "Accuracy for n_components=49: 0.78\n",
            "Accuracy for n_components=50: 0.7825\n",
            "Accuracy for n_components=51: 0.785\n",
            "Accuracy for n_components=52: 0.7825\n",
            "Accuracy for n_components=53: 0.7825\n",
            "Accuracy for n_components=54: 0.79\n",
            "Accuracy for n_components=55: 0.785\n",
            "Accuracy for n_components=56: 0.7825\n",
            "Accuracy for n_components=57: 0.7875\n",
            "Accuracy for n_components=58: 0.79\n",
            "Accuracy for n_components=59: 0.785\n",
            "Accuracy for n_components=60: 0.795\n",
            "Accuracy for n_components=61: 0.7875\n",
            "Accuracy for n_components=62: 0.79\n",
            "Accuracy for n_components=63: 0.79\n",
            "Accuracy for n_components=64: 0.79\n",
            "Accuracy for n_components=65: 0.7875\n",
            "Accuracy for n_components=66: 0.795\n",
            "Accuracy for n_components=67: 0.785\n",
            "Accuracy for n_components=68: 0.79\n",
            "Accuracy for n_components=69: 0.79\n",
            "Accuracy for n_components=70: 0.79\n",
            "Accuracy for n_components=71: 0.79\n",
            "Accuracy for n_components=72: 0.7875\n",
            "Accuracy for n_components=73: 0.79\n",
            "Accuracy for n_components=74: 0.795\n",
            "Accuracy for n_components=75: 0.7875\n",
            "Accuracy for n_components=76: 0.7875\n",
            "Accuracy for n_components=77: 0.795\n",
            "Accuracy for n_components=78: 0.8\n",
            "Accuracy for n_components=79: 0.795\n",
            "Accuracy for n_components=80: 0.8025\n",
            "Accuracy for n_components=81: 0.8025\n",
            "Accuracy for n_components=82: 0.8\n",
            "Accuracy for n_components=83: 0.7975\n",
            "Accuracy for n_components=84: 0.7975\n",
            "Accuracy for n_components=85: 0.8025\n",
            "Accuracy for n_components=86: 0.8025\n",
            "Accuracy for n_components=87: 0.7975\n",
            "Accuracy for n_components=88: 0.8\n",
            "Accuracy for n_components=89: 0.8025\n",
            "Accuracy for n_components=90: 0.8025\n",
            "Accuracy for n_components=91: 0.8075\n",
            "Accuracy for n_components=92: 0.805\n",
            "Accuracy for n_components=93: 0.8025\n",
            "Accuracy for n_components=94: 0.805\n",
            "Accuracy for n_components=95: 0.8025\n",
            "Accuracy for n_components=96: 0.805\n",
            "Accuracy for n_components=97: 0.805\n",
            "Accuracy for n_components=98: 0.795\n",
            "Accuracy for n_components=99: 0.8\n"
          ]
        }
      ],
      "source": [
        "# in a loop with step to 100 check the accuracy of the model for different n_components values\n",
        "accuracies = []\n",
        "for n in range(1, 100):\n",
        "    model = make_pipeline(TruncatedSVD(n_components=n, random_state=42), SVC())\n",
        "    model.fit(X_train_embeddings, y_train)\n",
        "    predictions = model.predict(X_test_embeddings)\n",
        "    accuracy = accuracy_score(y_test, predictions)\n",
        "    accuracies.append(accuracy)\n",
        "    print(f\"Accuracy for n_components={n}: {accuracy}\")"
      ]
    },
    {
      "cell_type": "code",
      "execution_count": 11,
      "metadata": {
        "colab": {
          "base_uri": "https://localhost:8080/"
        },
        "id": "23YNvsQrEySs",
        "outputId": "b239c591-88c5-4295-e722-a4e34cdcfee1"
      },
      "outputs": [
        {
          "data": {
            "text/plain": [
              "(400, 768)"
            ]
          },
          "execution_count": 11,
          "metadata": {},
          "output_type": "execute_result"
        }
      ],
      "source": [
        "X_test_embeddings.shape"
      ]
    },
    {
      "cell_type": "code",
      "execution_count": null,
      "metadata": {
        "colab": {
          "base_uri": "https://localhost:8080/"
        },
        "id": "7-JFMmRIE2a8",
        "outputId": "2fd51a74-6d56-44ea-beda-7f914701d815"
      },
      "outputs": [
        {
          "name": "stdout",
          "output_type": "stream",
          "text": [
            "Accuracy for n_components=100: 0.8025\n",
            "Accuracy for n_components=110: 0.795\n",
            "Accuracy for n_components=120: 0.7975\n",
            "Accuracy for n_components=130: 0.8\n",
            "Accuracy for n_components=140: 0.795\n",
            "Accuracy for n_components=150: 0.7925\n",
            "Accuracy for n_components=160: 0.7975\n",
            "Accuracy for n_components=170: 0.7925\n",
            "Accuracy for n_components=180: 0.7975\n",
            "Accuracy for n_components=190: 0.795\n",
            "Accuracy for n_components=200: 0.7925\n",
            "Accuracy for n_components=210: 0.7975\n",
            "Accuracy for n_components=220: 0.795\n",
            "Accuracy for n_components=230: 0.7925\n",
            "Accuracy for n_components=240: 0.795\n",
            "Accuracy for n_components=250: 0.7925\n",
            "Accuracy for n_components=260: 0.7975\n",
            "Accuracy for n_components=270: 0.7975\n",
            "Accuracy for n_components=280: 0.7975\n",
            "Accuracy for n_components=290: 0.7975\n",
            "Accuracy for n_components=300: 0.8\n",
            "Accuracy for n_components=310: 0.8\n",
            "Accuracy for n_components=320: 0.8\n",
            "Accuracy for n_components=330: 0.8\n",
            "Accuracy for n_components=340: 0.8\n",
            "Accuracy for n_components=350: 0.8\n",
            "Accuracy for n_components=360: 0.8025\n",
            "Accuracy for n_components=370: 0.8\n",
            "Accuracy for n_components=380: 0.8025\n",
            "Accuracy for n_components=390: 0.8\n",
            "Accuracy for n_components=400: 0.8025\n",
            "Accuracy for n_components=410: 0.8\n"
          ]
        }
      ],
      "source": [
        "# in a loop with step to 100 check the accuracy of the model for different n_components values\n",
        "for n in range(100, 760, 10):\n",
        "    model = make_pipeline(TruncatedSVD(n_components=n, random_state=42), SVC())\n",
        "    model.fit(X_train_embeddings, y_train)\n",
        "    predictions = model.predict(X_test_embeddings)\n",
        "    accuracy = accuracy_score(y_test, predictions)\n",
        "    accuracies.append(accuracy)\n",
        "    print(f\"Accuracy for n_components={n}: {accuracy}\")"
      ]
    },
    {
      "cell_type": "code",
      "execution_count": 13,
      "metadata": {
        "colab": {
          "base_uri": "https://localhost:8080/"
        },
        "id": "0cGC5Jm-FvGW",
        "outputId": "5575e577-448b-4bac-b990-f48d24799801"
      },
      "outputs": [
        {
          "name": "stdout",
          "output_type": "stream",
          "text": [
            "Accuracy for n_components=100: 0.8025\n",
            "Accuracy for n_components=110: 0.795\n",
            "Accuracy for n_components=120: 0.7975\n",
            "Accuracy for n_components=130: 0.8\n",
            "Accuracy for n_components=140: 0.795\n",
            "Accuracy for n_components=150: 0.7925\n",
            "Accuracy for n_components=160: 0.7975\n",
            "Accuracy for n_components=170: 0.7925\n",
            "Accuracy for n_components=180: 0.7975\n",
            "Accuracy for n_components=190: 0.795\n",
            "Accuracy for n_components=200: 0.7925\n",
            "Accuracy for n_components=210: 0.7975\n",
            "Accuracy for n_components=220: 0.795\n",
            "Accuracy for n_components=230: 0.7925\n",
            "Accuracy for n_components=240: 0.795\n",
            "Accuracy for n_components=250: 0.7925\n",
            "Accuracy for n_components=260: 0.7975\n",
            "Accuracy for n_components=270: 0.7975\n",
            "Accuracy for n_components=280: 0.7975\n",
            "Accuracy for n_components=290: 0.7975\n",
            "Accuracy for n_components=300: 0.8\n",
            "Accuracy for n_components=310: 0.8\n",
            "Accuracy for n_components=320: 0.8\n",
            "Accuracy for n_components=330: 0.8\n",
            "Accuracy for n_components=340: 0.8\n",
            "Accuracy for n_components=350: 0.8\n",
            "Accuracy for n_components=360: 0.8025\n",
            "Accuracy for n_components=370: 0.8\n",
            "Accuracy for n_components=380: 0.8025\n",
            "Accuracy for n_components=390: 0.8\n",
            "Accuracy for n_components=400: 0.8025\n",
            "Accuracy for n_components=410: 0.8\n",
            "Accuracy for n_components=420: 0.8025\n",
            "Accuracy for n_components=430: 0.8\n",
            "Accuracy for n_components=440: 0.8025\n",
            "Accuracy for n_components=450: 0.8\n",
            "Accuracy for n_components=460: 0.8\n",
            "Accuracy for n_components=470: 0.8\n",
            "Accuracy for n_components=480: 0.8\n",
            "Accuracy for n_components=490: 0.8\n",
            "Accuracy for n_components=500: 0.8\n",
            "Accuracy for n_components=510: 0.8\n",
            "Accuracy for n_components=520: 0.8\n",
            "Accuracy for n_components=530: 0.8\n",
            "Accuracy for n_components=540: 0.8\n",
            "Accuracy for n_components=550: 0.8\n",
            "Accuracy for n_components=560: 0.8\n",
            "Accuracy for n_components=570: 0.8\n",
            "Accuracy for n_components=580: 0.8\n",
            "Accuracy for n_components=590: 0.8\n",
            "Accuracy for n_components=600: 0.8\n",
            "Accuracy for n_components=610: 0.8\n",
            "Accuracy for n_components=620: 0.8\n",
            "Accuracy for n_components=630: 0.8\n",
            "Accuracy for n_components=640: 0.8\n",
            "Accuracy for n_components=650: 0.8\n",
            "Accuracy for n_components=660: 0.8\n",
            "Accuracy for n_components=670: 0.8\n",
            "Accuracy for n_components=680: 0.8\n",
            "Accuracy for n_components=690: 0.8\n",
            "Accuracy for n_components=700: 0.8\n",
            "Accuracy for n_components=710: 0.8\n",
            "Accuracy for n_components=720: 0.8\n",
            "Accuracy for n_components=730: 0.8\n",
            "Accuracy for n_components=740: 0.8\n",
            "Accuracy for n_components=750: 0.8\n"
          ]
        }
      ],
      "source": [
        "# in a loop with step to 100 check the accuracy of the model for different n_components values\n",
        "for n in range(100, 760, 10):\n",
        "    model = make_pipeline(TruncatedSVD(n_components=n, random_state=42), SVC())\n",
        "    model.fit(X_train_embeddings, y_train)\n",
        "    predictions = model.predict(X_test_embeddings)\n",
        "    accuracy = accuracy_score(y_test, predictions)\n",
        "    accuracies.append(accuracy)\n",
        "    print(f\"Accuracy for n_components={n}: {accuracy}\")"
      ]
    },
    {
      "cell_type": "code",
      "execution_count": 14,
      "metadata": {
        "colab": {
          "base_uri": "https://localhost:8080/"
        },
        "id": "9MYEFU1THHKG",
        "outputId": "cba73e50-7fae-4e3e-840e-db0b1f0354f1"
      },
      "outputs": [
        {
          "name": "stdout",
          "output_type": "stream",
          "text": [
            "Accuracy for n_components=360: 0.8025\n",
            "Accuracy for n_components=361: 0.8\n",
            "Accuracy for n_components=362: 0.8\n",
            "Accuracy for n_components=363: 0.8\n",
            "Accuracy for n_components=364: 0.8\n",
            "Accuracy for n_components=365: 0.8025\n",
            "Accuracy for n_components=366: 0.8\n",
            "Accuracy for n_components=367: 0.8\n",
            "Accuracy for n_components=368: 0.8025\n",
            "Accuracy for n_components=369: 0.8025\n",
            "Accuracy for n_components=370: 0.8\n",
            "Accuracy for n_components=371: 0.8\n",
            "Accuracy for n_components=372: 0.8025\n",
            "Accuracy for n_components=373: 0.8\n",
            "Accuracy for n_components=374: 0.8025\n",
            "Accuracy for n_components=375: 0.8\n",
            "Accuracy for n_components=376: 0.8025\n",
            "Accuracy for n_components=377: 0.8025\n",
            "Accuracy for n_components=378: 0.8\n",
            "Accuracy for n_components=379: 0.8\n",
            "Accuracy for n_components=380: 0.8025\n",
            "Accuracy for n_components=381: 0.8025\n",
            "Accuracy for n_components=382: 0.8025\n",
            "Accuracy for n_components=383: 0.8025\n",
            "Accuracy for n_components=384: 0.8025\n",
            "Accuracy for n_components=385: 0.8025\n",
            "Accuracy for n_components=386: 0.8\n",
            "Accuracy for n_components=387: 0.8\n",
            "Accuracy for n_components=388: 0.8025\n",
            "Accuracy for n_components=389: 0.8\n",
            "Accuracy for n_components=390: 0.8\n",
            "Accuracy for n_components=391: 0.8025\n",
            "Accuracy for n_components=392: 0.8\n",
            "Accuracy for n_components=393: 0.8\n",
            "Accuracy for n_components=394: 0.8\n",
            "Accuracy for n_components=395: 0.8\n",
            "Accuracy for n_components=396: 0.8025\n",
            "Accuracy for n_components=397: 0.8\n",
            "Accuracy for n_components=398: 0.8\n",
            "Accuracy for n_components=399: 0.8\n",
            "Accuracy for n_components=400: 0.8025\n"
          ]
        }
      ],
      "source": [
        "# in a loop with step to 100 check the accuracy of the model for different n_components values\n",
        "for n in range(360, 401, 1):\n",
        "    model = make_pipeline(TruncatedSVD(n_components=n, random_state=42), SVC())\n",
        "    model.fit(X_train_embeddings, y_train)\n",
        "    predictions = model.predict(X_test_embeddings)\n",
        "    accuracy = accuracy_score(y_test, predictions)\n",
        "    accuracies.append(accuracy)\n",
        "    print(f\"Accuracy for n_components={n}: {accuracy}\")"
      ]
    },
    {
      "cell_type": "code",
      "execution_count": 19,
      "metadata": {
        "colab": {
          "base_uri": "https://localhost:8080/"
        },
        "id": "S3efXOMfHwbn",
        "outputId": "cfd2e87a-e592-4fc9-f47a-f3bda8b789ac"
      },
      "outputs": [
        {
          "name": "stdout",
          "output_type": "stream",
          "text": [
            "Best Accuracy found: 0.8075\n"
          ]
        }
      ],
      "source": [
        "# Build a pipeline with TruncatedSVD and SVM classifier\n",
        "# Specify the best n_components hyperparameter.\n",
        "model = make_pipeline(TruncatedSVD(n_components= 91, random_state = 42), SVC())\n",
        "\n",
        "# Fit the model on training data\n",
        "model.fit(X_train_embeddings, y_train)\n",
        "\n",
        "# Make predictions on test data\n",
        "predictions = model.predict(X_test_embeddings)\n",
        "\n",
        "# Evaluate the accuracy\n",
        "accuracy = accuracy_score(y_test, predictions)\n",
        "print(f\"Best Accuracy found: {accuracy}\")"
      ]
    }
  ],
  "metadata": {
    "accelerator": "GPU",
    "colab": {
      "gpuType": "T4",
      "provenance": []
    },
    "kernelspec": {
      "display_name": "Python 3",
      "name": "python3"
    },
    "language_info": {
      "name": "python"
    },
    "widgets": {
      "application/vnd.jupyter.widget-state+json": {
        "06f78430cd864b7cb584535e6bf54619": {
          "model_module": "@jupyter-widgets/base",
          "model_module_version": "1.2.0",
          "model_name": "LayoutModel",
          "state": {
            "_model_module": "@jupyter-widgets/base",
            "_model_module_version": "1.2.0",
            "_model_name": "LayoutModel",
            "_view_count": null,
            "_view_module": "@jupyter-widgets/base",
            "_view_module_version": "1.2.0",
            "_view_name": "LayoutView",
            "align_content": null,
            "align_items": null,
            "align_self": null,
            "border": null,
            "bottom": null,
            "display": null,
            "flex": null,
            "flex_flow": null,
            "grid_area": null,
            "grid_auto_columns": null,
            "grid_auto_flow": null,
            "grid_auto_rows": null,
            "grid_column": null,
            "grid_gap": null,
            "grid_row": null,
            "grid_template_areas": null,
            "grid_template_columns": null,
            "grid_template_rows": null,
            "height": null,
            "justify_content": null,
            "justify_items": null,
            "left": null,
            "margin": null,
            "max_height": null,
            "max_width": null,
            "min_height": null,
            "min_width": null,
            "object_fit": null,
            "object_position": null,
            "order": null,
            "overflow": null,
            "overflow_x": null,
            "overflow_y": null,
            "padding": null,
            "right": null,
            "top": null,
            "visibility": null,
            "width": null
          }
        },
        "101f25a95c3046368b4fb7f0109170e2": {
          "model_module": "@jupyter-widgets/controls",
          "model_module_version": "1.5.0",
          "model_name": "HTMLModel",
          "state": {
            "_dom_classes": [],
            "_model_module": "@jupyter-widgets/controls",
            "_model_module_version": "1.5.0",
            "_model_name": "HTMLModel",
            "_view_count": null,
            "_view_module": "@jupyter-widgets/controls",
            "_view_module_version": "1.5.0",
            "_view_name": "HTMLView",
            "description": "",
            "description_tooltip": null,
            "layout": "IPY_MODEL_49b97be946124fbba89746152400601e",
            "placeholder": "​",
            "style": "IPY_MODEL_c77b30e9981d44cd8950877bfe6e09a2",
            "value": " 48.0/48.0 [00:00&lt;00:00, 1.38kB/s]"
          }
        },
        "10b65632b83743898b11ae9868dfaead": {
          "model_module": "@jupyter-widgets/controls",
          "model_module_version": "1.5.0",
          "model_name": "ProgressStyleModel",
          "state": {
            "_model_module": "@jupyter-widgets/controls",
            "_model_module_version": "1.5.0",
            "_model_name": "ProgressStyleModel",
            "_view_count": null,
            "_view_module": "@jupyter-widgets/base",
            "_view_module_version": "1.2.0",
            "_view_name": "StyleView",
            "bar_color": null,
            "description_width": ""
          }
        },
        "13d44a061c224e17b9220db73870d9e4": {
          "model_module": "@jupyter-widgets/controls",
          "model_module_version": "1.5.0",
          "model_name": "DescriptionStyleModel",
          "state": {
            "_model_module": "@jupyter-widgets/controls",
            "_model_module_version": "1.5.0",
            "_model_name": "DescriptionStyleModel",
            "_view_count": null,
            "_view_module": "@jupyter-widgets/base",
            "_view_module_version": "1.2.0",
            "_view_name": "StyleView",
            "description_width": ""
          }
        },
        "14159da334934890b4b5b40456edcb54": {
          "model_module": "@jupyter-widgets/controls",
          "model_module_version": "1.5.0",
          "model_name": "HTMLModel",
          "state": {
            "_dom_classes": [],
            "_model_module": "@jupyter-widgets/controls",
            "_model_module_version": "1.5.0",
            "_model_name": "HTMLModel",
            "_view_count": null,
            "_view_module": "@jupyter-widgets/controls",
            "_view_module_version": "1.5.0",
            "_view_name": "HTMLView",
            "description": "",
            "description_tooltip": null,
            "layout": "IPY_MODEL_b7ec5403f4d24403b959f3becd92f43d",
            "placeholder": "​",
            "style": "IPY_MODEL_715830a3690548fe8e972c604ca0d155",
            "value": " 440M/440M [00:04&lt;00:00, 111MB/s]"
          }
        },
        "167167c1cb55444a9be03272a33b850c": {
          "model_module": "@jupyter-widgets/base",
          "model_module_version": "1.2.0",
          "model_name": "LayoutModel",
          "state": {
            "_model_module": "@jupyter-widgets/base",
            "_model_module_version": "1.2.0",
            "_model_name": "LayoutModel",
            "_view_count": null,
            "_view_module": "@jupyter-widgets/base",
            "_view_module_version": "1.2.0",
            "_view_name": "LayoutView",
            "align_content": null,
            "align_items": null,
            "align_self": null,
            "border": null,
            "bottom": null,
            "display": null,
            "flex": null,
            "flex_flow": null,
            "grid_area": null,
            "grid_auto_columns": null,
            "grid_auto_flow": null,
            "grid_auto_rows": null,
            "grid_column": null,
            "grid_gap": null,
            "grid_row": null,
            "grid_template_areas": null,
            "grid_template_columns": null,
            "grid_template_rows": null,
            "height": null,
            "justify_content": null,
            "justify_items": null,
            "left": null,
            "margin": null,
            "max_height": null,
            "max_width": null,
            "min_height": null,
            "min_width": null,
            "object_fit": null,
            "object_position": null,
            "order": null,
            "overflow": null,
            "overflow_x": null,
            "overflow_y": null,
            "padding": null,
            "right": null,
            "top": null,
            "visibility": null,
            "width": null
          }
        },
        "1dff2e6c45c14c65bbb17bd294720826": {
          "model_module": "@jupyter-widgets/controls",
          "model_module_version": "1.5.0",
          "model_name": "HBoxModel",
          "state": {
            "_dom_classes": [],
            "_model_module": "@jupyter-widgets/controls",
            "_model_module_version": "1.5.0",
            "_model_name": "HBoxModel",
            "_view_count": null,
            "_view_module": "@jupyter-widgets/controls",
            "_view_module_version": "1.5.0",
            "_view_name": "HBoxView",
            "box_style": "",
            "children": [
              "IPY_MODEL_8da5214d94b54988b123314d671fae17",
              "IPY_MODEL_2c3d6c9eab664a828df13f37418b6307",
              "IPY_MODEL_e83842ac7e5c499b90cf8657f38d5027"
            ],
            "layout": "IPY_MODEL_8f36d83ac32a4efb828c0d3ac095bd43"
          }
        },
        "24e14a40a8264d039614ceca4092a331": {
          "model_module": "@jupyter-widgets/base",
          "model_module_version": "1.2.0",
          "model_name": "LayoutModel",
          "state": {
            "_model_module": "@jupyter-widgets/base",
            "_model_module_version": "1.2.0",
            "_model_name": "LayoutModel",
            "_view_count": null,
            "_view_module": "@jupyter-widgets/base",
            "_view_module_version": "1.2.0",
            "_view_name": "LayoutView",
            "align_content": null,
            "align_items": null,
            "align_self": null,
            "border": null,
            "bottom": null,
            "display": null,
            "flex": null,
            "flex_flow": null,
            "grid_area": null,
            "grid_auto_columns": null,
            "grid_auto_flow": null,
            "grid_auto_rows": null,
            "grid_column": null,
            "grid_gap": null,
            "grid_row": null,
            "grid_template_areas": null,
            "grid_template_columns": null,
            "grid_template_rows": null,
            "height": null,
            "justify_content": null,
            "justify_items": null,
            "left": null,
            "margin": null,
            "max_height": null,
            "max_width": null,
            "min_height": null,
            "min_width": null,
            "object_fit": null,
            "object_position": null,
            "order": null,
            "overflow": null,
            "overflow_x": null,
            "overflow_y": null,
            "padding": null,
            "right": null,
            "top": null,
            "visibility": null,
            "width": null
          }
        },
        "2c3d6c9eab664a828df13f37418b6307": {
          "model_module": "@jupyter-widgets/controls",
          "model_module_version": "1.5.0",
          "model_name": "FloatProgressModel",
          "state": {
            "_dom_classes": [],
            "_model_module": "@jupyter-widgets/controls",
            "_model_module_version": "1.5.0",
            "_model_name": "FloatProgressModel",
            "_view_count": null,
            "_view_module": "@jupyter-widgets/controls",
            "_view_module_version": "1.5.0",
            "_view_name": "ProgressView",
            "bar_style": "success",
            "description": "",
            "description_tooltip": null,
            "layout": "IPY_MODEL_167167c1cb55444a9be03272a33b850c",
            "max": 570,
            "min": 0,
            "orientation": "horizontal",
            "style": "IPY_MODEL_4cc545b436594bd7860df181eab19d0d",
            "value": 570
          }
        },
        "31497a9c8d6747e5a9afc199260f0a65": {
          "model_module": "@jupyter-widgets/controls",
          "model_module_version": "1.5.0",
          "model_name": "FloatProgressModel",
          "state": {
            "_dom_classes": [],
            "_model_module": "@jupyter-widgets/controls",
            "_model_module_version": "1.5.0",
            "_model_name": "FloatProgressModel",
            "_view_count": null,
            "_view_module": "@jupyter-widgets/controls",
            "_view_module_version": "1.5.0",
            "_view_name": "ProgressView",
            "bar_style": "success",
            "description": "",
            "description_tooltip": null,
            "layout": "IPY_MODEL_e312f6496a14464b90f1b06fd021f07e",
            "max": 466062,
            "min": 0,
            "orientation": "horizontal",
            "style": "IPY_MODEL_10b65632b83743898b11ae9868dfaead",
            "value": 466062
          }
        },
        "3431eb0ce8e849df80b3422ad029bcb4": {
          "model_module": "@jupyter-widgets/base",
          "model_module_version": "1.2.0",
          "model_name": "LayoutModel",
          "state": {
            "_model_module": "@jupyter-widgets/base",
            "_model_module_version": "1.2.0",
            "_model_name": "LayoutModel",
            "_view_count": null,
            "_view_module": "@jupyter-widgets/base",
            "_view_module_version": "1.2.0",
            "_view_name": "LayoutView",
            "align_content": null,
            "align_items": null,
            "align_self": null,
            "border": null,
            "bottom": null,
            "display": null,
            "flex": null,
            "flex_flow": null,
            "grid_area": null,
            "grid_auto_columns": null,
            "grid_auto_flow": null,
            "grid_auto_rows": null,
            "grid_column": null,
            "grid_gap": null,
            "grid_row": null,
            "grid_template_areas": null,
            "grid_template_columns": null,
            "grid_template_rows": null,
            "height": null,
            "justify_content": null,
            "justify_items": null,
            "left": null,
            "margin": null,
            "max_height": null,
            "max_width": null,
            "min_height": null,
            "min_width": null,
            "object_fit": null,
            "object_position": null,
            "order": null,
            "overflow": null,
            "overflow_x": null,
            "overflow_y": null,
            "padding": null,
            "right": null,
            "top": null,
            "visibility": null,
            "width": null
          }
        },
        "35047eecd9844536a90f36bdbad3a95d": {
          "model_module": "@jupyter-widgets/base",
          "model_module_version": "1.2.0",
          "model_name": "LayoutModel",
          "state": {
            "_model_module": "@jupyter-widgets/base",
            "_model_module_version": "1.2.0",
            "_model_name": "LayoutModel",
            "_view_count": null,
            "_view_module": "@jupyter-widgets/base",
            "_view_module_version": "1.2.0",
            "_view_name": "LayoutView",
            "align_content": null,
            "align_items": null,
            "align_self": null,
            "border": null,
            "bottom": null,
            "display": null,
            "flex": null,
            "flex_flow": null,
            "grid_area": null,
            "grid_auto_columns": null,
            "grid_auto_flow": null,
            "grid_auto_rows": null,
            "grid_column": null,
            "grid_gap": null,
            "grid_row": null,
            "grid_template_areas": null,
            "grid_template_columns": null,
            "grid_template_rows": null,
            "height": null,
            "justify_content": null,
            "justify_items": null,
            "left": null,
            "margin": null,
            "max_height": null,
            "max_width": null,
            "min_height": null,
            "min_width": null,
            "object_fit": null,
            "object_position": null,
            "order": null,
            "overflow": null,
            "overflow_x": null,
            "overflow_y": null,
            "padding": null,
            "right": null,
            "top": null,
            "visibility": null,
            "width": null
          }
        },
        "3fdf3bc1da7a4a6ab36b5944621c0e1d": {
          "model_module": "@jupyter-widgets/controls",
          "model_module_version": "1.5.0",
          "model_name": "ProgressStyleModel",
          "state": {
            "_model_module": "@jupyter-widgets/controls",
            "_model_module_version": "1.5.0",
            "_model_name": "ProgressStyleModel",
            "_view_count": null,
            "_view_module": "@jupyter-widgets/base",
            "_view_module_version": "1.2.0",
            "_view_name": "StyleView",
            "bar_color": null,
            "description_width": ""
          }
        },
        "47cab8ab79cd4e5d892781ebf81cc469": {
          "model_module": "@jupyter-widgets/base",
          "model_module_version": "1.2.0",
          "model_name": "LayoutModel",
          "state": {
            "_model_module": "@jupyter-widgets/base",
            "_model_module_version": "1.2.0",
            "_model_name": "LayoutModel",
            "_view_count": null,
            "_view_module": "@jupyter-widgets/base",
            "_view_module_version": "1.2.0",
            "_view_name": "LayoutView",
            "align_content": null,
            "align_items": null,
            "align_self": null,
            "border": null,
            "bottom": null,
            "display": null,
            "flex": null,
            "flex_flow": null,
            "grid_area": null,
            "grid_auto_columns": null,
            "grid_auto_flow": null,
            "grid_auto_rows": null,
            "grid_column": null,
            "grid_gap": null,
            "grid_row": null,
            "grid_template_areas": null,
            "grid_template_columns": null,
            "grid_template_rows": null,
            "height": null,
            "justify_content": null,
            "justify_items": null,
            "left": null,
            "margin": null,
            "max_height": null,
            "max_width": null,
            "min_height": null,
            "min_width": null,
            "object_fit": null,
            "object_position": null,
            "order": null,
            "overflow": null,
            "overflow_x": null,
            "overflow_y": null,
            "padding": null,
            "right": null,
            "top": null,
            "visibility": null,
            "width": null
          }
        },
        "49b97be946124fbba89746152400601e": {
          "model_module": "@jupyter-widgets/base",
          "model_module_version": "1.2.0",
          "model_name": "LayoutModel",
          "state": {
            "_model_module": "@jupyter-widgets/base",
            "_model_module_version": "1.2.0",
            "_model_name": "LayoutModel",
            "_view_count": null,
            "_view_module": "@jupyter-widgets/base",
            "_view_module_version": "1.2.0",
            "_view_name": "LayoutView",
            "align_content": null,
            "align_items": null,
            "align_self": null,
            "border": null,
            "bottom": null,
            "display": null,
            "flex": null,
            "flex_flow": null,
            "grid_area": null,
            "grid_auto_columns": null,
            "grid_auto_flow": null,
            "grid_auto_rows": null,
            "grid_column": null,
            "grid_gap": null,
            "grid_row": null,
            "grid_template_areas": null,
            "grid_template_columns": null,
            "grid_template_rows": null,
            "height": null,
            "justify_content": null,
            "justify_items": null,
            "left": null,
            "margin": null,
            "max_height": null,
            "max_width": null,
            "min_height": null,
            "min_width": null,
            "object_fit": null,
            "object_position": null,
            "order": null,
            "overflow": null,
            "overflow_x": null,
            "overflow_y": null,
            "padding": null,
            "right": null,
            "top": null,
            "visibility": null,
            "width": null
          }
        },
        "4cc545b436594bd7860df181eab19d0d": {
          "model_module": "@jupyter-widgets/controls",
          "model_module_version": "1.5.0",
          "model_name": "ProgressStyleModel",
          "state": {
            "_model_module": "@jupyter-widgets/controls",
            "_model_module_version": "1.5.0",
            "_model_name": "ProgressStyleModel",
            "_view_count": null,
            "_view_module": "@jupyter-widgets/base",
            "_view_module_version": "1.2.0",
            "_view_name": "StyleView",
            "bar_color": null,
            "description_width": ""
          }
        },
        "4e4f8010568c4aaea521ab0006e634be": {
          "model_module": "@jupyter-widgets/base",
          "model_module_version": "1.2.0",
          "model_name": "LayoutModel",
          "state": {
            "_model_module": "@jupyter-widgets/base",
            "_model_module_version": "1.2.0",
            "_model_name": "LayoutModel",
            "_view_count": null,
            "_view_module": "@jupyter-widgets/base",
            "_view_module_version": "1.2.0",
            "_view_name": "LayoutView",
            "align_content": null,
            "align_items": null,
            "align_self": null,
            "border": null,
            "bottom": null,
            "display": null,
            "flex": null,
            "flex_flow": null,
            "grid_area": null,
            "grid_auto_columns": null,
            "grid_auto_flow": null,
            "grid_auto_rows": null,
            "grid_column": null,
            "grid_gap": null,
            "grid_row": null,
            "grid_template_areas": null,
            "grid_template_columns": null,
            "grid_template_rows": null,
            "height": null,
            "justify_content": null,
            "justify_items": null,
            "left": null,
            "margin": null,
            "max_height": null,
            "max_width": null,
            "min_height": null,
            "min_width": null,
            "object_fit": null,
            "object_position": null,
            "order": null,
            "overflow": null,
            "overflow_x": null,
            "overflow_y": null,
            "padding": null,
            "right": null,
            "top": null,
            "visibility": null,
            "width": null
          }
        },
        "534e0bb80c474795a098c5740b1a4bd8": {
          "model_module": "@jupyter-widgets/base",
          "model_module_version": "1.2.0",
          "model_name": "LayoutModel",
          "state": {
            "_model_module": "@jupyter-widgets/base",
            "_model_module_version": "1.2.0",
            "_model_name": "LayoutModel",
            "_view_count": null,
            "_view_module": "@jupyter-widgets/base",
            "_view_module_version": "1.2.0",
            "_view_name": "LayoutView",
            "align_content": null,
            "align_items": null,
            "align_self": null,
            "border": null,
            "bottom": null,
            "display": null,
            "flex": null,
            "flex_flow": null,
            "grid_area": null,
            "grid_auto_columns": null,
            "grid_auto_flow": null,
            "grid_auto_rows": null,
            "grid_column": null,
            "grid_gap": null,
            "grid_row": null,
            "grid_template_areas": null,
            "grid_template_columns": null,
            "grid_template_rows": null,
            "height": null,
            "justify_content": null,
            "justify_items": null,
            "left": null,
            "margin": null,
            "max_height": null,
            "max_width": null,
            "min_height": null,
            "min_width": null,
            "object_fit": null,
            "object_position": null,
            "order": null,
            "overflow": null,
            "overflow_x": null,
            "overflow_y": null,
            "padding": null,
            "right": null,
            "top": null,
            "visibility": null,
            "width": null
          }
        },
        "5cff010144aa4c88962e109d3bf6250c": {
          "model_module": "@jupyter-widgets/controls",
          "model_module_version": "1.5.0",
          "model_name": "HBoxModel",
          "state": {
            "_dom_classes": [],
            "_model_module": "@jupyter-widgets/controls",
            "_model_module_version": "1.5.0",
            "_model_name": "HBoxModel",
            "_view_count": null,
            "_view_module": "@jupyter-widgets/controls",
            "_view_module_version": "1.5.0",
            "_view_name": "HBoxView",
            "box_style": "",
            "children": [
              "IPY_MODEL_bd46fc0007b542a1a98a087edb57f6e0",
              "IPY_MODEL_998093f3df264bb4b28567ada28d11d1",
              "IPY_MODEL_14159da334934890b4b5b40456edcb54"
            ],
            "layout": "IPY_MODEL_fa33239b34a248369f3046fd040886ca"
          }
        },
        "5e7d0a608463463b90b9ee7002738ab2": {
          "model_module": "@jupyter-widgets/controls",
          "model_module_version": "1.5.0",
          "model_name": "DescriptionStyleModel",
          "state": {
            "_model_module": "@jupyter-widgets/controls",
            "_model_module_version": "1.5.0",
            "_model_name": "DescriptionStyleModel",
            "_view_count": null,
            "_view_module": "@jupyter-widgets/base",
            "_view_module_version": "1.2.0",
            "_view_name": "StyleView",
            "description_width": ""
          }
        },
        "69d2c2ebb3c640018afc7e11f1f2f487": {
          "model_module": "@jupyter-widgets/base",
          "model_module_version": "1.2.0",
          "model_name": "LayoutModel",
          "state": {
            "_model_module": "@jupyter-widgets/base",
            "_model_module_version": "1.2.0",
            "_model_name": "LayoutModel",
            "_view_count": null,
            "_view_module": "@jupyter-widgets/base",
            "_view_module_version": "1.2.0",
            "_view_name": "LayoutView",
            "align_content": null,
            "align_items": null,
            "align_self": null,
            "border": null,
            "bottom": null,
            "display": null,
            "flex": null,
            "flex_flow": null,
            "grid_area": null,
            "grid_auto_columns": null,
            "grid_auto_flow": null,
            "grid_auto_rows": null,
            "grid_column": null,
            "grid_gap": null,
            "grid_row": null,
            "grid_template_areas": null,
            "grid_template_columns": null,
            "grid_template_rows": null,
            "height": null,
            "justify_content": null,
            "justify_items": null,
            "left": null,
            "margin": null,
            "max_height": null,
            "max_width": null,
            "min_height": null,
            "min_width": null,
            "object_fit": null,
            "object_position": null,
            "order": null,
            "overflow": null,
            "overflow_x": null,
            "overflow_y": null,
            "padding": null,
            "right": null,
            "top": null,
            "visibility": null,
            "width": null
          }
        },
        "6fcb866af163499ea60c65557d64735c": {
          "model_module": "@jupyter-widgets/controls",
          "model_module_version": "1.5.0",
          "model_name": "DescriptionStyleModel",
          "state": {
            "_model_module": "@jupyter-widgets/controls",
            "_model_module_version": "1.5.0",
            "_model_name": "DescriptionStyleModel",
            "_view_count": null,
            "_view_module": "@jupyter-widgets/base",
            "_view_module_version": "1.2.0",
            "_view_name": "StyleView",
            "description_width": ""
          }
        },
        "70551794bd574608bc8363938394bc66": {
          "model_module": "@jupyter-widgets/base",
          "model_module_version": "1.2.0",
          "model_name": "LayoutModel",
          "state": {
            "_model_module": "@jupyter-widgets/base",
            "_model_module_version": "1.2.0",
            "_model_name": "LayoutModel",
            "_view_count": null,
            "_view_module": "@jupyter-widgets/base",
            "_view_module_version": "1.2.0",
            "_view_name": "LayoutView",
            "align_content": null,
            "align_items": null,
            "align_self": null,
            "border": null,
            "bottom": null,
            "display": null,
            "flex": null,
            "flex_flow": null,
            "grid_area": null,
            "grid_auto_columns": null,
            "grid_auto_flow": null,
            "grid_auto_rows": null,
            "grid_column": null,
            "grid_gap": null,
            "grid_row": null,
            "grid_template_areas": null,
            "grid_template_columns": null,
            "grid_template_rows": null,
            "height": null,
            "justify_content": null,
            "justify_items": null,
            "left": null,
            "margin": null,
            "max_height": null,
            "max_width": null,
            "min_height": null,
            "min_width": null,
            "object_fit": null,
            "object_position": null,
            "order": null,
            "overflow": null,
            "overflow_x": null,
            "overflow_y": null,
            "padding": null,
            "right": null,
            "top": null,
            "visibility": null,
            "width": null
          }
        },
        "715830a3690548fe8e972c604ca0d155": {
          "model_module": "@jupyter-widgets/controls",
          "model_module_version": "1.5.0",
          "model_name": "DescriptionStyleModel",
          "state": {
            "_model_module": "@jupyter-widgets/controls",
            "_model_module_version": "1.5.0",
            "_model_name": "DescriptionStyleModel",
            "_view_count": null,
            "_view_module": "@jupyter-widgets/base",
            "_view_module_version": "1.2.0",
            "_view_name": "StyleView",
            "description_width": ""
          }
        },
        "7516845f4b9a43d6a7b14bd201501423": {
          "model_module": "@jupyter-widgets/controls",
          "model_module_version": "1.5.0",
          "model_name": "HBoxModel",
          "state": {
            "_dom_classes": [],
            "_model_module": "@jupyter-widgets/controls",
            "_model_module_version": "1.5.0",
            "_model_name": "HBoxModel",
            "_view_count": null,
            "_view_module": "@jupyter-widgets/controls",
            "_view_module_version": "1.5.0",
            "_view_name": "HBoxView",
            "box_style": "",
            "children": [
              "IPY_MODEL_fa60255f3e664f38ab438a46c351085f",
              "IPY_MODEL_dbea48d54e604c8b945fccfdb1f30600",
              "IPY_MODEL_e145959439f7491db98da8e193711377"
            ],
            "layout": "IPY_MODEL_94a1a64e7da540088da83725ea20a4f2"
          }
        },
        "8da5214d94b54988b123314d671fae17": {
          "model_module": "@jupyter-widgets/controls",
          "model_module_version": "1.5.0",
          "model_name": "HTMLModel",
          "state": {
            "_dom_classes": [],
            "_model_module": "@jupyter-widgets/controls",
            "_model_module_version": "1.5.0",
            "_model_name": "HTMLModel",
            "_view_count": null,
            "_view_module": "@jupyter-widgets/controls",
            "_view_module_version": "1.5.0",
            "_view_name": "HTMLView",
            "description": "",
            "description_tooltip": null,
            "layout": "IPY_MODEL_4e4f8010568c4aaea521ab0006e634be",
            "placeholder": "​",
            "style": "IPY_MODEL_bebefd7ad6924bf1b808ff930dba278a",
            "value": "config.json: 100%"
          }
        },
        "8f36d83ac32a4efb828c0d3ac095bd43": {
          "model_module": "@jupyter-widgets/base",
          "model_module_version": "1.2.0",
          "model_name": "LayoutModel",
          "state": {
            "_model_module": "@jupyter-widgets/base",
            "_model_module_version": "1.2.0",
            "_model_name": "LayoutModel",
            "_view_count": null,
            "_view_module": "@jupyter-widgets/base",
            "_view_module_version": "1.2.0",
            "_view_name": "LayoutView",
            "align_content": null,
            "align_items": null,
            "align_self": null,
            "border": null,
            "bottom": null,
            "display": null,
            "flex": null,
            "flex_flow": null,
            "grid_area": null,
            "grid_auto_columns": null,
            "grid_auto_flow": null,
            "grid_auto_rows": null,
            "grid_column": null,
            "grid_gap": null,
            "grid_row": null,
            "grid_template_areas": null,
            "grid_template_columns": null,
            "grid_template_rows": null,
            "height": null,
            "justify_content": null,
            "justify_items": null,
            "left": null,
            "margin": null,
            "max_height": null,
            "max_width": null,
            "min_height": null,
            "min_width": null,
            "object_fit": null,
            "object_position": null,
            "order": null,
            "overflow": null,
            "overflow_x": null,
            "overflow_y": null,
            "padding": null,
            "right": null,
            "top": null,
            "visibility": null,
            "width": null
          }
        },
        "911c540336254566bd022f2d888083d8": {
          "model_module": "@jupyter-widgets/controls",
          "model_module_version": "1.5.0",
          "model_name": "DescriptionStyleModel",
          "state": {
            "_model_module": "@jupyter-widgets/controls",
            "_model_module_version": "1.5.0",
            "_model_name": "DescriptionStyleModel",
            "_view_count": null,
            "_view_module": "@jupyter-widgets/base",
            "_view_module_version": "1.2.0",
            "_view_name": "StyleView",
            "description_width": ""
          }
        },
        "947545b00b584866a01badb53a0eb04e": {
          "model_module": "@jupyter-widgets/controls",
          "model_module_version": "1.5.0",
          "model_name": "ProgressStyleModel",
          "state": {
            "_model_module": "@jupyter-widgets/controls",
            "_model_module_version": "1.5.0",
            "_model_name": "ProgressStyleModel",
            "_view_count": null,
            "_view_module": "@jupyter-widgets/base",
            "_view_module_version": "1.2.0",
            "_view_name": "StyleView",
            "bar_color": null,
            "description_width": ""
          }
        },
        "94a1a64e7da540088da83725ea20a4f2": {
          "model_module": "@jupyter-widgets/base",
          "model_module_version": "1.2.0",
          "model_name": "LayoutModel",
          "state": {
            "_model_module": "@jupyter-widgets/base",
            "_model_module_version": "1.2.0",
            "_model_name": "LayoutModel",
            "_view_count": null,
            "_view_module": "@jupyter-widgets/base",
            "_view_module_version": "1.2.0",
            "_view_name": "LayoutView",
            "align_content": null,
            "align_items": null,
            "align_self": null,
            "border": null,
            "bottom": null,
            "display": null,
            "flex": null,
            "flex_flow": null,
            "grid_area": null,
            "grid_auto_columns": null,
            "grid_auto_flow": null,
            "grid_auto_rows": null,
            "grid_column": null,
            "grid_gap": null,
            "grid_row": null,
            "grid_template_areas": null,
            "grid_template_columns": null,
            "grid_template_rows": null,
            "height": null,
            "justify_content": null,
            "justify_items": null,
            "left": null,
            "margin": null,
            "max_height": null,
            "max_width": null,
            "min_height": null,
            "min_width": null,
            "object_fit": null,
            "object_position": null,
            "order": null,
            "overflow": null,
            "overflow_x": null,
            "overflow_y": null,
            "padding": null,
            "right": null,
            "top": null,
            "visibility": null,
            "width": null
          }
        },
        "981a5d637bfb458badad154e46ee0cb3": {
          "model_module": "@jupyter-widgets/controls",
          "model_module_version": "1.5.0",
          "model_name": "FloatProgressModel",
          "state": {
            "_dom_classes": [],
            "_model_module": "@jupyter-widgets/controls",
            "_model_module_version": "1.5.0",
            "_model_name": "FloatProgressModel",
            "_view_count": null,
            "_view_module": "@jupyter-widgets/controls",
            "_view_module_version": "1.5.0",
            "_view_name": "ProgressView",
            "bar_style": "success",
            "description": "",
            "description_tooltip": null,
            "layout": "IPY_MODEL_e99af2dc00cf41f9ac1081eae97f0a5d",
            "max": 48,
            "min": 0,
            "orientation": "horizontal",
            "style": "IPY_MODEL_3fdf3bc1da7a4a6ab36b5944621c0e1d",
            "value": 48
          }
        },
        "998093f3df264bb4b28567ada28d11d1": {
          "model_module": "@jupyter-widgets/controls",
          "model_module_version": "1.5.0",
          "model_name": "FloatProgressModel",
          "state": {
            "_dom_classes": [],
            "_model_module": "@jupyter-widgets/controls",
            "_model_module_version": "1.5.0",
            "_model_name": "FloatProgressModel",
            "_view_count": null,
            "_view_module": "@jupyter-widgets/controls",
            "_view_module_version": "1.5.0",
            "_view_name": "ProgressView",
            "bar_style": "success",
            "description": "",
            "description_tooltip": null,
            "layout": "IPY_MODEL_3431eb0ce8e849df80b3422ad029bcb4",
            "max": 440449768,
            "min": 0,
            "orientation": "horizontal",
            "style": "IPY_MODEL_dc2869cec0c8411bbbba15daa5e8aae8",
            "value": 440449768
          }
        },
        "b0a553115d16481b85d3e97f153d863a": {
          "model_module": "@jupyter-widgets/controls",
          "model_module_version": "1.5.0",
          "model_name": "HTMLModel",
          "state": {
            "_dom_classes": [],
            "_model_module": "@jupyter-widgets/controls",
            "_model_module_version": "1.5.0",
            "_model_name": "HTMLModel",
            "_view_count": null,
            "_view_module": "@jupyter-widgets/controls",
            "_view_module_version": "1.5.0",
            "_view_name": "HTMLView",
            "description": "",
            "description_tooltip": null,
            "layout": "IPY_MODEL_35047eecd9844536a90f36bdbad3a95d",
            "placeholder": "​",
            "style": "IPY_MODEL_13d44a061c224e17b9220db73870d9e4",
            "value": "tokenizer.json: 100%"
          }
        },
        "b3442360040d4af9b803ceba5d2064e5": {
          "model_module": "@jupyter-widgets/controls",
          "model_module_version": "1.5.0",
          "model_name": "HTMLModel",
          "state": {
            "_dom_classes": [],
            "_model_module": "@jupyter-widgets/controls",
            "_model_module_version": "1.5.0",
            "_model_name": "HTMLModel",
            "_view_count": null,
            "_view_module": "@jupyter-widgets/controls",
            "_view_module_version": "1.5.0",
            "_view_name": "HTMLView",
            "description": "",
            "description_tooltip": null,
            "layout": "IPY_MODEL_db9ecf14e79b45ca896bdd9764b62424",
            "placeholder": "​",
            "style": "IPY_MODEL_911c540336254566bd022f2d888083d8",
            "value": " 466k/466k [00:00&lt;00:00, 3.62MB/s]"
          }
        },
        "b693599e6d104259b50f5032cace6d73": {
          "model_module": "@jupyter-widgets/controls",
          "model_module_version": "1.5.0",
          "model_name": "HBoxModel",
          "state": {
            "_dom_classes": [],
            "_model_module": "@jupyter-widgets/controls",
            "_model_module_version": "1.5.0",
            "_model_name": "HBoxModel",
            "_view_count": null,
            "_view_module": "@jupyter-widgets/controls",
            "_view_module_version": "1.5.0",
            "_view_name": "HBoxView",
            "box_style": "",
            "children": [
              "IPY_MODEL_ca2e5475bced4bac85d88d0d412ee7bf",
              "IPY_MODEL_981a5d637bfb458badad154e46ee0cb3",
              "IPY_MODEL_101f25a95c3046368b4fb7f0109170e2"
            ],
            "layout": "IPY_MODEL_e690d2fc4af844ab81da3538ea46e797"
          }
        },
        "b7ec5403f4d24403b959f3becd92f43d": {
          "model_module": "@jupyter-widgets/base",
          "model_module_version": "1.2.0",
          "model_name": "LayoutModel",
          "state": {
            "_model_module": "@jupyter-widgets/base",
            "_model_module_version": "1.2.0",
            "_model_name": "LayoutModel",
            "_view_count": null,
            "_view_module": "@jupyter-widgets/base",
            "_view_module_version": "1.2.0",
            "_view_name": "LayoutView",
            "align_content": null,
            "align_items": null,
            "align_self": null,
            "border": null,
            "bottom": null,
            "display": null,
            "flex": null,
            "flex_flow": null,
            "grid_area": null,
            "grid_auto_columns": null,
            "grid_auto_flow": null,
            "grid_auto_rows": null,
            "grid_column": null,
            "grid_gap": null,
            "grid_row": null,
            "grid_template_areas": null,
            "grid_template_columns": null,
            "grid_template_rows": null,
            "height": null,
            "justify_content": null,
            "justify_items": null,
            "left": null,
            "margin": null,
            "max_height": null,
            "max_width": null,
            "min_height": null,
            "min_width": null,
            "object_fit": null,
            "object_position": null,
            "order": null,
            "overflow": null,
            "overflow_x": null,
            "overflow_y": null,
            "padding": null,
            "right": null,
            "top": null,
            "visibility": null,
            "width": null
          }
        },
        "bd46fc0007b542a1a98a087edb57f6e0": {
          "model_module": "@jupyter-widgets/controls",
          "model_module_version": "1.5.0",
          "model_name": "HTMLModel",
          "state": {
            "_dom_classes": [],
            "_model_module": "@jupyter-widgets/controls",
            "_model_module_version": "1.5.0",
            "_model_name": "HTMLModel",
            "_view_count": null,
            "_view_module": "@jupyter-widgets/controls",
            "_view_module_version": "1.5.0",
            "_view_name": "HTMLView",
            "description": "",
            "description_tooltip": null,
            "layout": "IPY_MODEL_47cab8ab79cd4e5d892781ebf81cc469",
            "placeholder": "​",
            "style": "IPY_MODEL_f4031f6434d24e3282ff24d08183ab20",
            "value": "model.safetensors: 100%"
          }
        },
        "bebefd7ad6924bf1b808ff930dba278a": {
          "model_module": "@jupyter-widgets/controls",
          "model_module_version": "1.5.0",
          "model_name": "DescriptionStyleModel",
          "state": {
            "_model_module": "@jupyter-widgets/controls",
            "_model_module_version": "1.5.0",
            "_model_name": "DescriptionStyleModel",
            "_view_count": null,
            "_view_module": "@jupyter-widgets/base",
            "_view_module_version": "1.2.0",
            "_view_name": "StyleView",
            "description_width": ""
          }
        },
        "c77b30e9981d44cd8950877bfe6e09a2": {
          "model_module": "@jupyter-widgets/controls",
          "model_module_version": "1.5.0",
          "model_name": "DescriptionStyleModel",
          "state": {
            "_model_module": "@jupyter-widgets/controls",
            "_model_module_version": "1.5.0",
            "_model_name": "DescriptionStyleModel",
            "_view_count": null,
            "_view_module": "@jupyter-widgets/base",
            "_view_module_version": "1.2.0",
            "_view_name": "StyleView",
            "description_width": ""
          }
        },
        "ca2e5475bced4bac85d88d0d412ee7bf": {
          "model_module": "@jupyter-widgets/controls",
          "model_module_version": "1.5.0",
          "model_name": "HTMLModel",
          "state": {
            "_dom_classes": [],
            "_model_module": "@jupyter-widgets/controls",
            "_model_module_version": "1.5.0",
            "_model_name": "HTMLModel",
            "_view_count": null,
            "_view_module": "@jupyter-widgets/controls",
            "_view_module_version": "1.5.0",
            "_view_name": "HTMLView",
            "description": "",
            "description_tooltip": null,
            "layout": "IPY_MODEL_69d2c2ebb3c640018afc7e11f1f2f487",
            "placeholder": "​",
            "style": "IPY_MODEL_db9c17284c534afe91fcd6ee8ef58f47",
            "value": "tokenizer_config.json: 100%"
          }
        },
        "d85c391b4c3b446f975c26dc249e5941": {
          "model_module": "@jupyter-widgets/base",
          "model_module_version": "1.2.0",
          "model_name": "LayoutModel",
          "state": {
            "_model_module": "@jupyter-widgets/base",
            "_model_module_version": "1.2.0",
            "_model_name": "LayoutModel",
            "_view_count": null,
            "_view_module": "@jupyter-widgets/base",
            "_view_module_version": "1.2.0",
            "_view_name": "LayoutView",
            "align_content": null,
            "align_items": null,
            "align_self": null,
            "border": null,
            "bottom": null,
            "display": null,
            "flex": null,
            "flex_flow": null,
            "grid_area": null,
            "grid_auto_columns": null,
            "grid_auto_flow": null,
            "grid_auto_rows": null,
            "grid_column": null,
            "grid_gap": null,
            "grid_row": null,
            "grid_template_areas": null,
            "grid_template_columns": null,
            "grid_template_rows": null,
            "height": null,
            "justify_content": null,
            "justify_items": null,
            "left": null,
            "margin": null,
            "max_height": null,
            "max_width": null,
            "min_height": null,
            "min_width": null,
            "object_fit": null,
            "object_position": null,
            "order": null,
            "overflow": null,
            "overflow_x": null,
            "overflow_y": null,
            "padding": null,
            "right": null,
            "top": null,
            "visibility": null,
            "width": null
          }
        },
        "db9c17284c534afe91fcd6ee8ef58f47": {
          "model_module": "@jupyter-widgets/controls",
          "model_module_version": "1.5.0",
          "model_name": "DescriptionStyleModel",
          "state": {
            "_model_module": "@jupyter-widgets/controls",
            "_model_module_version": "1.5.0",
            "_model_name": "DescriptionStyleModel",
            "_view_count": null,
            "_view_module": "@jupyter-widgets/base",
            "_view_module_version": "1.2.0",
            "_view_name": "StyleView",
            "description_width": ""
          }
        },
        "db9ecf14e79b45ca896bdd9764b62424": {
          "model_module": "@jupyter-widgets/base",
          "model_module_version": "1.2.0",
          "model_name": "LayoutModel",
          "state": {
            "_model_module": "@jupyter-widgets/base",
            "_model_module_version": "1.2.0",
            "_model_name": "LayoutModel",
            "_view_count": null,
            "_view_module": "@jupyter-widgets/base",
            "_view_module_version": "1.2.0",
            "_view_name": "LayoutView",
            "align_content": null,
            "align_items": null,
            "align_self": null,
            "border": null,
            "bottom": null,
            "display": null,
            "flex": null,
            "flex_flow": null,
            "grid_area": null,
            "grid_auto_columns": null,
            "grid_auto_flow": null,
            "grid_auto_rows": null,
            "grid_column": null,
            "grid_gap": null,
            "grid_row": null,
            "grid_template_areas": null,
            "grid_template_columns": null,
            "grid_template_rows": null,
            "height": null,
            "justify_content": null,
            "justify_items": null,
            "left": null,
            "margin": null,
            "max_height": null,
            "max_width": null,
            "min_height": null,
            "min_width": null,
            "object_fit": null,
            "object_position": null,
            "order": null,
            "overflow": null,
            "overflow_x": null,
            "overflow_y": null,
            "padding": null,
            "right": null,
            "top": null,
            "visibility": null,
            "width": null
          }
        },
        "dbea48d54e604c8b945fccfdb1f30600": {
          "model_module": "@jupyter-widgets/controls",
          "model_module_version": "1.5.0",
          "model_name": "FloatProgressModel",
          "state": {
            "_dom_classes": [],
            "_model_module": "@jupyter-widgets/controls",
            "_model_module_version": "1.5.0",
            "_model_name": "FloatProgressModel",
            "_view_count": null,
            "_view_module": "@jupyter-widgets/controls",
            "_view_module_version": "1.5.0",
            "_view_name": "ProgressView",
            "bar_style": "success",
            "description": "",
            "description_tooltip": null,
            "layout": "IPY_MODEL_06f78430cd864b7cb584535e6bf54619",
            "max": 231508,
            "min": 0,
            "orientation": "horizontal",
            "style": "IPY_MODEL_947545b00b584866a01badb53a0eb04e",
            "value": 231508
          }
        },
        "dc2869cec0c8411bbbba15daa5e8aae8": {
          "model_module": "@jupyter-widgets/controls",
          "model_module_version": "1.5.0",
          "model_name": "ProgressStyleModel",
          "state": {
            "_model_module": "@jupyter-widgets/controls",
            "_model_module_version": "1.5.0",
            "_model_name": "ProgressStyleModel",
            "_view_count": null,
            "_view_module": "@jupyter-widgets/base",
            "_view_module_version": "1.2.0",
            "_view_name": "StyleView",
            "bar_color": null,
            "description_width": ""
          }
        },
        "e01929714d6c4cea8e1ec1d664b80596": {
          "model_module": "@jupyter-widgets/controls",
          "model_module_version": "1.5.0",
          "model_name": "HBoxModel",
          "state": {
            "_dom_classes": [],
            "_model_module": "@jupyter-widgets/controls",
            "_model_module_version": "1.5.0",
            "_model_name": "HBoxModel",
            "_view_count": null,
            "_view_module": "@jupyter-widgets/controls",
            "_view_module_version": "1.5.0",
            "_view_name": "HBoxView",
            "box_style": "",
            "children": [
              "IPY_MODEL_b0a553115d16481b85d3e97f153d863a",
              "IPY_MODEL_31497a9c8d6747e5a9afc199260f0a65",
              "IPY_MODEL_b3442360040d4af9b803ceba5d2064e5"
            ],
            "layout": "IPY_MODEL_d85c391b4c3b446f975c26dc249e5941"
          }
        },
        "e145959439f7491db98da8e193711377": {
          "model_module": "@jupyter-widgets/controls",
          "model_module_version": "1.5.0",
          "model_name": "HTMLModel",
          "state": {
            "_dom_classes": [],
            "_model_module": "@jupyter-widgets/controls",
            "_model_module_version": "1.5.0",
            "_model_name": "HTMLModel",
            "_view_count": null,
            "_view_module": "@jupyter-widgets/controls",
            "_view_module_version": "1.5.0",
            "_view_name": "HTMLView",
            "description": "",
            "description_tooltip": null,
            "layout": "IPY_MODEL_534e0bb80c474795a098c5740b1a4bd8",
            "placeholder": "​",
            "style": "IPY_MODEL_5e7d0a608463463b90b9ee7002738ab2",
            "value": " 232k/232k [00:00&lt;00:00, 3.43MB/s]"
          }
        },
        "e1d7fbe6f7534c979d4bf0abdb96247d": {
          "model_module": "@jupyter-widgets/controls",
          "model_module_version": "1.5.0",
          "model_name": "DescriptionStyleModel",
          "state": {
            "_model_module": "@jupyter-widgets/controls",
            "_model_module_version": "1.5.0",
            "_model_name": "DescriptionStyleModel",
            "_view_count": null,
            "_view_module": "@jupyter-widgets/base",
            "_view_module_version": "1.2.0",
            "_view_name": "StyleView",
            "description_width": ""
          }
        },
        "e312f6496a14464b90f1b06fd021f07e": {
          "model_module": "@jupyter-widgets/base",
          "model_module_version": "1.2.0",
          "model_name": "LayoutModel",
          "state": {
            "_model_module": "@jupyter-widgets/base",
            "_model_module_version": "1.2.0",
            "_model_name": "LayoutModel",
            "_view_count": null,
            "_view_module": "@jupyter-widgets/base",
            "_view_module_version": "1.2.0",
            "_view_name": "LayoutView",
            "align_content": null,
            "align_items": null,
            "align_self": null,
            "border": null,
            "bottom": null,
            "display": null,
            "flex": null,
            "flex_flow": null,
            "grid_area": null,
            "grid_auto_columns": null,
            "grid_auto_flow": null,
            "grid_auto_rows": null,
            "grid_column": null,
            "grid_gap": null,
            "grid_row": null,
            "grid_template_areas": null,
            "grid_template_columns": null,
            "grid_template_rows": null,
            "height": null,
            "justify_content": null,
            "justify_items": null,
            "left": null,
            "margin": null,
            "max_height": null,
            "max_width": null,
            "min_height": null,
            "min_width": null,
            "object_fit": null,
            "object_position": null,
            "order": null,
            "overflow": null,
            "overflow_x": null,
            "overflow_y": null,
            "padding": null,
            "right": null,
            "top": null,
            "visibility": null,
            "width": null
          }
        },
        "e690d2fc4af844ab81da3538ea46e797": {
          "model_module": "@jupyter-widgets/base",
          "model_module_version": "1.2.0",
          "model_name": "LayoutModel",
          "state": {
            "_model_module": "@jupyter-widgets/base",
            "_model_module_version": "1.2.0",
            "_model_name": "LayoutModel",
            "_view_count": null,
            "_view_module": "@jupyter-widgets/base",
            "_view_module_version": "1.2.0",
            "_view_name": "LayoutView",
            "align_content": null,
            "align_items": null,
            "align_self": null,
            "border": null,
            "bottom": null,
            "display": null,
            "flex": null,
            "flex_flow": null,
            "grid_area": null,
            "grid_auto_columns": null,
            "grid_auto_flow": null,
            "grid_auto_rows": null,
            "grid_column": null,
            "grid_gap": null,
            "grid_row": null,
            "grid_template_areas": null,
            "grid_template_columns": null,
            "grid_template_rows": null,
            "height": null,
            "justify_content": null,
            "justify_items": null,
            "left": null,
            "margin": null,
            "max_height": null,
            "max_width": null,
            "min_height": null,
            "min_width": null,
            "object_fit": null,
            "object_position": null,
            "order": null,
            "overflow": null,
            "overflow_x": null,
            "overflow_y": null,
            "padding": null,
            "right": null,
            "top": null,
            "visibility": null,
            "width": null
          }
        },
        "e83842ac7e5c499b90cf8657f38d5027": {
          "model_module": "@jupyter-widgets/controls",
          "model_module_version": "1.5.0",
          "model_name": "HTMLModel",
          "state": {
            "_dom_classes": [],
            "_model_module": "@jupyter-widgets/controls",
            "_model_module_version": "1.5.0",
            "_model_name": "HTMLModel",
            "_view_count": null,
            "_view_module": "@jupyter-widgets/controls",
            "_view_module_version": "1.5.0",
            "_view_name": "HTMLView",
            "description": "",
            "description_tooltip": null,
            "layout": "IPY_MODEL_70551794bd574608bc8363938394bc66",
            "placeholder": "​",
            "style": "IPY_MODEL_6fcb866af163499ea60c65557d64735c",
            "value": " 570/570 [00:00&lt;00:00, 15.0kB/s]"
          }
        },
        "e99af2dc00cf41f9ac1081eae97f0a5d": {
          "model_module": "@jupyter-widgets/base",
          "model_module_version": "1.2.0",
          "model_name": "LayoutModel",
          "state": {
            "_model_module": "@jupyter-widgets/base",
            "_model_module_version": "1.2.0",
            "_model_name": "LayoutModel",
            "_view_count": null,
            "_view_module": "@jupyter-widgets/base",
            "_view_module_version": "1.2.0",
            "_view_name": "LayoutView",
            "align_content": null,
            "align_items": null,
            "align_self": null,
            "border": null,
            "bottom": null,
            "display": null,
            "flex": null,
            "flex_flow": null,
            "grid_area": null,
            "grid_auto_columns": null,
            "grid_auto_flow": null,
            "grid_auto_rows": null,
            "grid_column": null,
            "grid_gap": null,
            "grid_row": null,
            "grid_template_areas": null,
            "grid_template_columns": null,
            "grid_template_rows": null,
            "height": null,
            "justify_content": null,
            "justify_items": null,
            "left": null,
            "margin": null,
            "max_height": null,
            "max_width": null,
            "min_height": null,
            "min_width": null,
            "object_fit": null,
            "object_position": null,
            "order": null,
            "overflow": null,
            "overflow_x": null,
            "overflow_y": null,
            "padding": null,
            "right": null,
            "top": null,
            "visibility": null,
            "width": null
          }
        },
        "f4031f6434d24e3282ff24d08183ab20": {
          "model_module": "@jupyter-widgets/controls",
          "model_module_version": "1.5.0",
          "model_name": "DescriptionStyleModel",
          "state": {
            "_model_module": "@jupyter-widgets/controls",
            "_model_module_version": "1.5.0",
            "_model_name": "DescriptionStyleModel",
            "_view_count": null,
            "_view_module": "@jupyter-widgets/base",
            "_view_module_version": "1.2.0",
            "_view_name": "StyleView",
            "description_width": ""
          }
        },
        "fa33239b34a248369f3046fd040886ca": {
          "model_module": "@jupyter-widgets/base",
          "model_module_version": "1.2.0",
          "model_name": "LayoutModel",
          "state": {
            "_model_module": "@jupyter-widgets/base",
            "_model_module_version": "1.2.0",
            "_model_name": "LayoutModel",
            "_view_count": null,
            "_view_module": "@jupyter-widgets/base",
            "_view_module_version": "1.2.0",
            "_view_name": "LayoutView",
            "align_content": null,
            "align_items": null,
            "align_self": null,
            "border": null,
            "bottom": null,
            "display": null,
            "flex": null,
            "flex_flow": null,
            "grid_area": null,
            "grid_auto_columns": null,
            "grid_auto_flow": null,
            "grid_auto_rows": null,
            "grid_column": null,
            "grid_gap": null,
            "grid_row": null,
            "grid_template_areas": null,
            "grid_template_columns": null,
            "grid_template_rows": null,
            "height": null,
            "justify_content": null,
            "justify_items": null,
            "left": null,
            "margin": null,
            "max_height": null,
            "max_width": null,
            "min_height": null,
            "min_width": null,
            "object_fit": null,
            "object_position": null,
            "order": null,
            "overflow": null,
            "overflow_x": null,
            "overflow_y": null,
            "padding": null,
            "right": null,
            "top": null,
            "visibility": null,
            "width": null
          }
        },
        "fa60255f3e664f38ab438a46c351085f": {
          "model_module": "@jupyter-widgets/controls",
          "model_module_version": "1.5.0",
          "model_name": "HTMLModel",
          "state": {
            "_dom_classes": [],
            "_model_module": "@jupyter-widgets/controls",
            "_model_module_version": "1.5.0",
            "_model_name": "HTMLModel",
            "_view_count": null,
            "_view_module": "@jupyter-widgets/controls",
            "_view_module_version": "1.5.0",
            "_view_name": "HTMLView",
            "description": "",
            "description_tooltip": null,
            "layout": "IPY_MODEL_24e14a40a8264d039614ceca4092a331",
            "placeholder": "​",
            "style": "IPY_MODEL_e1d7fbe6f7534c979d4bf0abdb96247d",
            "value": "vocab.txt: 100%"
          }
        }
      }
    }
  },
  "nbformat": 4,
  "nbformat_minor": 0
}
