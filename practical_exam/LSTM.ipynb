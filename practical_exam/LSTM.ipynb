{
  "nbformat": 4,
  "nbformat_minor": 0,
  "metadata": {
    "colab": {
      "provenance": [],
      "gpuType": "T4"
    },
    "kernelspec": {
      "name": "python3",
      "display_name": "Python 3"
    },
    "language_info": {
      "name": "python"
    },
    "accelerator": "GPU"
  },
  "cells": [
    {
      "cell_type": "code",
      "execution_count": 1,
      "metadata": {
        "id": "QqVpo8sHcvxL"
      },
      "outputs": [],
      "source": [
        "from tensorflow.keras.datasets import imdb\n",
        "from tensorflow.keras.preprocessing.sequence import pad_sequences\n",
        "from tensorflow.keras.models import Sequential\n",
        "from tensorflow.keras.layers import Embedding, LSTM, Dense\n",
        "from tensorflow.keras.optimizers import Adam\n",
        "import numpy as np"
      ]
    },
    {
      "cell_type": "code",
      "source": [
        "# keras.datasets.imdb.load_data(\n",
        "#     path=\"imdb.npz\",\n",
        "#     num_words=None,\n",
        "#     skip_top=0,\n",
        "#     maxlen=None,\n",
        "#     seed=113,\n",
        "#     start_char=1,\n",
        "#     oov_char=2,\n",
        "#     index_from=3,\n",
        "#     **kwargs\n",
        "# )\n",
        "\n",
        "# Load the IMDB dataset\n",
        "max_features = 5000\n",
        "(x_train, y_train), (x_test, y_test) = imdb.load_data(num_words=max_features)"
      ],
      "metadata": {
        "colab": {
          "base_uri": "https://localhost:8080/"
        },
        "id": "MpTm_TqQd6Hh",
        "outputId": "18ace454-e8fd-41b8-fd05-82e373ffc533"
      },
      "execution_count": 2,
      "outputs": [
        {
          "output_type": "stream",
          "name": "stdout",
          "text": [
            "Downloading data from https://storage.googleapis.com/tensorflow/tf-keras-datasets/imdb.npz\n",
            "17464789/17464789 [==============================] - 1s 0us/step\n"
          ]
        }
      ]
    },
    {
      "cell_type": "code",
      "source": [
        "print(f\"{len(x_train)}\")\n",
        "print(f\"{len(x_test)}\")"
      ],
      "metadata": {
        "colab": {
          "base_uri": "https://localhost:8080/"
        },
        "id": "gfXzUy9AeQ__",
        "outputId": "b0126e75-23e9-41e5-ffa2-4dfc84d41b65"
      },
      "execution_count": 3,
      "outputs": [
        {
          "output_type": "stream",
          "name": "stdout",
          "text": [
            "25000\n",
            "25000\n"
          ]
        }
      ]
    },
    {
      "cell_type": "code",
      "source": [
        "padding_size = 200\n",
        "\n",
        "x_train = pad_sequences(x_train, maxlen=padding_size)\n",
        "x_test = pad_sequences(x_test, maxlen=padding_size)\n",
        "print(f\"x_train shape: {x_train.shape}\")\n",
        "print(f\"x_test shape: {x_test.shape}\")"
      ],
      "metadata": {
        "colab": {
          "base_uri": "https://localhost:8080/"
        },
        "id": "efpGTvNpeeDO",
        "outputId": "594b922e-6036-459b-b0e0-0fb35366ba45"
      },
      "execution_count": 4,
      "outputs": [
        {
          "output_type": "stream",
          "name": "stdout",
          "text": [
            "x_train shape: (25000, 200)\n",
            "x_test shape: (25000, 200)\n"
          ]
        }
      ]
    },
    {
      "cell_type": "code",
      "source": [
        "# Define model architecture\n",
        "model = Sequential()\n",
        "model.add(Embedding(max_features, 32, input_length=padding_size))\n",
        "# keras.layers.Embedding(\n",
        "#     input_dim,\n",
        "#     output_dim,\n",
        "#     embeddings_initializer=\"uniform\",\n",
        "#     embeddings_regularizer=None,\n",
        "#     embeddings_constraint=None,\n",
        "#     mask_zero=False,\n",
        "#     weights=None,\n",
        "#     lora_rank=None,\n",
        "#     **kwargs\n",
        "# )\n",
        "model.add(LSTM(100))\n",
        "model.add(Dense(1, activation='sigmoid'))"
      ],
      "metadata": {
        "id": "Sa63zi5Sei7M"
      },
      "execution_count": 7,
      "outputs": []
    },
    {
      "cell_type": "code",
      "source": [
        "# Compile model\n",
        "model.compile(optimizer=Adam(), loss='binary_crossentropy', metrics=['accuracy'])"
      ],
      "metadata": {
        "id": "Jvm9xH5JepT_"
      },
      "execution_count": 8,
      "outputs": []
    },
    {
      "cell_type": "code",
      "source": [
        "# Train model\n",
        "model.fit(x_train, y_train, epochs=1, batch_size=32, validation_split=0.2)"
      ],
      "metadata": {
        "colab": {
          "base_uri": "https://localhost:8080/"
        },
        "id": "VuN3ALogerp7",
        "outputId": "7edec6cc-323c-49af-e7bb-c2a0447f3c4f"
      },
      "execution_count": 9,
      "outputs": [
        {
          "output_type": "stream",
          "name": "stdout",
          "text": [
            "625/625 [==============================] - 43s 64ms/step - loss: 0.4586 - accuracy: 0.7782 - val_loss: 0.3411 - val_accuracy: 0.8578\n"
          ]
        },
        {
          "output_type": "execute_result",
          "data": {
            "text/plain": [
              "<keras.src.callbacks.History at 0x783a4dc2d0c0>"
            ]
          },
          "metadata": {},
          "execution_count": 9
        }
      ]
    },
    {
      "cell_type": "code",
      "source": [
        "# Evaluate model on the test data\n",
        "loss, accuracy = model.evaluate(x_test, y_test)\n",
        "print(f\"Test loss: {loss}\")\n",
        "print(f\"Test accuracy: {accuracy}\")"
      ],
      "metadata": {
        "colab": {
          "base_uri": "https://localhost:8080/"
        },
        "id": "Ojl8UMFadrTk",
        "outputId": "ef6a1543-5211-4b9c-d9a1-4eb3afd30fc5"
      },
      "execution_count": 10,
      "outputs": [
        {
          "output_type": "stream",
          "name": "stdout",
          "text": [
            "782/782 [==============================] - 4s 5ms/step - loss: 0.3433 - accuracy: 0.8549\n",
            "Test loss: 0.3433322310447693\n",
            "Test accuracy: 0.8548799753189087\n"
          ]
        }
      ]
    },
    {
      "cell_type": "code",
      "source": [],
      "metadata": {
        "id": "MeYsCTH7fHDv"
      },
      "execution_count": null,
      "outputs": []
    }
  ]
}