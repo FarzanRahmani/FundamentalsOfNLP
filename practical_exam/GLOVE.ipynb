{
  "cells": [
    {
      "cell_type": "code",
      "execution_count": 1,
      "metadata": {
        "id": "dkSKfF3szkCF",
        "colab": {
          "base_uri": "https://localhost:8080/"
        },
        "outputId": "1024bb9a-4a99-4cd3-d70c-81d5c464ecb0"
      },
      "outputs": [
        {
          "output_type": "stream",
          "name": "stdout",
          "text": [
            "[==================================================] 100.0% 252.1/252.1MB downloaded\n"
          ]
        }
      ],
      "source": [
        "import gensim.downloader as api\n",
        "import pprint\n",
        "\n",
        "wv_from_bin = api.load(\"glove-wiki-gigaword-200\")"
      ]
    },
    {
      "cell_type": "markdown",
      "metadata": {
        "id": "juRI9id25xP5"
      },
      "source": [
        "### <font color=\"red\"> Using analogies, go from 'studnet' to 'book' </font>"
      ]
    },
    {
      "cell_type": "markdown",
      "metadata": {
        "id": "sCqQv-G-6OpH"
      },
      "source": [
        "#### Hint: King - Man + Woman = Queen"
      ]
    },
    {
      "cell_type": "code",
      "execution_count": null,
      "metadata": {
        "id": "kx2za4QrzyBW"
      },
      "outputs": [],
      "source": [
        "# # Run this cell to answer the analogy -- singer : album :: student : x\n",
        "# # we want x be book\n",
        "# # x = album - singer + student = +album -singer +student --> positive=['album', 'student'], negative=['singer']\n",
        "# pprint.pprint(wv_from_bin.most_similar(positive=['album', 'student'], negative=['singer']))"
      ]
    },
    {
      "cell_type": "code",
      "source": [
        "# pprint.pprint(wv_from_bin.most_similar(positive=['game', 'student'], negative=['player']))"
      ],
      "metadata": {
        "id": "qeZ4Q3TPjb2t"
      },
      "execution_count": null,
      "outputs": []
    },
    {
      "cell_type": "code",
      "source": [
        "# Run this cell to answer the analogy -- school : books :: student : x\n",
        "# we want x be book\n",
        "# # x = books - school + student = +books -school +student --> positive=['books', 'student'], negative=['school']\n",
        "pprint.pprint(wv_from_bin.most_similar(positive=['books', 'student'], negative=['school']))"
      ],
      "metadata": {
        "colab": {
          "base_uri": "https://localhost:8080/"
        },
        "id": "JsmAKLrRjPwB",
        "outputId": "e680dcb6-993d-4fba-c9b8-dba02b7b1fce"
      },
      "execution_count": 22,
      "outputs": [
        {
          "output_type": "stream",
          "name": "stdout",
          "text": [
            "[('book', 0.6700026988983154),\n",
            " ('essays', 0.6412398219108582),\n",
            " ('articles', 0.6047115921974182),\n",
            " ('publications', 0.594555139541626),\n",
            " ('author', 0.5856019258499146),\n",
            " ('pages', 0.5687443614006042),\n",
            " ('write', 0.5585988759994507),\n",
            " ('journals', 0.5423019528388977),\n",
            " ('novels', 0.5385445952415466),\n",
            " ('magazines', 0.5380344986915588)]\n"
          ]
        }
      ]
    },
    {
      "cell_type": "markdown",
      "metadata": {
        "id": "7ukjHwjI6ZbJ"
      },
      "source": [
        "### <font color=\"red\"> Using analogies, find some gender biases learned by model from corpus regarding 'job'</font>"
      ]
    },
    {
      "cell_type": "markdown",
      "metadata": {
        "id": "mE2NIj8ycz7x"
      },
      "source": [
        "#### Hint: Which jobs assigned to women and which jobs assigned to men?"
      ]
    },
    {
      "cell_type": "code",
      "source": [
        "# x = profession + (man - woman)\n",
        "pprint.pprint(wv_from_bin.most_similar(positive=['man', 'profession'], negative=['woman']))\n",
        "print()\n",
        "# x = profession + (woman - man)\n",
        "pprint.pprint(wv_from_bin.most_similar(positive=['woman', 'profession'], negative=['man']))"
      ],
      "metadata": {
        "colab": {
          "base_uri": "https://localhost:8080/"
        },
        "id": "xbV7Uh0VXsN3",
        "outputId": "33ab45d6-fc0b-406e-b764-fa0a15159b01"
      },
      "execution_count": 4,
      "outputs": [
        {
          "output_type": "stream",
          "name": "stdout",
          "text": [
            "[('reputation', 0.5250176787376404),\n",
            " ('professions', 0.5178037881851196),\n",
            " ('skill', 0.49046966433525085),\n",
            " ('skills', 0.49005505442619324),\n",
            " ('ethic', 0.4897659420967102),\n",
            " ('business', 0.4875852167606354),\n",
            " ('respected', 0.485920250415802),\n",
            " ('practice', 0.482104629278183),\n",
            " ('regarded', 0.4778572618961334),\n",
            " ('life', 0.4760662019252777)]\n",
            "\n",
            "[('professions', 0.5957457423210144),\n",
            " ('practitioner', 0.49884122610092163),\n",
            " ('teaching', 0.48292139172554016),\n",
            " ('nursing', 0.48211804032325745),\n",
            " ('vocation', 0.4788965880870819),\n",
            " ('teacher', 0.47160351276397705),\n",
            " ('practicing', 0.46937814354896545),\n",
            " ('educator', 0.46524327993392944),\n",
            " ('physicians', 0.4628995358943939),\n",
            " ('professionals', 0.4601394236087799)]\n"
          ]
        }
      ]
    },
    {
      "cell_type": "code",
      "execution_count": 5,
      "metadata": {
        "colab": {
          "base_uri": "https://localhost:8080/"
        },
        "id": "hbe5N3cYWOCC",
        "outputId": "812ed2a7-86af-417b-9a88-0353a36324ef"
      },
      "outputs": [
        {
          "output_type": "stream",
          "name": "stdout",
          "text": [
            "[('good', 0.6235801577568054),\n",
            " ('jobs', 0.6217116713523865),\n",
            " ('work', 0.6072925329208374),\n",
            " ('better', 0.5992015600204468),\n",
            " ('doing', 0.5963488221168518),\n",
            " ('he', 0.5912371277809143),\n",
            " ('done', 0.5905477404594421),\n",
            " ('going', 0.5766876935958862),\n",
            " ('working', 0.5572508573532104),\n",
            " ('but', 0.5560905933380127)]\n",
            "\n",
            "[('jobs', 0.6508916616439819),\n",
            " ('she', 0.5962086915969849),\n",
            " ('employment', 0.5889442563056946),\n",
            " ('hiring', 0.5646025538444519),\n",
            " ('her', 0.5634142756462097),\n",
            " ('worker', 0.5537095069885254),\n",
            " ('employees', 0.5448188781738281),\n",
            " ('herself', 0.5337908267974854),\n",
            " ('working', 0.5294958353042603),\n",
            " ('workers', 0.5235779285430908)]\n"
          ]
        }
      ],
      "source": [
        "# x = job + (man - woman)\n",
        "pprint.pprint(wv_from_bin.most_similar(positive=['man', 'job'], negative=['woman']))\n",
        "print()\n",
        "# x = job + (woman - man)\n",
        "pprint.pprint(wv_from_bin.most_similar(positive=['woman', 'job'], negative=['man']))"
      ]
    },
    {
      "cell_type": "code",
      "execution_count": 6,
      "metadata": {
        "id": "spnOqmU34GRA",
        "colab": {
          "base_uri": "https://localhost:8080/"
        },
        "outputId": "77b62210-d7ad-4674-ef4c-fc5516fafdbe"
      },
      "outputs": [
        {
          "output_type": "stream",
          "name": "stdout",
          "text": [
            "[('dr.', 0.5486297011375427),\n",
            " ('physician', 0.5327187776565552),\n",
            " ('he', 0.5275285243988037),\n",
            " ('him', 0.5230658054351807),\n",
            " ('himself', 0.5116503238677979),\n",
            " ('medical', 0.5046804547309875),\n",
            " ('his', 0.5044267177581787),\n",
            " ('brother', 0.503484845161438),\n",
            " ('surgeon', 0.5005415678024292),\n",
            " ('mr.', 0.4938008189201355)]\n",
            "\n",
            "[('nurse', 0.6813318729400635),\n",
            " ('physician', 0.6672453284263611),\n",
            " ('doctors', 0.6173422336578369),\n",
            " ('dentist', 0.5775880217552185),\n",
            " ('surgeon', 0.5691418647766113),\n",
            " ('hospital', 0.564996600151062),\n",
            " ('pregnant', 0.5649074912071228),\n",
            " ('nurses', 0.5590692758560181),\n",
            " ('medical', 0.5542059540748596),\n",
            " ('patient', 0.5518484711647034)]\n"
          ]
        }
      ],
      "source": [
        "A = \"man\"\n",
        "B = \"woman\"\n",
        "word = \"doctor\"\n",
        "pprint.pprint(wv_from_bin.most_similar(positive=[A, word], negative=[B])) # x = doctor + (man - woman)\n",
        "print()\n",
        "pprint.pprint(wv_from_bin.most_similar(positive=[B, word], negative=[A])) # x = doctor + (woman - man)"
      ]
    },
    {
      "cell_type": "code",
      "source": [],
      "metadata": {
        "id": "vOUY88VJX4mu"
      },
      "execution_count": null,
      "outputs": []
    }
  ],
  "metadata": {
    "colab": {
      "provenance": []
    },
    "kernelspec": {
      "display_name": "Python 3",
      "name": "python3"
    },
    "language_info": {
      "name": "python",
      "version": "3.10.6"
    }
  },
  "nbformat": 4,
  "nbformat_minor": 0
}