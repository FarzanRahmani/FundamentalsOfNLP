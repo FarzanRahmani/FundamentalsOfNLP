{
  "cells": [
    {
      "cell_type": "code",
      "execution_count": null,
      "metadata": {
        "id": "dkSKfF3szkCF"
      },
      "outputs": [],
      "source": [
        "import gensim.downloader as api\n",
        "import pprint\n",
        "\n",
        "wv_from_bin = api.load(\"glove-wiki-gigaword-200\")"
      ]
    },
    {
      "cell_type": "markdown",
      "metadata": {
        "id": "juRI9id25xP5"
      },
      "source": [
        "### <font color=\"red\"> Using analogies, go from 'studnet' to 'book' </font>"
      ]
    },
    {
      "cell_type": "markdown",
      "metadata": {
        "id": "sCqQv-G-6OpH"
      },
      "source": [
        "#### Hint: King - Man + Woman = Queen"
      ]
    },
    {
      "cell_type": "code",
      "execution_count": null,
      "metadata": {
        "id": "kx2za4QrzyBW"
      },
      "outputs": [],
      "source": [
        "# Run this cell to answer the analogy -- author : story :: student : x \n",
        "# we want x be book\n",
        "# x = story - author + student = +story -author +student --> positive=['story', 'student'], negative=['author']\n",
        "pprint.pprint(wv_from_bin.most_similar(positive=['story', 'student'], negative=['author']))"
      ]
    },
    {
      "cell_type": "markdown",
      "metadata": {
        "id": "7ukjHwjI6ZbJ"
      },
      "source": [
        "### <font color=\"red\"> Using analogies, find some gender biases learned by model from corpus regarding 'job'</font>"
      ]
    },
    {
      "cell_type": "markdown",
      "metadata": {
        "id": "mE2NIj8ycz7x"
      },
      "source": [
        "#### Hint: Which jobs assigned to women and which jobs assigned to men?"
      ]
    },
    {
      "cell_type": "code",
      "execution_count": null,
      "metadata": {},
      "outputs": [],
      "source": [
        "# x = profession + (man - woman)\n",
        "# x = job + (man - woman)\n",
        "pprint.pprint(wv_from_bin.most_similar(positive=['man', 'job'], negative=['woman']))\n",
        "print()\n",
        "# x = job + (woman - man)\n",
        "pprint.pprint(wv_from_bin.most_similar(positive=['woman', 'job'], negative=['man']))"
      ]
    },
    {
      "cell_type": "code",
      "execution_count": null,
      "metadata": {
        "id": "spnOqmU34GRA"
      },
      "outputs": [],
      "source": [
        "A = \"man\"\n",
        "B = \"woman\"\n",
        "word = \"doctor\"\n",
        "pprint.pprint(wv_from_bin.most_similar(positive=[A, word], negative=[B])) # x = doctor + (man - woman)\n",
        "print()\n",
        "pprint.pprint(wv_from_bin.most_similar(positive=[B, word], negative=[A])) # x = doctor + (woman - man)"
      ]
    }
  ],
  "metadata": {
    "colab": {
      "provenance": []
    },
    "kernelspec": {
      "display_name": "Python 3",
      "name": "python3"
    },
    "language_info": {
      "name": "python",
      "version": "3.10.6"
    }
  },
  "nbformat": 4,
  "nbformat_minor": 0
}
